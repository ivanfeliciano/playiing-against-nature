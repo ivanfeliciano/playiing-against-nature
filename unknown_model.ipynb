{
 "cells": [
  {
   "cell_type": "code",
   "execution_count": 1,
   "metadata": {},
   "outputs": [],
   "source": [
    "import itertools\n",
    "from copy import deepcopy, copy\n",
    "\n",
    "import numpy as np\n",
    "import networkx as nx\n",
    "from pgmpy.models import BayesianModel\n",
    "from pgmpy.factors.discrete import TabularCPD\n",
    "from pgmpy.inference import VariableElimination\n",
    "from scipy.stats import beta, dirichlet\n",
    "import matplotlib.pyplot as plt\n",
    "import pandas as pd\n",
    "\n",
    "\n",
    "from model import BaseModel\n",
    "from true_causal_model import TrueCausalModel\n",
    "from agents.causal_agents import HalfBlindAgent\n",
    "\n",
    "%matplotlib inline\n",
    "np.random.seed(0)"
   ]
  },
  {
   "cell_type": "code",
   "execution_count": 2,
   "metadata": {},
   "outputs": [],
   "source": [
    "def is_a_valid_edge(x, y, causal_order, invalid_edges):\n",
    "    if tuple(sorted((x, y))) in invalid_edges or causal_order.index(y) < causal_order.index(x):\n",
    "        return False\n",
    "    return True"
   ]
  },
  {
   "cell_type": "code",
   "execution_count": 3,
   "metadata": {},
   "outputs": [],
   "source": [
    "def create_pij(variables, causal_order, invalid_edges):\n",
    "    connection_tables = dict()\n",
    "    for pair in itertools.combinations((variables), 2):\n",
    "        proba = np.random.rand()\n",
    "        if is_a_valid_edge(pair[0], pair[1], causal_order, invalid_edges):\n",
    "            connection_tables[\"{}->{}\".format(pair[0], pair[1])] = proba\n",
    "        elif is_a_valid_edge(pair[1], pair[0], causal_order, invalid_edges):\n",
    "            connection_tables[\"{}->{}\".format(pair[1], pair[0])] = proba\n",
    "    return connection_tables\n",
    "def create_ebunch_from_beliefs(variables, connection_tables):\n",
    "    ebunch = []\n",
    "    for pair in connection_tables:\n",
    "        r = np.random.rand()\n",
    "        if r <= connection_tables[pair]:\n",
    "            ebunch.append((pair.split('->')[0], pair.split('->')[1]))\n",
    "    nodes = []\n",
    "    for v in variables:\n",
    "        flag = False\n",
    "        for edge in ebunch:\n",
    "            if v in edge:\n",
    "                flag = True\n",
    "                break\n",
    "        if not flag:\n",
    "            nodes.append(v)\n",
    "    return ebunch, nodes\n",
    "def combine_tables_and_create_model(effect, incomplete_dag, complete_model, incomplete_model):\n",
    "    new_pgmodel = BayesianModel()\n",
    "    new_pgmodel.add_edges_from(incomplete_dag.edges)\n",
    "    new_pgmodel.add_nodes_from(incomplete_dag.nodes)\n",
    "    for cpd in complete_model.pgmodel.get_cpds():\n",
    "        if cpd.variable != effect:\n",
    "            new_pgmodel.add_cpds(cpd)\n",
    "    for cpd in incomplete_model.pgmodel.get_cpds():\n",
    "        if cpd.variable == effect:\n",
    "            new_pgmodel.add_cpds(cpd)\n",
    "            break\n",
    "    model_without_edge = deepcopy(complete_model)\n",
    "    model_without_edge.pgmodel = new_pgmodel\n",
    "    model_without_edge.update_infer_system()\n",
    "    return model_without_edge"
   ]
  },
  {
   "cell_type": "code",
   "execution_count": 4,
   "metadata": {},
   "outputs": [],
   "source": [
    "def update_connection_beliefs(variables, connection_tables, model, nature_response):\n",
    "    for pair in connection_tables:\n",
    "        cause = pair.split(\"->\")[0]\n",
    "        effect = pair.split(\"->\")[1]\n",
    "        \n",
    "        # Crea una copia del PGM y elimino la causa\n",
    "        incomplete_model = deepcopy(model)\n",
    "        incomplete_model.pgmodel.remove_nodes_from([cause])\n",
    "        # Copia el DAG y elimino la arista causa -> efecto si está presente\n",
    "        incomplete_dag = deepcopy(model.digraph)\n",
    "        \n",
    "        if incomplete_dag.has_edge(*(cause, effect)):\n",
    "            incomplete_dag.remove_edge(cause, effect)\n",
    "\n",
    "        # Crea un nuevo modelo sin la conexión\n",
    "        model_without_ij = combine_tables_and_create_model(effect, incomplete_dag, model, incomplete_model)\n",
    "        # Copia el modelo que tiene \n",
    "        model_with_ij = deepcopy(model)\n",
    "        # Calcula las probabilidades de observación dados los modelos\n",
    "        p_sub = model_with_ij.get_joint_prob_observation(nature_response)\n",
    "        p_complement = model_without_ij.get_joint_prob_observation(nature_response)\n",
    "#         if cause == \"Enfermedad\" and effect == \"Reaccion\":\n",
    "        print(pair, p_sub, p_complement)\n",
    "        # Actualiza probabilidad de conexión\n",
    "        connection_tables[pair] = (connection_tables[pair] * p_sub) / (p_sub * connection_tables[pair] + p_complement * (1 - connection_tables[pair]))\n",
    "    return connection_tables"
   ]
  },
  {
   "cell_type": "code",
   "execution_count": 5,
   "metadata": {},
   "outputs": [],
   "source": [
    "def plot_probabilities(connection_probas):\n",
    "    for pair in connection_probas:\n",
    "        plt.plot(connection_probas[pair], label=pair)\n",
    "    plt.legend()\n",
    "    plt.show()"
   ]
  },
  {
   "cell_type": "code",
   "execution_count": 6,
   "metadata": {},
   "outputs": [],
   "source": [
    "def print_dict(data):\n",
    "    for k in data:\n",
    "        print(\"{} : {}\".format(k, data[k]))"
   ]
  },
  {
   "cell_type": "code",
   "execution_count": 7,
   "metadata": {},
   "outputs": [],
   "source": [
    "def generate_data(intervention_vars, n_steps=100):\n",
    "    data_dict = dict()\n",
    "    for i in range(n_steps):\n",
    "        best_actions = np.random.randint(2, size=1)\n",
    "        obs = nature.action_simulator(intervention_vars, best_actions)\n",
    "        for k in obs:\n",
    "            if k not in data_dict:\n",
    "                data_dict[k] = []\n",
    "            data_dict[k].append(obs[k])\n",
    "    return data_dict\n",
    "def update_prob_measures(connection_probas, connection_tables):\n",
    "    for k in connection_tables:\n",
    "        if k not in connection_probas:\n",
    "            connection_probas[k] = []\n",
    "        connection_probas[k] += [connection_tables[k]]\n",
    "def generate_approx_model_from_graph(ebunch, nodes, df):\n",
    "    approx_model = BayesianModel(ebunch)\n",
    "    approx_model.add_nodes_from(nodes)\n",
    "    approx_model.fit(df)\n",
    "    return approx_model\n",
    "\n",
    "def training(rounds, agent, unknown_model, connection_tables, data, complete_model):\n",
    "    intervention_vars = agent.model.get_intervention_variables()\n",
    "    connection_probas = dict()\n",
    "    update_prob_measures(connection_probas, connection_tables)\n",
    "    local_data = deepcopy(data)\n",
    "    for rnd in range(rounds):\n",
    "#         unknown_model.show_graph()\n",
    "        print_dict(connection_tables)\n",
    "        best_actions = agent.make_decision(target, intervention_vars)\n",
    "        nature_response = agent.nature.action_simulator(intervention_vars, best_actions)\n",
    "        agent.rewards_per_round.append(nature_response[target[\"variable\"]])\n",
    "        connection_tables = update_connection_beliefs(variables, connection_tables, unknown_model, nature_response)\n",
    "        update_prob_measures(connection_probas, connection_tables)\n",
    "        \n",
    "        for k in nature_response:\n",
    "            local_data[k].append(nature_response[k])\n",
    "        df = pd.DataFrame.from_dict(local_data)\n",
    "        \n",
    "        ebunch, nodes = create_ebunch_from_beliefs(variables, connection_tables)\n",
    "        \n",
    "        approx_model = generate_approx_model_from_graph(ebunch, nodes, df)\n",
    "        unknown_model.reset(approx_model, ebunch, nodes)\n",
    "        agent = HalfBlindAgent(nature, unknown_model)\n",
    "    return connection_probas"
   ]
  },
  {
   "cell_type": "markdown",
   "metadata": {},
   "source": [
    "## Aprendizaje"
   ]
  },
  {
   "cell_type": "code",
   "execution_count": 8,
   "metadata": {},
   "outputs": [
    {
     "name": "stderr",
     "output_type": "stream",
     "text": [
      "/home/ivan/Documentos/playing-against-nature/venv/lib/python3.7/site-packages/pgmpy/factors/discrete/CPD.py:504: UserWarning: Same ordering provided as current\n",
      "  warn(\"Same ordering provided as current\")\n"
     ]
    },
    {
     "name": "stdout",
     "output_type": "stream",
     "text": [
      "Enfermedad->Final : 0.039187792254320675\n",
      "Enfermedad->Reaccion : 0.2828069625764096\n",
      "Reaccion->Final : 0.29614019752214493\n",
      "Tratamiento->Final : 0.11872771895424405\n",
      "Tratamiento->Reaccion : 0.317983179393976\n"
     ]
    },
    {
     "data": {
      "image/png": "[encoded data removed]",
      "text/plain": [
       "<Figure size 432x288 with 1 Axes>"
      ]
     },
     "metadata": {},
     "output_type": "display_data"
    },
    {
     "name": "stderr",
     "output_type": "stream",
     "text": [
      "WARNING:root:Replacing existing CPD for Enfermedad\n",
      "WARNING:root:Replacing existing CPD for Reaccion\n",
      "WARNING:root:Replacing existing CPD for Tratamiento\n",
      "WARNING:root:Replacing existing CPD for Final\n",
      "WARNING:root:Replacing existing CPD for Tratamiento\n",
      "WARNING:root:Replacing existing CPD for Final\n",
      "WARNING:root:Replacing existing CPD for Reaccion\n",
      "WARNING:root:Replacing existing CPD for Enfermedad\n",
      "WARNING:root:Replacing existing CPD for Enfermedad\n",
      "WARNING:root:Replacing existing CPD for Reaccion\n",
      "WARNING:root:Replacing existing CPD for Final\n",
      "WARNING:root:Replacing existing CPD for Tratamiento\n"
     ]
    },
    {
     "name": "stdout",
     "output_type": "stream",
     "text": [
      "Enfermedad->Final : 0.039187792254320675\n",
      "Enfermedad->Reaccion : 0.2828069625764096\n",
      "Reaccion->Final : 0.29614019752214493\n",
      "Tratamiento->Final : 0.11872771895424405\n",
      "Tratamiento->Reaccion : 0.317983179393976\n",
      "Enfermedad->Final 0.1406 0.1406\n",
      "Enfermedad->Reaccion 0.1406 0.1406\n",
      "Reaccion->Final 0.1406 0.1406\n",
      "Tratamiento->Final 0.1406 0.1406\n",
      "Tratamiento->Reaccion 0.1406 0.0703\n",
      "Enfermedad->Final : 0.039187792254320675\n",
      "Enfermedad->Reaccion : 0.2828069625764096\n",
      "Reaccion->Final : 0.29614019752214493\n",
      "Tratamiento->Final : 0.11872771895424405\n",
      "Tratamiento->Reaccion : 0.4825299508605085\n",
      "Enfermedad->Final 0.2921953094963476 0.2921953094963476\n",
      "Enfermedad->Reaccion 0.2921953094963476 0.2921953094963476\n",
      "Reaccion->Final 0.2921953094963476 0.2921953094963476\n",
      "Tratamiento->Final 0.2921953094963476 0.1460976547481738\n",
      "Tratamiento->Reaccion 0.2921953094963476 0.1460976547481738\n",
      "Enfermedad->Final : 0.039187792254320675\n",
      "Enfermedad->Reaccion : 0.2828069625764096\n",
      "Reaccion->Final : 0.29614019752214493\n",
      "Tratamiento->Final : 0.21225489802867753\n",
      "Tratamiento->Reaccion : 0.6509547420346313\n"
     ]
    },
    {
     "name": "stderr",
     "output_type": "stream",
     "text": [
      "WARNING:root:Replacing existing CPD for Enfermedad\n",
      "WARNING:root:Replacing existing CPD for Reaccion\n",
      "WARNING:root:Replacing existing CPD for Final\n",
      "WARNING:root:Replacing existing CPD for Tratamiento\n",
      "WARNING:root:Replacing existing CPD for Tratamiento\n",
      "WARNING:root:Replacing existing CPD for Reaccion\n",
      "WARNING:root:Replacing existing CPD for Enfermedad\n",
      "WARNING:root:Replacing existing CPD for Final\n"
     ]
    },
    {
     "name": "stdout",
     "output_type": "stream",
     "text": [
      "Enfermedad->Final 0.08468223714155668 0.08468223714155668\n",
      "Enfermedad->Reaccion 0.08468223714155668 0.07863350591715978\n",
      "Reaccion->Final 0.08468223714155668 0.08468223714155668\n",
      "Tratamiento->Final 0.08468223714155668 0.08468223714155668\n",
      "Tratamiento->Reaccion 0.08468223714155668 0.08468223714155668\n",
      "Enfermedad->Final : 0.039187792254320675\n",
      "Enfermedad->Reaccion : 0.2980768663750697\n",
      "Reaccion->Final : 0.29614019752214493\n",
      "Tratamiento->Final : 0.21225489802867759\n",
      "Tratamiento->Reaccion : 0.6509547420346313\n",
      "Enfermedad->Final 0.012815948736205056 0.012815948736205056\n",
      "Enfermedad->Reaccion 0.012815948736205056 0.014044143823424704\n",
      "Reaccion->Final 0.012815948736205056 0.036311854752580995\n",
      "Tratamiento->Final 0.012815948736205056 0.012815948736205056\n",
      "Tratamiento->Reaccion 0.012815948736205056 0.012815948736205056\n",
      "Enfermedad->Final : 0.039187792254320675\n",
      "Enfermedad->Reaccion : 0.2792897085792051\n",
      "Reaccion->Final : 0.1292957349746224\n",
      "Tratamiento->Final : 0.21225489802867759\n",
      "Tratamiento->Reaccion : 0.6509547420346313\n",
      "Enfermedad->Final 0.16206879032667784 0.16206879032667784\n",
      "Enfermedad->Reaccion 0.16206879032667784 0.16206879032667784\n"
     ]
    },
    {
     "name": "stderr",
     "output_type": "stream",
     "text": [
      "WARNING:root:Replacing existing CPD for Enfermedad\n",
      "WARNING:root:Replacing existing CPD for Final\n",
      "WARNING:root:Replacing existing CPD for Reaccion\n",
      "WARNING:root:Replacing existing CPD for Tratamiento\n",
      "WARNING:root:Replacing existing CPD for Tratamiento\n",
      "WARNING:root:Replacing existing CPD for Reaccion\n",
      "WARNING:root:Replacing existing CPD for Enfermedad\n",
      "WARNING:root:Replacing existing CPD for Final\n"
     ]
    },
    {
     "name": "stdout",
     "output_type": "stream",
     "text": [
      "Reaccion->Final 0.16206879032667784 0.16206879032667784\n",
      "Tratamiento->Final 0.16206879032667784 0.16206879032667784\n",
      "Tratamiento->Reaccion 0.16206879032667784 0.08103439516333892\n",
      "Enfermedad->Final : 0.039187792254320675\n",
      "Enfermedad->Reaccion : 0.2792897085792051\n",
      "Reaccion->Final : 0.12929573497462243\n",
      "Tratamiento->Final : 0.2122548980286776\n",
      "Tratamiento->Reaccion : 0.7885797538367367\n",
      "Enfermedad->Final 0.09274776313093368 0.09274776313093368\n",
      "Enfermedad->Reaccion 0.09274776313093368 0.09274776313093368\n",
      "Reaccion->Final 0.09274776313093368 0.09274776313093368\n",
      "Tratamiento->Final 0.09274776313093368 0.09274776313093368\n",
      "Tratamiento->Reaccion 0.09274776313093368 0.09274776313093368\n",
      "Enfermedad->Final : 0.039187792254320675\n",
      "Enfermedad->Reaccion : 0.27928970857920504\n",
      "Reaccion->Final : 0.12929573497462243\n",
      "Tratamiento->Final : 0.2122548980286776\n",
      "Tratamiento->Reaccion : 0.7885797538367367\n",
      "Enfermedad->Final 0.07908163265306123 0.07908163265306123\n",
      "Enfermedad->Reaccion 0.07908163265306123 0.07908163265306123\n",
      "Reaccion->Final 0.07908163265306123 0.07908163265306123\n",
      "Tratamiento->Final 0.07908163265306123 0.07908163265306123\n",
      "Tratamiento->Reaccion 0.07908163265306123 0.039540816326530615\n"
     ]
    },
    {
     "name": "stderr",
     "output_type": "stream",
     "text": [
      "WARNING:root:Replacing existing CPD for Tratamiento\n",
      "WARNING:root:Replacing existing CPD for Final\n",
      "WARNING:root:Replacing existing CPD for Reaccion\n",
      "WARNING:root:Replacing existing CPD for Enfermedad\n",
      "WARNING:root:Replacing existing CPD for Enfermedad\n",
      "WARNING:root:Replacing existing CPD for Final\n",
      "WARNING:root:Replacing existing CPD for Reaccion\n",
      "WARNING:root:Replacing existing CPD for Tratamiento\n"
     ]
    },
    {
     "name": "stdout",
     "output_type": "stream",
     "text": [
      "Enfermedad->Final : 0.039187792254320675\n",
      "Enfermedad->Reaccion : 0.27928970857920504\n",
      "Reaccion->Final : 0.12929573497462243\n",
      "Tratamiento->Final : 0.21225489802867759\n",
      "Tratamiento->Reaccion : 0.8817943422932417\n",
      "Enfermedad->Final 0.3102493074792244 0.3102493074792244\n",
      "Enfermedad->Reaccion 0.3102493074792244 0.3102493074792244\n",
      "Reaccion->Final 0.3102493074792244 0.3102493074792244\n",
      "Tratamiento->Final 0.3102493074792244 0.15512465373961218\n",
      "Tratamiento->Reaccion 0.3102493074792244 0.1551246537396122\n",
      "Enfermedad->Final : 0.039187792254320675\n",
      "Enfermedad->Reaccion : 0.27928970857920504\n",
      "Reaccion->Final : 0.12929573497462243\n",
      "Tratamiento->Final : 0.35018195987302403\n",
      "Tratamiento->Reaccion : 0.9371846035190502\n",
      "Enfermedad->Final 0.3195600475624257 0.3195600475624257\n",
      "Enfermedad->Reaccion 0.3195600475624257 0.3195600475624257\n",
      "Reaccion->Final 0.3195600475624257 0.3195600475624257\n",
      "Tratamiento->Final 0.3195600475624257 0.15978002378121284\n",
      "Tratamiento->Reaccion 0.3195600475624257 0.15978002378121284\n"
     ]
    },
    {
     "name": "stderr",
     "output_type": "stream",
     "text": [
      "WARNING:root:Replacing existing CPD for Tratamiento\n",
      "WARNING:root:Replacing existing CPD for Reaccion\n",
      "WARNING:root:Replacing existing CPD for Enfermedad\n",
      "WARNING:root:Replacing existing CPD for Final\n",
      "WARNING:root:Replacing existing CPD for Tratamiento\n",
      "WARNING:root:Replacing existing CPD for Final\n",
      "WARNING:root:Replacing existing CPD for Reaccion\n",
      "WARNING:root:Replacing existing CPD for Enfermedad\n",
      "WARNING:root:Replacing existing CPD for Tratamiento\n",
      "WARNING:root:Replacing existing CPD for Final\n",
      "WARNING:root:Replacing existing CPD for Reaccion\n",
      "WARNING:root:Replacing existing CPD for Enfermedad\n"
     ]
    },
    {
     "name": "stdout",
     "output_type": "stream",
     "text": [
      "Enfermedad->Final : 0.039187792254320675\n",
      "Enfermedad->Reaccion : 0.27928970857920504\n",
      "Reaccion->Final : 0.12929573497462246\n",
      "Tratamiento->Final : 0.518718173224528\n",
      "Tratamiento->Reaccion : 0.9675738717069913\n",
      "Enfermedad->Final 0.17674640542606593 0.17674640542606593\n",
      "Enfermedad->Reaccion 0.17674640542606593 0.17674640542606593\n",
      "Reaccion->Final 0.17674640542606593 0.17674640542606593\n",
      "Tratamiento->Final 0.17674640542606593 0.17674640542606593\n",
      "Tratamiento->Reaccion 0.17674640542606593 0.08837320271303296\n",
      "Enfermedad->Final : 0.039187792254320675\n",
      "Enfermedad->Reaccion : 0.27928970857920504\n",
      "Reaccion->Final : 0.12929573497462246\n",
      "Tratamiento->Final : 0.518718173224528\n",
      "Tratamiento->Reaccion : 0.9835197403465837\n",
      "Enfermedad->Final 0.325 0.325\n",
      "Enfermedad->Reaccion 0.325 0.325\n",
      "Reaccion->Final 0.325 0.325\n",
      "Tratamiento->Final 0.325 0.20073529411764707\n",
      "Tratamiento->Reaccion 0.325 0.1625\n",
      "Enfermedad->Final : 0.039187792254320675\n",
      "Enfermedad->Reaccion : 0.279289708579205\n",
      "Reaccion->Final : 0.12929573497462246\n",
      "Tratamiento->Final : 0.6356992442974168\n",
      "Tratamiento->Reaccion : 0.9916914062823814\n"
     ]
    },
    {
     "name": "stderr",
     "output_type": "stream",
     "text": [
      "WARNING:root:Replacing existing CPD for Tratamiento\n",
      "WARNING:root:Replacing existing CPD for Final\n",
      "WARNING:root:Replacing existing CPD for Reaccion\n",
      "WARNING:root:Replacing existing CPD for Enfermedad\n",
      "WARNING:root:Replacing existing CPD for Enfermedad\n",
      "WARNING:root:Replacing existing CPD for Reaccion\n",
      "WARNING:root:Replacing existing CPD for Tratamiento\n",
      "WARNING:root:Replacing existing CPD for Final\n"
     ]
    },
    {
     "name": "stdout",
     "output_type": "stream",
     "text": [
      "Enfermedad->Final 0.32141897339424885 0.32141897339424885\n",
      "Enfermedad->Reaccion 0.32141897339424885 0.32141897339424885\n",
      "Reaccion->Final 0.32141897339424885 0.32141897339424885\n",
      "Tratamiento->Final 0.32141897339424885 0.1607094866971244\n",
      "Tratamiento->Reaccion 0.32141897339424885 0.16070948669712443\n",
      "Enfermedad->Final : 0.039187792254320675\n",
      "Enfermedad->Reaccion : 0.279289708579205\n",
      "Reaccion->Final : 0.12929573497462246\n",
      "Tratamiento->Final : 0.777281332755606\n",
      "Tratamiento->Reaccion : 0.9958283729640993\n",
      "Enfermedad->Final 0.3301248699271592 0.3301248699271592\n",
      "Enfermedad->Reaccion 0.3301248699271592 0.3301248699271592\n",
      "Reaccion->Final 0.3301248699271592 0.3301248699271592\n",
      "Tratamiento->Final 0.3301248699271592 0.16506243496357959\n",
      "Tratamiento->Reaccion 0.3301248699271592 0.1650624349635796\n",
      "Enfermedad->Final : 0.039187792254320675\n",
      "Enfermedad->Reaccion : 0.279289708579205\n",
      "Reaccion->Final : 0.12929573497462246\n",
      "Tratamiento->Final : 0.8746857556315649\n",
      "Tratamiento->Reaccion : 0.9979098267704726\n",
      "Enfermedad->Final 0.19349962207105065 0.19349962207105065\n",
      "Enfermedad->Reaccion 0.19349962207105065 0.19349962207105065\n",
      "Reaccion->Final 0.19349962207105065 0.19349962207105065\n"
     ]
    },
    {
     "name": "stderr",
     "output_type": "stream",
     "text": [
      "WARNING:root:Replacing existing CPD for Enfermedad\n",
      "WARNING:root:Replacing existing CPD for Reaccion\n",
      "WARNING:root:Replacing existing CPD for Final\n",
      "WARNING:root:Replacing existing CPD for Tratamiento\n",
      "WARNING:root:Replacing existing CPD for Tratamiento\n",
      "WARNING:root:Replacing existing CPD for Final\n",
      "WARNING:root:Replacing existing CPD for Reaccion\n",
      "WARNING:root:Replacing existing CPD for Enfermedad\n"
     ]
    },
    {
     "name": "stdout",
     "output_type": "stream",
     "text": [
      "Tratamiento->Final 0.19349962207105065 0.19349962207105065\n",
      "Tratamiento->Reaccion 0.19349962207105065 0.0967498110355253\n",
      "Enfermedad->Final : 0.039187792254320675\n",
      "Enfermedad->Reaccion : 0.279289708579205\n",
      "Reaccion->Final : 0.12929573497462246\n",
      "Tratamiento->Final : 0.8746857556315649\n",
      "Tratamiento->Reaccion : 0.9989538200365597\n",
      "Enfermedad->Final 0.098876953125 0.098876953125\n",
      "Enfermedad->Reaccion 0.098876953125 0.098876953125\n",
      "Reaccion->Final 0.098876953125 0.07415771484375\n",
      "Tratamiento->Final 0.098876953125 0.07415771484375\n",
      "Tratamiento->Reaccion 0.098876953125 0.0494384765625\n",
      "Enfermedad->Final : 0.039187792254320675\n",
      "Enfermedad->Reaccion : 0.279289708579205\n",
      "Reaccion->Final : 0.1652713529495428\n",
      "Tratamiento->Final : 0.9029746521872385\n",
      "Tratamiento->Reaccion : 0.9994766362519465\n",
      "Enfermedad->Final 0.33633136094674554 0.33633136094674554\n",
      "Enfermedad->Reaccion 0.33633136094674554 0.33633136094674554\n"
     ]
    },
    {
     "name": "stderr",
     "output_type": "stream",
     "text": [
      "WARNING:root:Replacing existing CPD for Tratamiento\n",
      "WARNING:root:Replacing existing CPD for Final\n",
      "WARNING:root:Replacing existing CPD for Reaccion\n",
      "WARNING:root:Replacing existing CPD for Enfermedad\n",
      "WARNING:root:Replacing existing CPD for Reaccion\n",
      "WARNING:root:Replacing existing CPD for Final\n",
      "WARNING:root:Replacing existing CPD for Tratamiento\n",
      "WARNING:root:Replacing existing CPD for Enfermedad\n"
     ]
    },
    {
     "name": "stdout",
     "output_type": "stream",
     "text": [
      "Reaccion->Final 0.33633136094674554 0.33633136094674554\n",
      "Tratamiento->Final 0.33633136094674554 0.16816568047337277\n",
      "Tratamiento->Reaccion 0.33633136094674554 0.16816568047337277\n",
      "Enfermedad->Final : 0.039187792254320675\n",
      "Enfermedad->Reaccion : 0.279289708579205\n",
      "Reaccion->Final : 0.1652713529495428\n",
      "Tratamiento->Final : 0.9490138517077763\n",
      "Tratamiento->Reaccion : 0.9997382496306461\n",
      "Enfermedad->Final 0.3213957759412305 0.3213957759412305\n",
      "Enfermedad->Reaccion 0.3213957759412305 0.3213957759412305\n",
      "Reaccion->Final 0.3213957759412305 0.3213957759412305\n",
      "Tratamiento->Final 0.3213957759412305 0.19452902228021846\n",
      "Tratamiento->Reaccion 0.3213957759412305 0.16069788797061524\n",
      "Enfermedad->Final : 0.039187792254320675\n",
      "Enfermedad->Reaccion : 0.279289708579205\n",
      "Reaccion->Final : 0.1652713529495428\n",
      "Tratamiento->Final : 0.9685061134132016\n",
      "Tratamiento->Reaccion : 0.999869107684767\n",
      "Enfermedad->Final 0.340833147694364 0.340833147694364\n",
      "Enfermedad->Reaccion 0.340833147694364 0.340833147694364\n"
     ]
    },
    {
     "name": "stderr",
     "output_type": "stream",
     "text": [
      "WARNING:root:Replacing existing CPD for Tratamiento\n",
      "WARNING:root:Replacing existing CPD for Final\n",
      "WARNING:root:Replacing existing CPD for Reaccion\n",
      "WARNING:root:Replacing existing CPD for Enfermedad\n",
      "WARNING:root:Replacing existing CPD for Enfermedad\n",
      "WARNING:root:Replacing existing CPD for Reaccion\n",
      "WARNING:root:Replacing existing CPD for Tratamiento\n",
      "WARNING:root:Replacing existing CPD for Final\n"
     ]
    },
    {
     "name": "stdout",
     "output_type": "stream",
     "text": [
      "Reaccion->Final 0.340833147694364 0.278347070617064\n",
      "Tratamiento->Final 0.340833147694364 0.278347070617064\n",
      "Tratamiento->Reaccion 0.340833147694364 0.17041657384718198\n",
      "Enfermedad->Final : 0.039187792254320675\n",
      "Enfermedad->Reaccion : 0.279289708579205\n",
      "Reaccion->Final : 0.19513330172204718\n",
      "Tratamiento->Final : 0.9741306259800142\n",
      "Tratamiento->Reaccion : 0.9999345495589036\n",
      "Enfermedad->Final 0.1003460207612457 0.1003460207612457\n",
      "Enfermedad->Reaccion 0.1003460207612457 0.1003460207612457\n",
      "Reaccion->Final 0.1003460207612457 0.1003460207612457\n",
      "Tratamiento->Final 0.1003460207612457 0.06046490994587882\n",
      "Tratamiento->Reaccion 0.1003460207612457 0.05017301038062285\n",
      "Enfermedad->Final : 0.039187792254320675\n",
      "Enfermedad->Reaccion : 0.279289708579205\n",
      "Reaccion->Final : 0.19513330172204715\n",
      "Tratamiento->Final : 0.9842501126867256\n",
      "Tratamiento->Reaccion : 0.9999672737084767\n",
      "Enfermedad->Final 0.028565427431211935 0.028565427431211935\n",
      "Enfermedad->Reaccion 0.028565427431211935 0.02856542743121193\n",
      "Reaccion->Final 0.028565427431211935 0.028565427431211935\n",
      "Tratamiento->Final 0.028565427431211935 0.08391094307918505\n"
     ]
    },
    {
     "name": "stderr",
     "output_type": "stream",
     "text": [
      "WARNING:root:Replacing existing CPD for Reaccion\n",
      "WARNING:root:Replacing existing CPD for Final\n",
      "WARNING:root:Replacing existing CPD for Tratamiento\n",
      "WARNING:root:Replacing existing CPD for Enfermedad\n",
      "WARNING:root:Replacing existing CPD for Enfermedad\n",
      "WARNING:root:Replacing existing CPD for Final\n",
      "WARNING:root:Replacing existing CPD for Reaccion\n",
      "WARNING:root:Replacing existing CPD for Tratamiento\n"
     ]
    },
    {
     "name": "stdout",
     "output_type": "stream",
     "text": [
      "Tratamiento->Reaccion 0.028565427431211935 0.014282713715605966\n",
      "Enfermedad->Final : 0.039187792254320675\n",
      "Enfermedad->Reaccion : 0.279289708579205\n",
      "Reaccion->Final : 0.19513330172204715\n",
      "Tratamiento->Final : 0.9551047042253654\n",
      "Tratamiento->Reaccion : 0.9999836365864814\n",
      "Enfermedad->Final 0.3183673469387755 0.3183673469387755\n",
      "Enfermedad->Reaccion 0.3183673469387755 0.3183673469387755\n",
      "Reaccion->Final 0.3183673469387755 0.195\n",
      "Tratamiento->Final 0.3183673469387755 0.3183673469387755\n",
      "Tratamiento->Reaccion 0.3183673469387755 0.15918367346938775\n",
      "Enfermedad->Final : 0.039187792254320675\n",
      "Enfermedad->Reaccion : 0.279289708579205\n",
      "Reaccion->Final : 0.28357693337566836\n",
      "Tratamiento->Final : 0.9551047042253653\n",
      "Tratamiento->Reaccion : 0.9999918182262998\n",
      "Enfermedad->Final 0.32592739535806386 0.32592739535806386\n",
      "Enfermedad->Reaccion 0.32592739535806386 0.32592739535806386\n",
      "Reaccion->Final 0.32592739535806386 0.24444554651854788\n"
     ]
    },
    {
     "name": "stderr",
     "output_type": "stream",
     "text": [
      "WARNING:root:Replacing existing CPD for Enfermedad\n",
      "WARNING:root:Replacing existing CPD for Reaccion\n",
      "WARNING:root:Replacing existing CPD for Tratamiento\n",
      "WARNING:root:Replacing existing CPD for Final\n",
      "WARNING:root:Replacing existing CPD for Reaccion\n",
      "WARNING:root:Replacing existing CPD for Final\n",
      "WARNING:root:Replacing existing CPD for Tratamiento\n",
      "WARNING:root:Replacing existing CPD for Enfermedad\n"
     ]
    },
    {
     "name": "stdout",
     "output_type": "stream",
     "text": [
      "Tratamiento->Final 0.32592739535806386 0.2444455465185479\n",
      "Tratamiento->Reaccion 0.32592739535806386 0.16296369767903193\n",
      "Enfermedad->Final : 0.039187792254320675\n",
      "Enfermedad->Reaccion : 0.279289708579205\n",
      "Reaccion->Final : 0.3454488067488502\n",
      "Tratamiento->Final : 0.9659463156108067\n",
      "Tratamiento->Reaccion : 0.9999959090964146\n",
      "Enfermedad->Final 0.03125 0.03125\n",
      "Enfermedad->Reaccion 0.03125 0.03125\n",
      "Reaccion->Final 0.03125 0.03125\n",
      "Tratamiento->Final 0.03125 0.08506944444444445\n",
      "Tratamiento->Reaccion 0.03125 0.015625\n",
      "Enfermedad->Final : 0.039187792254320675\n",
      "Enfermedad->Reaccion : 0.279289708579205\n",
      "Reaccion->Final : 0.3454488067488502\n",
      "Tratamiento->Final : 0.9124338823275588\n",
      "Tratamiento->Reaccion : 0.9999979545440234\n",
      "Enfermedad->Final 0.035653968849690375 0.035653968849690375\n",
      "Enfermedad->Reaccion 0.035653968849690375 0.035653968849690375\n",
      "Reaccion->Final 0.035653968849690375 0.054372302495777826\n",
      "Tratamiento->Final 0.035653968849690375 0.05437230249577782\n"
     ]
    },
    {
     "name": "stderr",
     "output_type": "stream",
     "text": [
      "WARNING:root:Replacing existing CPD for Tratamiento\n",
      "WARNING:root:Replacing existing CPD for Reaccion\n",
      "WARNING:root:Replacing existing CPD for Enfermedad\n",
      "WARNING:root:Replacing existing CPD for Final\n",
      "WARNING:root:Replacing existing CPD for Enfermedad\n",
      "WARNING:root:Replacing existing CPD for Reaccion\n",
      "WARNING:root:Replacing existing CPD for Tratamiento\n",
      "WARNING:root:Replacing existing CPD for Final\n",
      "WARNING:root:Replacing existing CPD for Tratamiento\n",
      "WARNING:root:Replacing existing CPD for Final\n",
      "WARNING:root:Replacing existing CPD for Reaccion\n",
      "WARNING:root:Replacing existing CPD for Enfermedad\n"
     ]
    },
    {
     "name": "stdout",
     "output_type": "stream",
     "text": [
      "Tratamiento->Reaccion 0.035653968849690375 0.017826984424845187\n",
      "Enfermedad->Final : 0.039187792254320675\n",
      "Enfermedad->Reaccion : 0.279289708579205\n",
      "Reaccion->Final : 0.2570993473410929\n",
      "Tratamiento->Final : 0.8723309013884096\n",
      "Tratamiento->Reaccion : 0.9999989772709658\n",
      "Enfermedad->Final 0.17350403727321184 0.17350403727321184\n",
      "Enfermedad->Reaccion 0.17350403727321184 0.17350403727321184\n",
      "Reaccion->Final 0.17350403727321184 0.17350403727321184\n",
      "Tratamiento->Final 0.17350403727321184 0.17350403727321184\n",
      "Tratamiento->Reaccion 0.17350403727321184 0.08675201863660592\n",
      "Enfermedad->Final : 0.039187792254320675\n",
      "Enfermedad->Reaccion : 0.279289708579205\n",
      "Reaccion->Final : 0.25709934734109297\n",
      "Tratamiento->Final : 0.8723309013884097\n",
      "Tratamiento->Reaccion : 0.9999994886352214\n",
      "Enfermedad->Final 0.3128888888888889 0.3128888888888889\n",
      "Enfermedad->Reaccion 0.3128888888888889 0.31288888888888894\n",
      "Reaccion->Final 0.3128888888888889 0.3128888888888889\n",
      "Tratamiento->Final 0.3128888888888889 0.19646511627906976\n",
      "Tratamiento->Reaccion 0.3128888888888889 0.15644444444444444\n",
      "Enfermedad->Final : 0.039187792254320675\n",
      "Enfermedad->Reaccion : 0.27928970857920493\n",
      "Reaccion->Final : 0.25709934734109297\n",
      "Tratamiento->Final : 0.9158375641960542\n",
      "Tratamiento->Reaccion : 0.9999997443175453\n"
     ]
    },
    {
     "name": "stderr",
     "output_type": "stream",
     "text": [
      "WARNING:root:Replacing existing CPD for Reaccion\n",
      "WARNING:root:Replacing existing CPD for Final\n",
      "WARNING:root:Replacing existing CPD for Tratamiento\n",
      "WARNING:root:Replacing existing CPD for Enfermedad\n",
      "WARNING:root:Replacing existing CPD for Tratamiento\n",
      "WARNING:root:Replacing existing CPD for Final\n",
      "WARNING:root:Replacing existing CPD for Reaccion\n",
      "WARNING:root:Replacing existing CPD for Enfermedad\n"
     ]
    },
    {
     "name": "stdout",
     "output_type": "stream",
     "text": [
      "Enfermedad->Final 0.038088642659279776 0.038088642659279776\n",
      "Enfermedad->Reaccion 0.038088642659279776 0.038088642659279776\n",
      "Reaccion->Final 0.038088642659279776 0.038088642659279776\n",
      "Tratamiento->Final 0.038088642659279776 0.09349030470914127\n",
      "Tratamiento->Reaccion 0.038088642659279776 0.019044321329639888\n",
      "Enfermedad->Final : 0.039187792254320675\n",
      "Enfermedad->Reaccion : 0.27928970857920493\n",
      "Reaccion->Final : 0.25709934734109297\n",
      "Tratamiento->Final : 0.8159504676793128\n",
      "Tratamiento->Reaccion : 0.9999998721587563\n",
      "Enfermedad->Final 0.11688311688311687 0.11688311688311687\n",
      "Enfermedad->Reaccion 0.11688311688311687 0.11688311688311687\n",
      "Reaccion->Final 0.11688311688311687 0.08766233766233765\n",
      "Tratamiento->Final 0.11688311688311687 0.08766233766233765\n",
      "Tratamiento->Reaccion 0.11688311688311687 0.05844155844155843\n",
      "Enfermedad->Final : 0.039187792254320675\n",
      "Enfermedad->Reaccion : 0.27928970857920493\n",
      "Reaccion->Final : 0.31574025833872577\n",
      "Tratamiento->Final : 0.8553050932818179\n",
      "Tratamiento->Reaccion : 0.9999999360793741\n"
     ]
    },
    {
     "name": "stderr",
     "output_type": "stream",
     "text": [
      "WARNING:root:Replacing existing CPD for Enfermedad\n",
      "WARNING:root:Replacing existing CPD for Final\n",
      "WARNING:root:Replacing existing CPD for Tratamiento\n",
      "WARNING:root:Replacing existing CPD for Reaccion\n",
      "WARNING:root:Replacing existing CPD for Reaccion\n",
      "WARNING:root:Replacing existing CPD for Final\n",
      "WARNING:root:Replacing existing CPD for Tratamiento\n",
      "WARNING:root:Replacing existing CPD for Enfermedad\n"
     ]
    },
    {
     "name": "stdout",
     "output_type": "stream",
     "text": [
      "Enfermedad->Final 0.3129520052596976 0.3129520052596976\n",
      "Enfermedad->Reaccion 0.3129520052596976 0.3129520052596976\n",
      "Reaccion->Final 0.3129520052596976 0.3129520052596976\n",
      "Tratamiento->Final 0.3129520052596976 0.199151276074353\n",
      "Tratamiento->Reaccion 0.3129520052596976 0.1564760026298488\n",
      "Enfermedad->Final : 0.039187792254320675\n",
      "Enfermedad->Reaccion : 0.27928970857920493\n",
      "Reaccion->Final : 0.31574025833872577\n",
      "Tratamiento->Final : 0.9028075109476523\n",
      "Tratamiento->Reaccion : 0.999999968039686\n",
      "Enfermedad->Final 0.12337766383592375 0.12337766383592375\n",
      "Enfermedad->Reaccion 0.12337766383592375 0.12337766383592375\n",
      "Reaccion->Final 0.12337766383592375 0.12337766383592375\n",
      "Tratamiento->Final 0.12337766383592375 0.12337766383592375\n",
      "Tratamiento->Reaccion 0.12337766383592375 0.06168883191796187\n",
      "Enfermedad->Final : 0.039187792254320675\n",
      "Enfermedad->Reaccion : 0.27928970857920493\n",
      "Reaccion->Final : 0.31574025833872577\n",
      "Tratamiento->Final : 0.9028075109476523\n",
      "Tratamiento->Reaccion : 0.9999999840198428\n",
      "Enfermedad->Final 0.28500000000000003 0.28500000000000003\n"
     ]
    },
    {
     "name": "stderr",
     "output_type": "stream",
     "text": [
      "WARNING:root:Replacing existing CPD for Enfermedad\n",
      "WARNING:root:Replacing existing CPD for Reaccion\n",
      "WARNING:root:Replacing existing CPD for Final\n",
      "WARNING:root:Replacing existing CPD for Tratamiento\n",
      "WARNING:root:Replacing existing CPD for Enfermedad\n",
      "WARNING:root:Replacing existing CPD for Reaccion\n",
      "WARNING:root:Replacing existing CPD for Tratamiento\n",
      "WARNING:root:Replacing existing CPD for Final\n"
     ]
    },
    {
     "name": "stdout",
     "output_type": "stream",
     "text": [
      "Enfermedad->Reaccion 0.28500000000000003 0.28500000000000003\n",
      "Reaccion->Final 0.28500000000000003 0.24046875\n",
      "Tratamiento->Final 0.28500000000000003 0.24046875000000004\n",
      "Tratamiento->Reaccion 0.28500000000000003 0.14250000000000002\n",
      "Enfermedad->Final : 0.039187792254320675\n",
      "Enfermedad->Reaccion : 0.27928970857920493\n",
      "Reaccion->Final : 0.35353909765577246\n",
      "Tratamiento->Final : 0.91672926073483\n",
      "Tratamiento->Reaccion : 0.9999999920099214\n",
      "Enfermedad->Final 0.1262002743484225 0.1262002743484225\n",
      "Enfermedad->Reaccion 0.1262002743484225 0.1262002743484225\n",
      "Reaccion->Final 0.1262002743484225 0.09465020576131687\n",
      "Tratamiento->Final 0.1262002743484225 0.09465020576131686\n",
      "Tratamiento->Reaccion 0.1262002743484225 0.06310013717421126\n",
      "Enfermedad->Final : 0.039187792254320675\n",
      "Enfermedad->Reaccion : 0.279289708579205\n",
      "Reaccion->Final : 0.4216907420616115\n",
      "Tratamiento->Final : 0.9362191764695419\n",
      "Tratamiento->Reaccion : 0.9999999960049606\n"
     ]
    },
    {
     "name": "stderr",
     "output_type": "stream",
     "text": [
      "WARNING:root:Replacing existing CPD for Reaccion\n",
      "WARNING:root:Replacing existing CPD for Final\n",
      "WARNING:root:Replacing existing CPD for Tratamiento\n",
      "WARNING:root:Replacing existing CPD for Enfermedad\n",
      "WARNING:root:Replacing existing CPD for Tratamiento\n",
      "WARNING:root:Replacing existing CPD for Final\n",
      "WARNING:root:Replacing existing CPD for Reaccion\n",
      "WARNING:root:Replacing existing CPD for Enfermedad\n"
     ]
    },
    {
     "name": "stdout",
     "output_type": "stream",
     "text": [
      "Enfermedad->Final 0.3191552647233789 0.3191552647233789\n",
      "Enfermedad->Reaccion 0.3191552647233789 0.3191552647233789\n",
      "Reaccion->Final 0.3191552647233789 0.3191552647233789\n",
      "Tratamiento->Final 0.3191552647233789 0.20213166765813997\n",
      "Tratamiento->Reaccion 0.3191552647233789 0.15957763236168945\n",
      "Enfermedad->Final : 0.039187792254320675\n",
      "Enfermedad->Reaccion : 0.279289708579205\n",
      "Reaccion->Final : 0.4216907420616115\n",
      "Tratamiento->Final : 0.9586381783806559\n",
      "Tratamiento->Reaccion : 0.9999999980024803\n",
      "Enfermedad->Final 0.32544636376832636 0.32544636376832636\n",
      "Enfermedad->Reaccion 0.32544636376832636 0.32544636376832636\n",
      "Reaccion->Final 0.32544636376832636 0.24408477282624477\n",
      "Tratamiento->Final 0.32544636376832636 0.24408477282624474\n",
      "Tratamiento->Reaccion 0.32544636376832636 0.16272318188416318\n",
      "Enfermedad->Final : 0.039187792254320675\n",
      "Enfermedad->Reaccion : 0.279289708579205\n",
      "Reaccion->Final : 0.4929618412066516\n",
      "Tratamiento->Final : 0.9686545071141633\n",
      "Tratamiento->Reaccion : 0.9999999990012401\n"
     ]
    },
    {
     "name": "stderr",
     "output_type": "stream",
     "text": [
      "WARNING:root:Replacing existing CPD for Reaccion\n",
      "WARNING:root:Replacing existing CPD for Final\n",
      "WARNING:root:Replacing existing CPD for Tratamiento\n",
      "WARNING:root:Replacing existing CPD for Enfermedad\n",
      "WARNING:root:Replacing existing CPD for Enfermedad\n",
      "WARNING:root:Replacing existing CPD for Reaccion\n",
      "WARNING:root:Replacing existing CPD for Tratamiento\n",
      "WARNING:root:Replacing existing CPD for Final\n"
     ]
    },
    {
     "name": "stdout",
     "output_type": "stream",
     "text": [
      "Enfermedad->Final 0.3316326530612245 0.3316326530612245\n",
      "Enfermedad->Reaccion 0.3316326530612245 0.3316326530612245\n",
      "Reaccion->Final 0.3316326530612245 0.3316326530612245\n",
      "Tratamiento->Final 0.3316326530612245 0.2100340136054422\n",
      "Tratamiento->Reaccion 0.3316326530612245 0.16581632653061226\n",
      "Enfermedad->Final : 0.039187792254320675\n",
      "Enfermedad->Reaccion : 0.279289708579205\n",
      "Reaccion->Final : 0.4929618412066516\n",
      "Tratamiento->Final : 0.9799170340007564\n",
      "Tratamiento->Reaccion : 0.99999999950062\n",
      "Enfermedad->Final 0.03986159169550173 0.03986159169550173\n",
      "Enfermedad->Reaccion 0.03986159169550173 0.03986159169550173\n",
      "Reaccion->Final 0.03986159169550173 0.05730103806228374\n",
      "Tratamiento->Final 0.03986159169550173 0.057301038062283725\n",
      "Tratamiento->Reaccion 0.03986159169550173 0.019930795847750864\n",
      "Enfermedad->Final : 0.039187792254320675\n",
      "Enfermedad->Reaccion : 0.279289708579205\n",
      "Reaccion->Final : 0.4034621561155635\n",
      "Tratamiento->Final : 0.9713821810507444\n",
      "Tratamiento->Reaccion : 0.9999999997503101\n"
     ]
    },
    {
     "name": "stderr",
     "output_type": "stream",
     "text": [
      "WARNING:root:Replacing existing CPD for Tratamiento\n",
      "WARNING:root:Replacing existing CPD for Final\n",
      "WARNING:root:Replacing existing CPD for Reaccion\n",
      "WARNING:root:Replacing existing CPD for Enfermedad\n",
      "WARNING:root:Replacing existing CPD for Enfermedad\n",
      "WARNING:root:Replacing existing CPD for Reaccion\n",
      "WARNING:root:Replacing existing CPD for Final\n",
      "WARNING:root:Replacing existing CPD for Tratamiento\n"
     ]
    },
    {
     "name": "stdout",
     "output_type": "stream",
     "text": [
      "Enfermedad->Final 0.32990805840995135 0.32990805840995135\n",
      "Enfermedad->Reaccion 0.32990805840995135 0.32990805840995135\n",
      "Reaccion->Final 0.32990805840995135 0.32990805840995135\n",
      "Tratamiento->Final 0.32990805840995135 0.21157147224116443\n",
      "Tratamiento->Reaccion 0.32990805840995135 0.16495402920497568\n",
      "Enfermedad->Final : 0.039187792254320675\n",
      "Enfermedad->Reaccion : 0.279289708579205\n",
      "Reaccion->Final : 0.4034621561155636\n",
      "Tratamiento->Final : 0.9814569219690085\n",
      "Tratamiento->Reaccion : 0.999999999875155\n",
      "Enfermedad->Final 0.27031311930241775 0.27031311930241775\n",
      "Enfermedad->Reaccion 0.27031311930241775 0.27031311930241775\n",
      "Reaccion->Final 0.27031311930241775 0.27031311930241775\n",
      "Tratamiento->Final 0.27031311930241775 0.13515655965120887\n",
      "Tratamiento->Reaccion 0.27031311930241775 0.13515655965120887\n",
      "Enfermedad->Final : 0.039187792254320675\n",
      "Enfermedad->Reaccion : 0.279289708579205\n",
      "Reaccion->Final : 0.4034621561155636\n",
      "Tratamiento->Final : 0.990641695095463\n",
      "Tratamiento->Reaccion : 0.9999999999375775\n"
     ]
    },
    {
     "name": "stderr",
     "output_type": "stream",
     "text": [
      "WARNING:root:Replacing existing CPD for Tratamiento\n",
      "WARNING:root:Replacing existing CPD for Final\n",
      "WARNING:root:Replacing existing CPD for Reaccion\n",
      "WARNING:root:Replacing existing CPD for Enfermedad\n",
      "WARNING:root:Replacing existing CPD for Tratamiento\n",
      "WARNING:root:Replacing existing CPD for Final\n",
      "WARNING:root:Replacing existing CPD for Reaccion\n",
      "WARNING:root:Replacing existing CPD for Enfermedad\n"
     ]
    },
    {
     "name": "stdout",
     "output_type": "stream",
     "text": [
      "Enfermedad->Final 0.33354855371900827 0.33354855371900827\n",
      "Enfermedad->Reaccion 0.33354855371900827 0.33354855371900827\n",
      "Reaccion->Final 0.33354855371900827 0.25016141528925623\n",
      "Tratamiento->Final 0.33354855371900827 0.2501614152892562\n",
      "Tratamiento->Reaccion 0.33354855371900827 0.16677427685950416\n",
      "Enfermedad->Final : 0.039187792254320675\n",
      "Enfermedad->Reaccion : 0.279289708579205\n",
      "Reaccion->Final : 0.4741785130656984\n",
      "Tratamiento->Final : 0.9929648119629193\n",
      "Tratamiento->Reaccion : 0.9999999999687889\n",
      "Enfermedad->Final 0.27471278878929434 0.27471278878929434\n",
      "Enfermedad->Reaccion 0.27471278878929434 0.27471278878929434\n",
      "Reaccion->Final 0.27471278878929434 0.27471278878929434\n",
      "Tratamiento->Final 0.27471278878929434 0.13735639439464714\n",
      "Tratamiento->Reaccion 0.27471278878929434 0.13735639439464717\n",
      "Enfermedad->Final : 0.039187792254320675\n",
      "Enfermedad->Reaccion : 0.279289708579205\n",
      "Reaccion->Final : 0.47417851306569836\n",
      "Tratamiento->Final : 0.9964699888353012\n",
      "Tratamiento->Reaccion : 0.9999999999843944\n"
     ]
    },
    {
     "name": "stderr",
     "output_type": "stream",
     "text": [
      "WARNING:root:Replacing existing CPD for Tratamiento\n",
      "WARNING:root:Replacing existing CPD for Final\n",
      "WARNING:root:Replacing existing CPD for Reaccion\n",
      "WARNING:root:Replacing existing CPD for Enfermedad\n",
      "WARNING:root:Replacing existing CPD for Enfermedad\n",
      "WARNING:root:Replacing existing CPD for Final\n",
      "WARNING:root:Replacing existing CPD for Tratamiento\n",
      "WARNING:root:Replacing existing CPD for Reaccion\n"
     ]
    },
    {
     "name": "stdout",
     "output_type": "stream",
     "text": [
      "Enfermedad->Final 0.3370370370370371 0.3370370370370371\n",
      "Enfermedad->Reaccion 0.3370370370370371 0.3370370370370371\n",
      "Reaccion->Final 0.3370370370370371 0.3370370370370371\n",
      "Tratamiento->Final 0.3370370370370371 0.21415895061728396\n",
      "Tratamiento->Reaccion 0.3370370370370371 0.1685185185185185\n",
      "Enfermedad->Final : 0.039187792254320675\n",
      "Enfermedad->Reaccion : 0.279289708579205\n",
      "Reaccion->Final : 0.4741785130656984\n",
      "Tratamiento->Final : 0.9977540816131151\n",
      "Tratamiento->Reaccion : 0.9999999999921971\n",
      "Enfermedad->Final 0.27895181741335584 0.27895181741335584\n",
      "Enfermedad->Reaccion 0.27895181741335584 0.27895181741335584\n",
      "Reaccion->Final 0.27895181741335584 0.27895181741335584\n",
      "Tratamiento->Final 0.27895181741335584 0.13947590870667795\n",
      "Tratamiento->Reaccion 0.27895181741335584 0.13947590870667792\n",
      "Enfermedad->Final : 0.039187792254320675\n",
      "Enfermedad->Reaccion : 0.279289708579205\n",
      "Reaccion->Final : 0.47417851306569836\n",
      "Tratamiento->Final : 0.998875778351522\n",
      "Tratamiento->Reaccion : 0.9999999999960987\n",
      "Enfermedad->Final 0.34038279773156904 0.34038279773156904\n",
      "Enfermedad->Reaccion 0.34038279773156904 0.34038279773156904\n",
      "Reaccion->Final 0.34038279773156904 0.34038279773156904\n"
     ]
    },
    {
     "name": "stderr",
     "output_type": "stream",
     "text": [
      "WARNING:root:Replacing existing CPD for Reaccion\n",
      "WARNING:root:Replacing existing CPD for Final\n",
      "WARNING:root:Replacing existing CPD for Tratamiento\n",
      "WARNING:root:Replacing existing CPD for Enfermedad\n",
      "WARNING:root:Replacing existing CPD for Tratamiento\n",
      "WARNING:root:Replacing existing CPD for Final\n",
      "WARNING:root:Replacing existing CPD for Reaccion\n",
      "WARNING:root:Replacing existing CPD for Enfermedad\n"
     ]
    },
    {
     "name": "stdout",
     "output_type": "stream",
     "text": [
      "Tratamiento->Final 0.34038279773156904 0.17019139886578452\n",
      "Tratamiento->Reaccion 0.34038279773156904 0.17019139886578452\n",
      "Enfermedad->Final : 0.039187792254320675\n",
      "Enfermedad->Reaccion : 0.279289708579205\n",
      "Reaccion->Final : 0.4741785130656984\n",
      "Tratamiento->Final : 0.999437573029473\n",
      "Tratamiento->Reaccion : 0.9999999999980493\n",
      "Enfermedad->Final 0.03757659845068794 0.03757659845068794\n",
      "Enfermedad->Reaccion 0.03757659845068794 0.03757659845068794\n",
      "Reaccion->Final 0.03757659845068794 0.05419701699618453\n",
      "Tratamiento->Final 0.03757659845068794 0.05419701699618453\n",
      "Tratamiento->Reaccion 0.03757659845068794 0.01878829922534397\n",
      "Enfermedad->Final : 0.039187792254320675\n",
      "Enfermedad->Reaccion : 0.279289708579205\n",
      "Reaccion->Final : 0.384705641424623\n",
      "Tratamiento->Final : 0.9991890090008524\n",
      "Tratamiento->Reaccion : 0.9999999999990247\n",
      "Enfermedad->Final 0.3386147578089634 0.3386147578089634\n",
      "Enfermedad->Reaccion 0.3386147578089634 0.3386147578089634\n",
      "Reaccion->Final 0.3386147578089634 0.3386147578089634\n",
      "Tratamiento->Final 0.3386147578089634 0.21671344499773654\n"
     ]
    },
    {
     "name": "stderr",
     "output_type": "stream",
     "text": [
      "WARNING:root:Replacing existing CPD for Tratamiento\n",
      "WARNING:root:Replacing existing CPD for Final\n",
      "WARNING:root:Replacing existing CPD for Reaccion\n",
      "WARNING:root:Replacing existing CPD for Enfermedad\n",
      "WARNING:root:Replacing existing CPD for Reaccion\n",
      "WARNING:root:Replacing existing CPD for Final\n",
      "WARNING:root:Replacing existing CPD for Tratamiento\n",
      "WARNING:root:Replacing existing CPD for Enfermedad\n"
     ]
    },
    {
     "name": "stdout",
     "output_type": "stream",
     "text": [
      "Tratamiento->Reaccion 0.3386147578089634 0.1693073789044817\n",
      "Enfermedad->Final : 0.039187792254320675\n",
      "Enfermedad->Reaccion : 0.279289708579205\n",
      "Reaccion->Final : 0.384705641424623\n",
      "Tratamiento->Final : 0.999480814180736\n",
      "Tratamiento->Reaccion : 0.9999999999995123\n",
      "Enfermedad->Final 0.3440443213296399 0.3440443213296399\n",
      "Enfermedad->Reaccion 0.3440443213296399 0.3440443213296399\n",
      "Reaccion->Final 0.3440443213296399 0.3440443213296399\n",
      "Tratamiento->Final 0.3440443213296399 0.22018836565096955\n",
      "Tratamiento->Reaccion 0.3440443213296399 0.17202216066481996\n",
      "Enfermedad->Final : 0.039187792254320675\n",
      "Enfermedad->Reaccion : 0.279289708579205\n",
      "Reaccion->Final : 0.384705641424623\n",
      "Tratamiento->Final : 0.999667658958839\n",
      "Tratamiento->Reaccion : 0.9999999999997562\n",
      "Enfermedad->Final 0.03949652777777778 0.03949652777777778\n",
      "Enfermedad->Reaccion 0.03949652777777778 0.03949652777777778\n",
      "Reaccion->Final 0.03949652777777778 0.055013020833333336\n",
      "Tratamiento->Final 0.03949652777777778 0.055013020833333336\n"
     ]
    },
    {
     "name": "stderr",
     "output_type": "stream",
     "text": [
      "WARNING:root:Replacing existing CPD for Reaccion\n",
      "WARNING:root:Replacing existing CPD for Final\n",
      "WARNING:root:Replacing existing CPD for Tratamiento\n",
      "WARNING:root:Replacing existing CPD for Enfermedad\n",
      "WARNING:root:Replacing existing CPD for Tratamiento\n",
      "WARNING:root:Replacing existing CPD for Final\n",
      "WARNING:root:Replacing existing CPD for Reaccion\n",
      "WARNING:root:Replacing existing CPD for Enfermedad\n"
     ]
    },
    {
     "name": "stdout",
     "output_type": "stream",
     "text": [
      "Tratamiento->Reaccion 0.03949652777777778 0.01974826388888889\n",
      "Enfermedad->Final : 0.039187792254320675\n",
      "Enfermedad->Reaccion : 0.279289708579205\n",
      "Reaccion->Final : 0.3098160446651673\n",
      "Tratamiento->Final : 0.9995371568369389\n",
      "Tratamiento->Reaccion : 0.9999999999998781\n",
      "Enfermedad->Final 0.34222552874907003 0.34222552874907003\n",
      "Enfermedad->Reaccion 0.34222552874907003 0.34222552874907003\n",
      "Reaccion->Final 0.34222552874907003 0.2566691465618025\n",
      "Tratamiento->Final 0.34222552874907003 0.2566691465618025\n",
      "Tratamiento->Reaccion 0.34222552874907003 0.17111276437453501\n",
      "Enfermedad->Final : 0.039187792254320675\n",
      "Enfermedad->Reaccion : 0.279289708579205\n",
      "Reaccion->Final : 0.3744208626513072\n",
      "Tratamiento->Final : 0.9996528274560945\n",
      "Tratamiento->Reaccion : 0.999999999999939\n",
      "Enfermedad->Final 0.34745939192003333 0.34745939192003333\n",
      "Enfermedad->Reaccion 0.34745939192003333 0.34745939192003333\n",
      "Reaccion->Final 0.34745939192003333 0.34745939192003333\n",
      "Tratamiento->Final 0.34745939192003333 0.22482666536002158\n",
      "Tratamiento->Reaccion 0.34745939192003333 0.17372969596001667\n"
     ]
    },
    {
     "name": "stderr",
     "output_type": "stream",
     "text": [
      "WARNING:root:Replacing existing CPD for Reaccion\n",
      "WARNING:root:Replacing existing CPD for Final\n",
      "WARNING:root:Replacing existing CPD for Tratamiento\n",
      "WARNING:root:Replacing existing CPD for Enfermedad\n",
      "WARNING:root:Replacing existing CPD for Enfermedad\n",
      "WARNING:root:Replacing existing CPD for Reaccion\n",
      "WARNING:root:Replacing existing CPD for Tratamiento\n",
      "WARNING:root:Replacing existing CPD for Final\n"
     ]
    },
    {
     "name": "stdout",
     "output_type": "stream",
     "text": [
      "Enfermedad->Final : 0.039187792254320675\n",
      "Enfermedad->Reaccion : 0.279289708579205\n",
      "Reaccion->Final : 0.37442086265130725\n",
      "Tratamiento->Final : 0.999775331413203\n",
      "Tratamiento->Reaccion : 0.9999999999999695\n",
      "Enfermedad->Final 0.3526170798898072 0.3526170798898072\n",
      "Enfermedad->Reaccion 0.3526170798898072 0.3526170798898072\n",
      "Reaccion->Final 0.3526170798898072 0.2644628099173554\n",
      "Tratamiento->Final 0.3526170798898072 0.2644628099173554\n",
      "Tratamiento->Reaccion 0.3526170798898072 0.1763085399449036\n",
      "Enfermedad->Final : 0.039187792254320675\n",
      "Enfermedad->Reaccion : 0.279289708579205\n",
      "Reaccion->Final : 0.4438342197269632\n",
      "Tratamiento->Final : 0.9998314890951254\n",
      "Tratamiento->Reaccion : 0.9999999999999847\n",
      "Enfermedad->Final 0.0405 0.0405\n",
      "Enfermedad->Reaccion 0.0405 0.04050000000000001\n",
      "Reaccion->Final 0.0405 0.0405\n",
      "Tratamiento->Final 0.0405 0.08910000000000001\n",
      "Tratamiento->Reaccion 0.0405 0.020250000000000004\n"
     ]
    },
    {
     "name": "stderr",
     "output_type": "stream",
     "text": [
      "WARNING:root:Replacing existing CPD for Reaccion\n",
      "WARNING:root:Replacing existing CPD for Final\n",
      "WARNING:root:Replacing existing CPD for Tratamiento\n",
      "WARNING:root:Replacing existing CPD for Enfermedad\n",
      "WARNING:root:Replacing existing CPD for Tratamiento\n",
      "WARNING:root:Replacing existing CPD for Final\n",
      "WARNING:root:Replacing existing CPD for Reaccion\n",
      "WARNING:root:Replacing existing CPD for Enfermedad\n",
      "WARNING:root:Replacing existing CPD for Tratamiento\n",
      "WARNING:root:Replacing existing CPD for Final\n",
      "WARNING:root:Replacing existing CPD for Reaccion\n",
      "WARNING:root:Replacing existing CPD for Enfermedad\n"
     ]
    },
    {
     "name": "stdout",
     "output_type": "stream",
     "text": [
      "Enfermedad->Final : 0.039187792254320675\n",
      "Enfermedad->Reaccion : 0.27928970857920493\n",
      "Reaccion->Final : 0.44383421972696313\n",
      "Tratamiento->Final : 0.9996293509593622\n",
      "Tratamiento->Reaccion : 0.9999999999999923\n",
      "Enfermedad->Final 0.04391726301343007 0.04391726301343007\n",
      "Enfermedad->Reaccion 0.04391726301343007 0.04391726301343007\n",
      "Reaccion->Final 0.04391726301343007 0.057641407705126955\n",
      "Tratamiento->Final 0.04391726301343007 0.05764140770512696\n",
      "Tratamiento->Reaccion 0.04391726301343007 0.021958631506715034\n",
      "Enfermedad->Final : 0.039187792254320675\n",
      "Enfermedad->Reaccion : 0.279289708579205\n",
      "Reaccion->Final : 0.378116831420322\n",
      "Tratamiento->Final : 0.9995135794751945\n",
      "Tratamiento->Reaccion : 0.9999999999999962\n",
      "Enfermedad->Final 0.2525951557093426 0.2525951557093426\n",
      "Enfermedad->Reaccion 0.2525951557093426 0.2525951557093426\n",
      "Reaccion->Final 0.2525951557093426 0.2525951557093426\n",
      "Tratamiento->Final 0.2525951557093426 0.1262975778546713\n",
      "Tratamiento->Reaccion 0.2525951557093426 0.1262975778546713\n",
      "Enfermedad->Final : 0.039187792254320675\n",
      "Enfermedad->Reaccion : 0.279289708579205\n",
      "Reaccion->Final : 0.378116831420322\n",
      "Tratamiento->Final : 0.9997567305719759\n",
      "Tratamiento->Reaccion : 0.999999999999998\n"
     ]
    },
    {
     "name": "stderr",
     "output_type": "stream",
     "text": [
      "WARNING:root:Replacing existing CPD for Reaccion\n",
      "WARNING:root:Replacing existing CPD for Final\n",
      "WARNING:root:Replacing existing CPD for Tratamiento\n",
      "WARNING:root:Replacing existing CPD for Enfermedad\n",
      "WARNING:root:Replacing existing CPD for Enfermedad\n",
      "WARNING:root:Replacing existing CPD for Reaccion\n",
      "WARNING:root:Replacing existing CPD for Tratamiento\n",
      "WARNING:root:Replacing existing CPD for Final\n"
     ]
    },
    {
     "name": "stdout",
     "output_type": "stream",
     "text": [
      "Enfermedad->Final 0.04646997832029409 0.04646997832029409\n",
      "Enfermedad->Reaccion 0.04646997832029409 0.04646997832029409\n",
      "Reaccion->Final 0.04646997832029409 0.04646997832029409\n",
      "Tratamiento->Final 0.04646997832029409 0.09704024884532\n",
      "Tratamiento->Reaccion 0.04646997832029409 0.023234989160147046\n",
      "Enfermedad->Final : 0.039187792254320675\n",
      "Enfermedad->Reaccion : 0.279289708579205\n",
      "Reaccion->Final : 0.378116831420322\n",
      "Tratamiento->Final : 0.9994921306448978\n",
      "Tratamiento->Reaccion : 0.999999999999999\n",
      "Enfermedad->Final 0.04992603550295858 0.04992603550295858\n",
      "Enfermedad->Reaccion 0.04992603550295858 0.04992603550295858\n",
      "Reaccion->Final 0.04992603550295858 0.06310096153846154\n",
      "Tratamiento->Final 0.04992603550295858 0.06310096153846154\n",
      "Tratamiento->Reaccion 0.04992603550295858 0.02496301775147929\n",
      "Enfermedad->Final : 0.039187792254320675\n",
      "Enfermedad->Reaccion : 0.279289708579205\n",
      "Reaccion->Final : 0.3248124851468511\n",
      "Tratamiento->Final : 0.9993581955804005\n",
      "Tratamiento->Reaccion : 0.9999999999999994\n"
     ]
    },
    {
     "name": "stderr",
     "output_type": "stream",
     "text": [
      "WARNING:root:Replacing existing CPD for Tratamiento\n",
      "WARNING:root:Replacing existing CPD for Final\n",
      "WARNING:root:Replacing existing CPD for Reaccion\n",
      "WARNING:root:Replacing existing CPD for Enfermedad\n",
      "WARNING:root:Replacing existing CPD for Tratamiento\n",
      "WARNING:root:Replacing existing CPD for Final\n",
      "WARNING:root:Replacing existing CPD for Reaccion\n",
      "WARNING:root:Replacing existing CPD for Enfermedad\n"
     ]
    },
    {
     "name": "stdout",
     "output_type": "stream",
     "text": [
      "Enfermedad->Final 0.24834467120181405 0.24834467120181405\n",
      "Enfermedad->Reaccion 0.24834467120181405 0.24834467120181405\n",
      "Reaccion->Final 0.24834467120181405 0.24834467120181405\n",
      "Tratamiento->Final 0.24834467120181405 0.12417233560090703\n",
      "Tratamiento->Reaccion 0.24834467120181405 0.12417233560090703\n",
      "Enfermedad->Final : 0.039187792254320675\n",
      "Enfermedad->Reaccion : 0.279289708579205\n",
      "Reaccion->Final : 0.3248124851468511\n",
      "Tratamiento->Final : 0.9996789947789154\n",
      "Tratamiento->Reaccion : 0.9999999999999998\n",
      "Enfermedad->Final 0.32707369170523315 0.32707369170523315\n",
      "Enfermedad->Reaccion 0.32707369170523315 0.32707369170523315\n",
      "Reaccion->Final 0.32707369170523315 0.32707369170523315\n",
      "Tratamiento->Final 0.32707369170523315 0.21804912780348878\n",
      "Tratamiento->Reaccion 0.32707369170523315 0.16353684585261657\n",
      "Enfermedad->Final : 0.039187792254320675\n",
      "Enfermedad->Reaccion : 0.279289708579205\n",
      "Reaccion->Final : 0.3248124851468511\n",
      "Tratamiento->Final : 0.9997859736180815\n",
      "Tratamiento->Reaccion : 0.9999999999999998\n",
      "Enfermedad->Final 0.05144554109529217 0.05144554109529217\n",
      "Enfermedad->Reaccion 0.05144554109529217 0.05144554109529217\n"
     ]
    },
    {
     "name": "stderr",
     "output_type": "stream",
     "text": [
      "WARNING:root:Replacing existing CPD for Tratamiento\n",
      "WARNING:root:Replacing existing CPD for Final\n",
      "WARNING:root:Replacing existing CPD for Reaccion\n",
      "WARNING:root:Replacing existing CPD for Enfermedad\n",
      "WARNING:root:Replacing existing CPD for Enfermedad\n",
      "WARNING:root:Replacing existing CPD for Reaccion\n",
      "WARNING:root:Replacing existing CPD for Tratamiento\n",
      "WARNING:root:Replacing existing CPD for Final\n"
     ]
    },
    {
     "name": "stdout",
     "output_type": "stream",
     "text": [
      "Reaccion->Final 0.05144554109529217 0.05144554109529217\n",
      "Tratamiento->Final 0.05144554109529217 0.10289108219058432\n",
      "Tratamiento->Reaccion 0.05144554109529217 0.025722770547646084\n",
      "Enfermedad->Final : 0.039187792254320675\n",
      "Enfermedad->Reaccion : 0.279289708579205\n",
      "Reaccion->Final : 0.3248124851468511\n",
      "Tratamiento->Final : 0.9995720388311436\n",
      "Tratamiento->Reaccion : 0.9999999999999999\n",
      "Enfermedad->Final 0.32578875171467764 0.32578875171467764\n",
      "Enfermedad->Reaccion 0.32578875171467764 0.32578875171467764\n",
      "Reaccion->Final 0.32578875171467764 0.32578875171467764\n",
      "Tratamiento->Final 0.32578875171467764 0.21906485029090392\n",
      "Tratamiento->Reaccion 0.32578875171467764 0.16289437585733882\n",
      "Enfermedad->Final : 0.039187792254320675\n",
      "Enfermedad->Reaccion : 0.279289708579205\n",
      "Reaccion->Final : 0.3248124851468511\n",
      "Tratamiento->Final : 0.9997121926582352\n",
      "Tratamiento->Reaccion : 1.0\n",
      "Enfermedad->Final 0.24627556602979547 0.24627556602979547\n",
      "Enfermedad->Reaccion 0.24627556602979547 0.24627556602979547\n",
      "Reaccion->Final 0.24627556602979547 0.24627556602979547\n",
      "Tratamiento->Final 0.24627556602979547 0.12313778301489774\n"
     ]
    },
    {
     "name": "stderr",
     "output_type": "stream",
     "text": [
      "WARNING:root:Replacing existing CPD for Tratamiento\n",
      "WARNING:root:Replacing existing CPD for Final\n",
      "WARNING:root:Replacing existing CPD for Reaccion\n",
      "WARNING:root:Replacing existing CPD for Enfermedad\n",
      "WARNING:root:Replacing existing CPD for Tratamiento\n",
      "WARNING:root:Replacing existing CPD for Final\n",
      "WARNING:root:Replacing existing CPD for Reaccion\n",
      "WARNING:root:Replacing existing CPD for Enfermedad\n"
     ]
    },
    {
     "name": "stdout",
     "output_type": "stream",
     "text": [
      "Tratamiento->Reaccion 0.24627556602979547 0.12313778301489774\n",
      "Enfermedad->Final : 0.039187792254320675\n",
      "Enfermedad->Reaccion : 0.279289708579205\n",
      "Reaccion->Final : 0.32481248514685107\n",
      "Tratamiento->Final : 0.9998560756178707\n",
      "Tratamiento->Reaccion : 1.0\n",
      "Enfermedad->Final 0.3287603305785124 0.3287603305785124\n",
      "Enfermedad->Reaccion 0.3287603305785124 0.3287603305785124\n",
      "Reaccion->Final 0.3287603305785124 0.3287603305785124\n",
      "Tratamiento->Final 0.3287603305785124 0.22010225521781762\n",
      "Tratamiento->Reaccion 0.3287603305785124 0.1643801652892562\n",
      "Enfermedad->Final : 0.039187792254320675\n",
      "Enfermedad->Reaccion : 0.279289708579205\n",
      "Reaccion->Final : 0.32481248514685107\n",
      "Tratamiento->Final : 0.999903639262153\n",
      "Tratamiento->Reaccion : 1.0\n",
      "Enfermedad->Final 0.2500608716824933 0.2500608716824933\n",
      "Enfermedad->Reaccion 0.2500608716824933 0.2500608716824933\n",
      "Reaccion->Final 0.2500608716824933 0.2500608716824933\n",
      "Tratamiento->Final 0.2500608716824933 0.12503043584124665\n",
      "Tratamiento->Reaccion 0.2500608716824933 0.12503043584124665\n"
     ]
    },
    {
     "name": "stderr",
     "output_type": "stream",
     "text": [
      "WARNING:root:Replacing existing CPD for Tratamiento\n",
      "WARNING:root:Replacing existing CPD for Final\n",
      "WARNING:root:Replacing existing CPD for Reaccion\n",
      "WARNING:root:Replacing existing CPD for Enfermedad\n",
      "WARNING:root:Replacing existing CPD for Enfermedad\n",
      "WARNING:root:Replacing existing CPD for Reaccion\n",
      "WARNING:root:Replacing existing CPD for Tratamiento\n",
      "WARNING:root:Replacing existing CPD for Final\n",
      "WARNING:root:Replacing existing CPD for Reaccion\n",
      "WARNING:root:Replacing existing CPD for Final\n",
      "WARNING:root:Replacing existing CPD for Tratamiento\n",
      "WARNING:root:Replacing existing CPD for Enfermedad\n"
     ]
    },
    {
     "name": "stdout",
     "output_type": "stream",
     "text": [
      "Enfermedad->Final : 0.039187792254320675\n",
      "Enfermedad->Reaccion : 0.279289708579205\n",
      "Reaccion->Final : 0.32481248514685107\n",
      "Tratamiento->Final : 0.9999518173096167\n",
      "Tratamiento->Reaccion : 1.0\n",
      "Enfermedad->Final 0.0510204081632653 0.0510204081632653\n",
      "Enfermedad->Reaccion 0.0510204081632653 0.0510204081632653\n",
      "Reaccion->Final 0.0510204081632653 0.0510204081632653\n",
      "Tratamiento->Final 0.0510204081632653 0.1020408163265306\n",
      "Tratamiento->Reaccion 0.0510204081632653 0.02551020408163265\n",
      "Enfermedad->Final : 0.039187792254320675\n",
      "Enfermedad->Reaccion : 0.279289708579205\n",
      "Reaccion->Final : 0.32481248514685107\n",
      "Tratamiento->Final : 0.999903639262153\n",
      "Tratamiento->Reaccion : 1.0\n",
      "Enfermedad->Final 0.3257890202834991 0.3257890202834991\n",
      "Enfermedad->Reaccion 0.3257890202834991 0.3257890202834991\n",
      "Reaccion->Final 0.3257890202834991 0.3257890202834991\n",
      "Tratamiento->Final 0.3257890202834991 0.21897294805940107\n",
      "Tratamiento->Reaccion 0.3257890202834991 0.16289451014174955\n",
      "Enfermedad->Final : 0.039187792254320675\n",
      "Enfermedad->Reaccion : 0.279289708579205\n",
      "Reaccion->Final : 0.32481248514685107\n",
      "Tratamiento->Final : 0.9999352309003985\n",
      "Tratamiento->Reaccion : 1.0\n"
     ]
    },
    {
     "name": "stderr",
     "output_type": "stream",
     "text": [
      "WARNING:root:Replacing existing CPD for Reaccion\n",
      "WARNING:root:Replacing existing CPD for Final\n",
      "WARNING:root:Replacing existing CPD for Tratamiento\n",
      "WARNING:root:Replacing existing CPD for Enfermedad\n",
      "WARNING:root:Replacing existing CPD for Enfermedad\n",
      "WARNING:root:Replacing existing CPD for Reaccion\n",
      "WARNING:root:Replacing existing CPD for Tratamiento\n",
      "WARNING:root:Replacing existing CPD for Final\n"
     ]
    },
    {
     "name": "stdout",
     "output_type": "stream",
     "text": [
      "Enfermedad->Final 0.3303324099722992 0.3303324099722992\n",
      "Enfermedad->Reaccion 0.3303324099722992 0.3303324099722992\n",
      "Reaccion->Final 0.3303324099722992 0.24774930747922438\n",
      "Tratamiento->Final 0.3303324099722992 0.24774930747922438\n",
      "Tratamiento->Reaccion 0.3303324099722992 0.1651662049861496\n",
      "Enfermedad->Final : 0.039187792254320675\n",
      "Enfermedad->Reaccion : 0.279289708579205\n",
      "Reaccion->Final : 0.3907738996985926\n",
      "Tratamiento->Final : 0.9999514223887168\n",
      "Tratamiento->Reaccion : 1.0\n",
      "Enfermedad->Final 0.334820415879017 0.334820415879017\n",
      "Enfermedad->Reaccion 0.334820415879017 0.334820415879017\n",
      "Reaccion->Final 0.334820415879017 0.25111531190926273\n",
      "Tratamiento->Final 0.334820415879017 0.25111531190926273\n",
      "Tratamiento->Reaccion 0.334820415879017 0.1674102079395085\n",
      "Enfermedad->Final : 0.039187792254320675\n",
      "Enfermedad->Reaccion : 0.279289708579205\n",
      "Reaccion->Final : 0.460984909354562\n",
      "Tratamiento->Final : 0.9999635663490727\n",
      "Tratamiento->Reaccion : 1.0\n"
     ]
    },
    {
     "name": "stderr",
     "output_type": "stream",
     "text": [
      "WARNING:root:Replacing existing CPD for Enfermedad\n",
      "WARNING:root:Replacing existing CPD for Reaccion\n",
      "WARNING:root:Replacing existing CPD for Final\n",
      "WARNING:root:Replacing existing CPD for Tratamiento\n",
      "WARNING:root:Replacing existing CPD for Reaccion\n",
      "WARNING:root:Replacing existing CPD for Final\n",
      "WARNING:root:Replacing existing CPD for Tratamiento\n",
      "WARNING:root:Replacing existing CPD for Enfermedad\n"
     ]
    },
    {
     "name": "stdout",
     "output_type": "stream",
     "text": [
      "Enfermedad->Final 0.33925386444708683 0.33925386444708683\n",
      "Enfermedad->Reaccion 0.33925386444708683 0.33925386444708683\n",
      "Reaccion->Final 0.33925386444708683 0.33925386444708683\n",
      "Tratamiento->Final 0.33925386444708683 0.22802308921853376\n",
      "Tratamiento->Reaccion 0.33925386444708683 0.16962693222354341\n",
      "Enfermedad->Final : 0.039187792254320675\n",
      "Enfermedad->Reaccion : 0.279289708579205\n",
      "Reaccion->Final : 0.460984909354562\n",
      "Tratamiento->Final : 0.9999755115158668\n",
      "Tratamiento->Reaccion : 1.0\n",
      "Enfermedad->Final 0.24545255314486084 0.24545255314486084\n",
      "Enfermedad->Reaccion 0.24545255314486084 0.24545255314486084\n",
      "Reaccion->Final 0.24545255314486084 0.2163050624589086\n",
      "Tratamiento->Final 0.24545255314486084 0.2163050624589086\n",
      "Tratamiento->Reaccion 0.24545255314486084 0.12272627657243042\n",
      "Enfermedad->Final : 0.039187792254320675\n",
      "Enfermedad->Reaccion : 0.279289708579205\n",
      "Reaccion->Final : 0.4925094766268589\n",
      "Tratamiento->Final : 0.9999784194606013\n",
      "Tratamiento->Reaccion : 1.0\n"
     ]
    },
    {
     "name": "stderr",
     "output_type": "stream",
     "text": [
      "WARNING:root:Replacing existing CPD for Reaccion\n",
      "WARNING:root:Replacing existing CPD for Final\n",
      "WARNING:root:Replacing existing CPD for Tratamiento\n",
      "WARNING:root:Replacing existing CPD for Enfermedad\n",
      "WARNING:root:Replacing existing CPD for Tratamiento\n",
      "WARNING:root:Replacing existing CPD for Final\n",
      "WARNING:root:Replacing existing CPD for Reaccion\n",
      "WARNING:root:Replacing existing CPD for Enfermedad\n"
     ]
    },
    {
     "name": "stdout",
     "output_type": "stream",
     "text": [
      "Enfermedad->Final 0.25028727377190463 0.25028727377190463\n",
      "Enfermedad->Reaccion 0.25028727377190463 0.25028727377190463\n",
      "Reaccion->Final 0.25028727377190463 0.21976443550703822\n",
      "Tratamiento->Final 0.25028727377190463 0.21976443550703822\n",
      "Tratamiento->Reaccion 0.25028727377190463 0.12514363688595231\n",
      "Enfermedad->Final : 0.039187792254320675\n",
      "Enfermedad->Reaccion : 0.279289708579205\n",
      "Reaccion->Final : 0.5250013302695529\n",
      "Tratamiento->Final : 0.9999810511838297\n",
      "Tratamiento->Reaccion : 1.0\n",
      "Enfermedad->Final 0.3400889767671775 0.3400889767671775\n",
      "Enfermedad->Reaccion 0.3400889767671775 0.3400889767671775\n",
      "Reaccion->Final 0.3400889767671775 0.2550667325753831\n",
      "Tratamiento->Final 0.3400889767671775 0.2550667325753831\n",
      "Tratamiento->Reaccion 0.3400889767671775 0.17004448838358874\n",
      "Enfermedad->Final : 0.039187792254320675\n",
      "Enfermedad->Reaccion : 0.279289708579205\n",
      "Reaccion->Final : 0.5957459655533311\n",
      "Tratamiento->Final : 0.9999857883205486\n",
      "Tratamiento->Reaccion : 1.0\n",
      "Enfermedad->Final 0.344375 0.344375\n"
     ]
    },
    {
     "name": "stderr",
     "output_type": "stream",
     "text": [
      "WARNING:root:Replacing existing CPD for Reaccion\n",
      "WARNING:root:Replacing existing CPD for Final\n",
      "WARNING:root:Replacing existing CPD for Tratamiento\n",
      "WARNING:root:Replacing existing CPD for Enfermedad\n",
      "WARNING:root:Replacing existing CPD for Enfermedad\n",
      "WARNING:root:Replacing existing CPD for Reaccion\n",
      "WARNING:root:Replacing existing CPD for Final\n",
      "WARNING:root:Replacing existing CPD for Tratamiento\n"
     ]
    },
    {
     "name": "stdout",
     "output_type": "stream",
     "text": [
      "Enfermedad->Reaccion 0.344375 0.344375\n",
      "Reaccion->Final 0.344375 0.344375\n",
      "Tratamiento->Final 0.344375 0.2295833333333333\n",
      "Tratamiento->Reaccion 0.344375 0.1721875\n",
      "Enfermedad->Final : 0.039187792254320675\n",
      "Enfermedad->Reaccion : 0.279289708579205\n",
      "Reaccion->Final : 0.5957459655533311\n",
      "Tratamiento->Final : 0.9999905255021495\n",
      "Tratamiento->Reaccion : 1.0\n",
      "Enfermedad->Final 0.047332832456799395 0.047332832456799395\n",
      "Enfermedad->Reaccion 0.047332832456799395 0.047332832456799395\n",
      "Reaccion->Final 0.047332832456799395 0.05916604057099925\n",
      "Tratamiento->Final 0.047332832456799395 0.05916604057099925\n",
      "Tratamiento->Reaccion 0.047332832456799395 0.023666416228399698\n",
      "Enfermedad->Final : 0.039187792254320675\n",
      "Enfermedad->Reaccion : 0.279289708579205\n",
      "Reaccion->Final : 0.5410641265411731\n",
      "Tratamiento->Final : 0.9999881569057387\n",
      "Tratamiento->Reaccion : 1.0\n",
      "Enfermedad->Final 0.24832034399355013 0.24832034399355013\n"
     ]
    },
    {
     "name": "stderr",
     "output_type": "stream",
     "text": [
      "WARNING:root:Replacing existing CPD for Reaccion\n",
      "WARNING:root:Replacing existing CPD for Final\n",
      "WARNING:root:Replacing existing CPD for Tratamiento\n",
      "WARNING:root:Replacing existing CPD for Enfermedad\n",
      "WARNING:root:Replacing existing CPD for Reaccion\n",
      "WARNING:root:Replacing existing CPD for Final\n",
      "WARNING:root:Replacing existing CPD for Tratamiento\n",
      "WARNING:root:Replacing existing CPD for Enfermedad\n"
     ]
    },
    {
     "name": "stdout",
     "output_type": "stream",
     "text": [
      "Enfermedad->Reaccion 0.24832034399355013 0.24832034399355013\n",
      "Reaccion->Final 0.24832034399355013 0.21875839828003227\n",
      "Tratamiento->Final 0.24832034399355013 0.21875839828003227\n",
      "Tratamiento->Reaccion 0.24832034399355013 0.12416017199677506\n",
      "Enfermedad->Final : 0.039187792254320675\n",
      "Enfermedad->Reaccion : 0.279289708579205\n",
      "Reaccion->Final : 0.5723337062290488\n",
      "Tratamiento->Final : 0.9999895667832029\n",
      "Tratamiento->Reaccion : 1.0\n",
      "Enfermedad->Final 0.2529578954326129 0.2529578954326129\n",
      "Enfermedad->Reaccion 0.2529578954326129 0.2529578954326129\n",
      "Reaccion->Final 0.2529578954326129 0.2220735012228171\n",
      "Tratamiento->Final 0.2529578954326129 0.22207350122281708\n",
      "Tratamiento->Reaccion 0.2529578954326129 0.12647894771630644\n",
      "Enfermedad->Final : 0.039187792254320675\n",
      "Enfermedad->Reaccion : 0.279289708579205\n",
      "Reaccion->Final : 0.6038645356838647\n",
      "Tratamiento->Final : 0.9999908405945166\n",
      "Tratamiento->Reaccion : 1.0\n"
     ]
    },
    {
     "name": "stderr",
     "output_type": "stream",
     "text": [
      "WARNING:root:Replacing existing CPD for Reaccion\n",
      "WARNING:root:Replacing existing CPD for Final\n",
      "WARNING:root:Replacing existing CPD for Tratamiento\n",
      "WARNING:root:Replacing existing CPD for Enfermedad\n",
      "WARNING:root:Replacing existing CPD for Tratamiento\n",
      "WARNING:root:Replacing existing CPD for Final\n",
      "WARNING:root:Replacing existing CPD for Reaccion\n",
      "WARNING:root:Replacing existing CPD for Enfermedad\n"
     ]
    },
    {
     "name": "stdout",
     "output_type": "stream",
     "text": [
      "Enfermedad->Final 0.25754422476586886 0.25754422476586886\n",
      "Enfermedad->Reaccion 0.25754422476586886 0.25754422476586886\n",
      "Reaccion->Final 0.25754422476586886 0.22535119667013526\n",
      "Tratamiento->Final 0.25754422476586886 0.22535119667013526\n",
      "Tratamiento->Reaccion 0.25754422476586886 0.12877211238293443\n",
      "Enfermedad->Final : 0.039187792254320675\n",
      "Enfermedad->Reaccion : 0.279289708579205\n",
      "Reaccion->Final : 0.6353238228798144\n",
      "Tratamiento->Final : 0.999991985511026\n",
      "Tratamiento->Reaccion : 1.0\n",
      "Enfermedad->Final 0.12620800000000001 0.12620800000000001\n",
      "Enfermedad->Reaccion 0.12620800000000001 0.12620800000000001\n",
      "Reaccion->Final 0.12620800000000001 0.09465600000000002\n",
      "Tratamiento->Final 0.12620800000000001 0.09465600000000002\n",
      "Tratamiento->Reaccion 0.12620800000000001 0.06310400000000001\n",
      "Enfermedad->Final : 0.039187792254320675\n",
      "Enfermedad->Reaccion : 0.279289708579205\n",
      "Reaccion->Final : 0.6990560993562619\n",
      "Tratamiento->Final : 0.999993989121226\n",
      "Tratamiento->Reaccion : 1.0\n"
     ]
    },
    {
     "name": "stderr",
     "output_type": "stream",
     "text": [
      "WARNING:root:Replacing existing CPD for Tratamiento\n",
      "WARNING:root:Replacing existing CPD for Final\n",
      "WARNING:root:Replacing existing CPD for Reaccion\n",
      "WARNING:root:Replacing existing CPD for Enfermedad\n",
      "WARNING:root:Replacing existing CPD for Reaccion\n",
      "WARNING:root:Replacing existing CPD for Final\n",
      "WARNING:root:Replacing existing CPD for Tratamiento\n",
      "WARNING:root:Replacing existing CPD for Enfermedad\n"
     ]
    },
    {
     "name": "stdout",
     "output_type": "stream",
     "text": [
      "Enfermedad->Final 0.33818342151675485 0.33818342151675485\n",
      "Enfermedad->Reaccion 0.33818342151675485 0.33818342151675485\n",
      "Reaccion->Final 0.33818342151675485 0.33818342151675485\n",
      "Tratamiento->Final 0.33818342151675485 0.224614362052173\n",
      "Tratamiento->Reaccion 0.33818342151675485 0.16909171075837742\n",
      "Enfermedad->Final : 0.039187792254320675\n",
      "Enfermedad->Reaccion : 0.279289708579205\n",
      "Reaccion->Final : 0.6990560993562619\n",
      "Tratamiento->Final : 0.9999960076918599\n",
      "Tratamiento->Reaccion : 1.0\n",
      "Enfermedad->Final 0.1302002604005208 0.1302002604005208\n",
      "Enfermedad->Reaccion 0.1302002604005208 0.1302002604005208\n",
      "Reaccion->Final 0.1302002604005208 0.1302002604005208\n",
      "Tratamiento->Final 0.1302002604005208 0.08647629235556979\n",
      "Tratamiento->Reaccion 0.1302002604005208 0.0651001302002604\n",
      "Enfermedad->Final : 0.039187792254320675\n",
      "Enfermedad->Reaccion : 0.279289708579205\n",
      "Reaccion->Final : 0.6990560993562619\n",
      "Tratamiento->Final : 0.9999973483887997\n",
      "Tratamiento->Reaccion : 1.0\n",
      "Enfermedad->Final 0.252685546875 0.252685546875\n"
     ]
    },
    {
     "name": "stderr",
     "output_type": "stream",
     "text": [
      "WARNING:root:Replacing existing CPD for Enfermedad\n",
      "WARNING:root:Replacing existing CPD for Reaccion\n",
      "WARNING:root:Replacing existing CPD for Final\n",
      "WARNING:root:Replacing existing CPD for Tratamiento\n",
      "WARNING:root:Replacing existing CPD for Tratamiento\n",
      "WARNING:root:Replacing existing CPD for Final\n",
      "WARNING:root:Replacing existing CPD for Reaccion\n",
      "WARNING:root:Replacing existing CPD for Enfermedad\n"
     ]
    },
    {
     "name": "stdout",
     "output_type": "stream",
     "text": [
      "Enfermedad->Reaccion 0.252685546875 0.252685546875\n",
      "Reaccion->Final 0.252685546875 0.22039794921875\n",
      "Tratamiento->Final 0.252685546875 0.22039794921875\n",
      "Tratamiento->Reaccion 0.252685546875 0.1263427734375\n",
      "Enfermedad->Final : 0.039187792254320675\n",
      "Enfermedad->Reaccion : 0.279289708579205\n",
      "Reaccion->Final : 0.7270126003485907\n",
      "Tratamiento->Final : 0.9999976872050028\n",
      "Tratamiento->Reaccion : 1.0\n",
      "Enfermedad->Final 0.34090499369028304 0.34090499369028304\n",
      "Enfermedad->Reaccion 0.34090499369028304 0.34090499369028304\n",
      "Reaccion->Final 0.34090499369028304 0.2556787452677123\n",
      "Tratamiento->Final 0.34090499369028304 0.2556787452677123\n",
      "Tratamiento->Reaccion 0.34090499369028304 0.17045249684514152\n",
      "Enfermedad->Final : 0.039187792254320675\n",
      "Enfermedad->Reaccion : 0.279289708579205\n",
      "Reaccion->Final : 0.7802630989555469\n",
      "Tratamiento->Final : 0.9999982654027492\n",
      "Tratamiento->Reaccion : 1.0\n",
      "Enfermedad->Final 0.13207100591715976 0.13207100591715976\n"
     ]
    },
    {
     "name": "stderr",
     "output_type": "stream",
     "text": [
      "WARNING:root:Replacing existing CPD for Enfermedad\n",
      "WARNING:root:Replacing existing CPD for Reaccion\n",
      "WARNING:root:Replacing existing CPD for Final\n",
      "WARNING:root:Replacing existing CPD for Tratamiento\n",
      "WARNING:root:Replacing existing CPD for Reaccion\n",
      "WARNING:root:Replacing existing CPD for Final\n",
      "WARNING:root:Replacing existing CPD for Tratamiento\n",
      "WARNING:root:Replacing existing CPD for Enfermedad\n"
     ]
    },
    {
     "name": "stdout",
     "output_type": "stream",
     "text": [
      "Enfermedad->Reaccion 0.13207100591715976 0.13207100591715976\n",
      "Reaccion->Final 0.13207100591715976 0.13207100591715976\n",
      "Tratamiento->Final 0.13207100591715976 0.08739993038635573\n",
      "Tratamiento->Reaccion 0.13207100591715976 0.06603550295857988\n",
      "Enfermedad->Final : 0.039187792254320675\n",
      "Enfermedad->Reaccion : 0.279289708579205\n",
      "Reaccion->Final : 0.7802630989555469\n",
      "Tratamiento->Final : 0.999998852104087\n",
      "Tratamiento->Reaccion : 1.0\n",
      "Enfermedad->Final 0.3450847852689237 0.3450847852689237\n",
      "Enfermedad->Reaccion 0.3450847852689237 0.3450847852689237\n",
      "Reaccion->Final 0.3450847852689237 0.2588135889516928\n",
      "Tratamiento->Final 0.3450847852689237 0.2588135889516928\n",
      "Tratamiento->Reaccion 0.3450847852689237 0.17254239263446186\n",
      "Enfermedad->Final : 0.039187792254320675\n",
      "Enfermedad->Reaccion : 0.279289708579205\n",
      "Reaccion->Final : 0.8256177716002112\n",
      "Tratamiento->Final : 0.9999991390778182\n",
      "Tratamiento->Reaccion : 1.0\n"
     ]
    },
    {
     "name": "stderr",
     "output_type": "stream",
     "text": [
      "WARNING:root:Replacing existing CPD for Reaccion\n",
      "WARNING:root:Replacing existing CPD for Final\n",
      "WARNING:root:Replacing existing CPD for Tratamiento\n",
      "WARNING:root:Replacing existing CPD for Enfermedad\n",
      "WARNING:root:Replacing existing CPD for Reaccion\n",
      "WARNING:root:Replacing existing CPD for Final\n",
      "WARNING:root:Replacing existing CPD for Tratamiento\n",
      "WARNING:root:Replacing existing CPD for Enfermedad\n"
     ]
    },
    {
     "name": "stdout",
     "output_type": "stream",
     "text": [
      "Enfermedad->Final 0.2508034894398531 0.2508034894398531\n",
      "Enfermedad->Reaccion 0.2508034894398531 0.2508034894398531\n",
      "Reaccion->Final 0.2508034894398531 0.21808999081726355\n",
      "Tratamiento->Final 0.2508034894398531 0.21808999081726355\n",
      "Tratamiento->Reaccion 0.2508034894398531 0.12540174471992654\n",
      "Enfermedad->Final : 0.039187792254320675\n",
      "Enfermedad->Reaccion : 0.279289708579205\n",
      "Reaccion->Final : 0.8448339489896827\n",
      "Tratamiento->Final : 0.9999992513719317\n",
      "Tratamiento->Reaccion : 1.0\n",
      "Enfermedad->Final 0.2550737746622195 0.2550737746622195\n",
      "Enfermedad->Reaccion 0.2550737746622195 0.2550737746622195\n",
      "Reaccion->Final 0.2550737746622195 0.2211543897337328\n",
      "Tratamiento->Final 0.2550737746622195 0.22115438973373283\n",
      "Tratamiento->Reaccion 0.2550737746622195 0.12753688733110974\n",
      "Enfermedad->Final : 0.039187792254320675\n",
      "Enfermedad->Reaccion : 0.279289708579205\n",
      "Reaccion->Final : 0.8626333384303861\n",
      "Tratamiento->Final : 0.9999993509234719\n",
      "Tratamiento->Reaccion : 1.0\n",
      "Enfermedad->Final "
     ]
    },
    {
     "name": "stderr",
     "output_type": "stream",
     "text": [
      "WARNING:root:Replacing existing CPD for Reaccion\n",
      "WARNING:root:Replacing existing CPD for Final\n",
      "WARNING:root:Replacing existing CPD for Tratamiento\n",
      "WARNING:root:Replacing existing CPD for Enfermedad\n",
      "WARNING:root:Replacing existing CPD for Enfermedad\n",
      "WARNING:root:Replacing existing CPD for Reaccion\n",
      "WARNING:root:Replacing existing CPD for Final\n",
      "WARNING:root:Replacing existing CPD for Tratamiento\n"
     ]
    },
    {
     "name": "stdout",
     "output_type": "stream",
     "text": [
      "0.34573401648474045 0.34573401648474045\n",
      "Enfermedad->Reaccion 0.34573401648474045 0.34573401648474045\n",
      "Reaccion->Final 0.34573401648474045 0.25930051236355534\n",
      "Tratamiento->Final 0.34573401648474045 0.2593005123635554\n",
      "Tratamiento->Reaccion 0.34573401648474045 0.17286700824237025\n",
      "Enfermedad->Final : 0.039187792254320675\n",
      "Enfermedad->Reaccion : 0.279289708579205\n",
      "Reaccion->Final : 0.8933111303605374\n",
      "Tratamiento->Final : 0.999999513192525\n",
      "Tratamiento->Reaccion : 1.0\n",
      "Enfermedad->Final 0.13196159122085047 0.13196159122085047\n",
      "Enfermedad->Reaccion 0.13196159122085047 0.13196159122085047\n",
      "Reaccion->Final 0.13196159122085047 0.09897119341563786\n",
      "Tratamiento->Final 0.13196159122085047 0.09897119341563786\n",
      "Tratamiento->Reaccion 0.13196159122085047 0.06598079561042523\n",
      "Enfermedad->Final : 0.039187792254320675\n",
      "Enfermedad->Reaccion : 0.279289708579205\n",
      "Reaccion->Final : 0.9177906418979805\n",
      "Tratamiento->Final : 0.9999996348943494\n",
      "Tratamiento->Reaccion : 1.0\n"
     ]
    },
    {
     "name": "stderr",
     "output_type": "stream",
     "text": [
      "WARNING:root:Replacing existing CPD for Reaccion\n",
      "WARNING:root:Replacing existing CPD for Final\n",
      "WARNING:root:Replacing existing CPD for Tratamiento\n",
      "WARNING:root:Replacing existing CPD for Enfermedad\n",
      "WARNING:root:Replacing existing CPD for Reaccion\n",
      "WARNING:root:Replacing existing CPD for Final\n",
      "WARNING:root:Replacing existing CPD for Tratamiento\n",
      "WARNING:root:Replacing existing CPD for Enfermedad\n"
     ]
    },
    {
     "name": "stdout",
     "output_type": "stream",
     "text": [
      "Enfermedad->Final 0.34969723183391005 0.34969723183391005\n",
      "Enfermedad->Reaccion 0.34969723183391005 0.34969723183391005\n",
      "Reaccion->Final 0.34969723183391005 0.26227292387543255\n",
      "Tratamiento->Final 0.34969723183391005 0.26227292387543255\n",
      "Tratamiento->Reaccion 0.34969723183391005 0.17484861591695502\n",
      "Enfermedad->Final : 0.039187792254320675\n",
      "Enfermedad->Reaccion : 0.279289708579205\n",
      "Reaccion->Final : 0.93704919510794\n",
      "Tratamiento->Final : 0.9999997261707371\n",
      "Tratamiento->Reaccion : 1.0\n",
      "Enfermedad->Final 0.04454153124833502 0.04454153124833502\n",
      "Enfermedad->Reaccion 0.04454153124833502 0.04454153124833502\n",
      "Reaccion->Final 0.04454153124833502 0.05770152911716128\n",
      "Tratamiento->Final 0.04454153124833502 0.05770152911716128\n",
      "Tratamiento->Reaccion 0.04454153124833502 0.02227076562416751\n",
      "Enfermedad->Final : 0.039187792254320675\n",
      "Enfermedad->Reaccion : 0.27928970857920493\n",
      "Reaccion->Final : 0.9199391534689919\n",
      "Tratamiento->Final : 0.9999996452666654\n",
      "Tratamiento->Reaccion : 1.0\n"
     ]
    },
    {
     "name": "stderr",
     "output_type": "stream",
     "text": [
      "WARNING:root:Replacing existing CPD for Enfermedad\n",
      "WARNING:root:Replacing existing CPD for Reaccion\n",
      "WARNING:root:Replacing existing CPD for Final\n",
      "WARNING:root:Replacing existing CPD for Tratamiento\n"
     ]
    },
    {
     "name": "stdout",
     "output_type": "stream",
     "text": [
      "Enfermedad->Final 0.24952741020793948 0.24952741020793948\n",
      "Enfermedad->Reaccion 0.24952741020793948 0.24952741020793948\n",
      "Reaccion->Final 0.24952741020793948 0.21703686200378072\n",
      "Tratamiento->Final 0.24952741020793948 0.21703686200378072\n",
      "Tratamiento->Reaccion 0.24952741020793948 0.12476370510396974\n",
      "Enfermedad->Final : 0.039187792254320675\n",
      "Enfermedad->Reaccion : 0.27928970857920493\n",
      "Reaccion->Final : 0.9296301662384991\n",
      "Tratamiento->Final : 0.9999996914558874\n",
      "Tratamiento->Reaccion : 1.0\n",
      "Enfermedad->Final 0.13524144713006572 0.13524144713006572\n",
      "Enfermedad->Reaccion 0.13524144713006572 0.13524144713006572\n",
      "Reaccion->Final 0.13524144713006572 0.1014310853475493\n",
      "Tratamiento->Final 0.13524144713006572 0.1014310853475493\n",
      "Tratamiento->Reaccion 0.13524144713006572 0.06762072356503286\n"
     ]
    },
    {
     "name": "stderr",
     "output_type": "stream",
     "text": [
      "WARNING:root:Replacing existing CPD for Reaccion\n",
      "WARNING:root:Replacing existing CPD for Final\n",
      "WARNING:root:Replacing existing CPD for Tratamiento\n",
      "WARNING:root:Replacing existing CPD for Enfermedad\n",
      "WARNING:root:Replacing existing CPD for Reaccion\n",
      "WARNING:root:Replacing existing CPD for Final\n",
      "WARNING:root:Replacing existing CPD for Tratamiento\n",
      "WARNING:root:Replacing existing CPD for Enfermedad\n"
     ]
    },
    {
     "name": "stdout",
     "output_type": "stream",
     "text": [
      "Enfermedad->Final : 0.039187792254320675\n",
      "Enfermedad->Reaccion : 0.27928970857920493\n",
      "Reaccion->Final : 0.9462775140779776\n",
      "Tratamiento->Final : 0.9999997685918978\n",
      "Tratamiento->Reaccion : 1.0\n",
      "Enfermedad->Final 0.046938775510204075 0.046938775510204075\n",
      "Enfermedad->Reaccion 0.046938775510204075 0.046938775510204075\n",
      "Reaccion->Final 0.046938775510204075 0.06020408163265306\n",
      "Tratamiento->Final 0.046938775510204075 0.06020408163265305\n",
      "Tratamiento->Reaccion 0.046938775510204075 0.02346938775510204\n",
      "Enfermedad->Final : 0.039187792254320675\n",
      "Enfermedad->Reaccion : 0.27928970857920493\n",
      "Reaccion->Final : 0.9321255719493712\n",
      "Tratamiento->Final : 0.9999997031939752\n",
      "Tratamiento->Reaccion : 1.0\n",
      "Enfermedad->Final 0.34203510889794275 0.34203510889794275\n",
      "Enfermedad->Reaccion 0.34203510889794275 0.34203510889794275\n",
      "Reaccion->Final 0.34203510889794275 0.25652633167345706\n",
      "Tratamiento->Final 0.34203510889794275 0.25652633167345706\n",
      "Tratamiento->Reaccion 0.34203510889794275 0.17101755444897138\n"
     ]
    },
    {
     "name": "stderr",
     "output_type": "stream",
     "text": [
      "WARNING:root:Replacing existing CPD for Enfermedad\n",
      "WARNING:root:Replacing existing CPD for Reaccion\n",
      "WARNING:root:Replacing existing CPD for Final\n",
      "WARNING:root:Replacing existing CPD for Tratamiento\n",
      "WARNING:root:Replacing existing CPD for Enfermedad\n",
      "WARNING:root:Replacing existing CPD for Reaccion\n",
      "WARNING:root:Replacing existing CPD for Final\n",
      "WARNING:root:Replacing existing CPD for Tratamiento\n"
     ]
    },
    {
     "name": "stdout",
     "output_type": "stream",
     "text": [
      "Enfermedad->Final : 0.039187792254320675\n",
      "Enfermedad->Reaccion : 0.27928970857920493\n",
      "Reaccion->Final : 0.9482154675820949\n",
      "Tratamiento->Final : 0.999999777395465\n",
      "Tratamiento->Reaccion : 1.0\n",
      "Enfermedad->Final 0.34561594921642536 0.34561594921642536\n",
      "Enfermedad->Reaccion 0.34561594921642536 0.34561594921642536\n",
      "Reaccion->Final 0.34561594921642536 0.259211961912319\n",
      "Tratamiento->Final 0.34561594921642536 0.259211961912319\n",
      "Tratamiento->Reaccion 0.34561594921642536 0.17280797460821268\n",
      "Enfermedad->Final : 0.039187792254320675\n",
      "Enfermedad->Reaccion : 0.27928970857920493\n",
      "Reaccion->Final : 0.9606521988150626\n",
      "Tratamiento->Final : 0.9999998330465895\n",
      "Tratamiento->Reaccion : 1.0\n",
      "Enfermedad->Final 0.34916132818230716 0.34916132818230716\n",
      "Enfermedad->Reaccion 0.34916132818230716 0.3491613281823072\n",
      "Reaccion->Final 0.34916132818230716 0.2618709961367304\n",
      "Tratamiento->Final 0.34916132818230716 0.2618709961367304\n",
      "Tratamiento->Reaccion 0.34916132818230716 0.1745806640911536\n"
     ]
    },
    {
     "name": "stderr",
     "output_type": "stream",
     "text": [
      "WARNING:root:Replacing existing CPD for Enfermedad\n",
      "WARNING:root:Replacing existing CPD for Reaccion\n",
      "WARNING:root:Replacing existing CPD for Final\n",
      "WARNING:root:Replacing existing CPD for Tratamiento\n",
      "WARNING:root:Replacing existing CPD for Reaccion\n",
      "WARNING:root:Replacing existing CPD for Final\n",
      "WARNING:root:Replacing existing CPD for Tratamiento\n",
      "WARNING:root:Replacing existing CPD for Enfermedad\n"
     ]
    },
    {
     "name": "stdout",
     "output_type": "stream",
     "text": [
      "Enfermedad->Final : 0.039187792254320675\n",
      "Enfermedad->Reaccion : 0.2792897085792049\n",
      "Reaccion->Final : 0.9701959683331628\n",
      "Tratamiento->Final : 0.9999998747849369\n",
      "Tratamiento->Reaccion : 1.0\n",
      "Enfermedad->Final 0.14038387345679013 0.14038387345679013\n",
      "Enfermedad->Reaccion 0.14038387345679013 0.14038387345679013\n",
      "Reaccion->Final 0.14038387345679013 0.10528790509259259\n",
      "Tratamiento->Final 0.14038387345679013 0.10528790509259259\n",
      "Tratamiento->Reaccion 0.14038387345679013 0.07019193672839506\n",
      "Enfermedad->Final : 0.039187792254320675\n",
      "Enfermedad->Reaccion : 0.2792897085792049\n",
      "Reaccion->Final : 0.977479173392529\n",
      "Tratamiento->Final : 0.9999999060886997\n",
      "Tratamiento->Reaccion : 1.0\n",
      "Enfermedad->Final 0.24004756242568373 0.24004756242568373\n",
      "Enfermedad->Reaccion 0.24004756242568373 0.24004756242568373\n",
      "Reaccion->Final 0.24004756242568373 0.20942925089179548\n",
      "Tratamiento->Final 0.24004756242568373 0.20942925089179548\n",
      "Tratamiento->Reaccion 0.24004756242568373 0.12002378121284187\n"
     ]
    },
    {
     "name": "stderr",
     "output_type": "stream",
     "text": [
      "WARNING:root:Replacing existing CPD for Reaccion\n",
      "WARNING:root:Replacing existing CPD for Final\n",
      "WARNING:root:Replacing existing CPD for Tratamiento\n",
      "WARNING:root:Replacing existing CPD for Enfermedad\n",
      "WARNING:root:Replacing existing CPD for Reaccion\n",
      "WARNING:root:Replacing existing CPD for Final\n",
      "WARNING:root:Replacing existing CPD for Tratamiento\n",
      "WARNING:root:Replacing existing CPD for Enfermedad\n",
      "WARNING:root:Replacing existing CPD for Reaccion\n",
      "WARNING:root:Replacing existing CPD for Final\n",
      "WARNING:root:Replacing existing CPD for Tratamiento\n",
      "WARNING:root:Replacing existing CPD for Enfermedad\n"
     ]
    },
    {
     "name": "stdout",
     "output_type": "stream",
     "text": [
      "Enfermedad->Final : 0.039187792254320675\n",
      "Enfermedad->Reaccion : 0.2792897085792049\n",
      "Reaccion->Final : 0.9802951244795896\n",
      "Tratamiento->Final : 0.9999999180671809\n",
      "Tratamiento->Reaccion : 1.0\n",
      "Enfermedad->Final 0.1418652655282417 0.1418652655282417\n",
      "Enfermedad->Reaccion 0.1418652655282417 0.1418652655282417\n",
      "Reaccion->Final 0.1418652655282417 0.10639894914618127\n",
      "Tratamiento->Final 0.1418652655282417 0.10639894914618125\n",
      "Tratamiento->Reaccion 0.1418652655282417 0.07093263276412085\n",
      "Enfermedad->Final : 0.039187792254320675\n",
      "Enfermedad->Reaccion : 0.2792897085792049\n",
      "Reaccion->Final : 0.9851481800438202\n",
      "Tratamiento->Final : 0.9999999385503844\n",
      "Tratamiento->Reaccion : 1.0\n",
      "Enfermedad->Final 0.14526354759590912 0.14526354759590912\n",
      "Enfermedad->Reaccion 0.14526354759590912 0.14526354759590912\n",
      "Reaccion->Final 0.14526354759590912 0.10894766069693185\n",
      "Tratamiento->Final 0.14526354759590912 0.10894766069693183\n",
      "Tratamiento->Reaccion 0.14526354759590912 0.07263177379795456\n",
      "Enfermedad->Final : 0.039187792254320675\n",
      "Enfermedad->Reaccion : 0.2792897085792049\n",
      "Reaccion->Final : 0.9888196227955444\n",
      "Tratamiento->Final : 0.9999999539127876\n",
      "Tratamiento->Reaccion : 1.0\n"
     ]
    },
    {
     "name": "stderr",
     "output_type": "stream",
     "text": [
      "WARNING:root:Replacing existing CPD for Reaccion\n",
      "WARNING:root:Replacing existing CPD for Final\n",
      "WARNING:root:Replacing existing CPD for Tratamiento\n",
      "WARNING:root:Replacing existing CPD for Enfermedad\n",
      "WARNING:root:Replacing existing CPD for Reaccion\n",
      "WARNING:root:Replacing existing CPD for Final\n",
      "WARNING:root:Replacing existing CPD for Tratamiento\n",
      "WARNING:root:Replacing existing CPD for Enfermedad\n"
     ]
    },
    {
     "name": "stdout",
     "output_type": "stream",
     "text": [
      "Enfermedad->Final 0.048210372534696865 0.048210372534696865\n",
      "Enfermedad->Reaccion 0.048210372534696865 0.048210372534696865\n",
      "Reaccion->Final 0.048210372534696865 0.06126734842951059\n",
      "Tratamiento->Final 0.048210372534696865 0.06126734842951059\n",
      "Tratamiento->Reaccion 0.048210372534696865 0.024105186267348432\n",
      "Enfermedad->Final : 0.039187792254320675\n",
      "Enfermedad->Reaccion : 0.2792897085792049\n",
      "Reaccion->Final : 0.9858344973779598\n",
      "Tratamiento->Final : 0.9999999414308349\n",
      "Tratamiento->Reaccion : 1.0\n",
      "Enfermedad->Final 0.14999324354758795 0.14999324354758795\n",
      "Enfermedad->Reaccion 0.14999324354758795 0.14999324354758795\n",
      "Reaccion->Final 0.14999324354758795 0.11249493266069097\n",
      "Tratamiento->Final 0.14999324354758795 0.11249493266069097\n",
      "Tratamiento->Reaccion 0.14999324354758795 0.07499662177379397\n"
     ]
    },
    {
     "data": {
      "image/png": "[encoded data removed]",
      "text/plain": [
       "<Figure size 432x288 with 1 Axes>"
      ]
     },
     "metadata": {
      "needs_background": "light"
     },
     "output_type": "display_data"
    }
   ],
   "source": [
    "DG = nx.DiGraph([(\"Reaccion\", \"Final\"), (\"Tratamiento\", \"Reaccion\"), (\"Tratamiento\", \"Final\"), (\"Enfermedad\", \"Final\")])\n",
    "causal_order = list(nx.topological_sort(DG))\n",
    "invalid_edges = sorted([(\"Enfermedad\", \"Tratamiento\")])\n",
    "\n",
    "\n",
    "COMPLETE_MODEL = BaseModel('configs/model_parameters.json')\n",
    "nature = TrueCausalModel(COMPLETE_MODEL)\n",
    "variables = sorted([\"Tratamiento\", \"Reaccion\", \"Enfermedad\", \"Final\"])\n",
    "intervention_vars = COMPLETE_MODEL.get_intervention_variables()\n",
    "target_value = 1\n",
    "target = {\n",
    "    \"variable\": COMPLETE_MODEL.get_target_variable(),\n",
    "    \"value\" : target_value\n",
    "}\n",
    "rounds = 100\n",
    "\n",
    "data = generate_data(intervention_vars, n_steps=50)\n",
    "df = pd.DataFrame.from_dict(data)\n",
    "connection_tables = create_pij(variables, causal_order, invalid_edges)\n",
    "print_dict(connection_tables)\n",
    "ebunch, nodes = create_ebunch_from_beliefs(variables, connection_tables)\n",
    "approx_model = generate_approx_model_from_graph(ebunch, nodes, df)\n",
    "\n",
    "unknown_model = BaseModel('configs/incomplete_params.json')\n",
    "unknown_model.reset(approx_model, ebunch, nodes)\n",
    "unknown_model.show_graph()\n",
    "agent = HalfBlindAgent(nature, unknown_model)\n",
    "\n",
    "connection_probas = training(rounds, agent, unknown_model, connection_tables, data, COMPLETE_MODEL)\n",
    "plot_probabilities(connection_probas)"
   ]
  },
  {
   "cell_type": "code",
   "execution_count": 9,
   "metadata": {},
   "outputs": [
    {
     "name": "stdout",
     "output_type": "stream",
     "text": [
      "Enfermedad->Final : 0.039187792254320675\n",
      "Enfermedad->Reaccion : 0.2792897085792049\n",
      "Reaccion->Final : 0.9893381152945321\n",
      "Tratamiento->Final : 0.9999999560731255\n",
      "Tratamiento->Reaccion : 1.0\n"
     ]
    }
   ],
   "source": [
    "print_dict(connection_tables)"
   ]
  },
  {
   "cell_type": "code",
   "execution_count": null,
   "metadata": {},
   "outputs": [],
   "source": []
  }
 ],
 "metadata": {
  "kernelspec": {
   "display_name": "Python 3",
   "language": "python",
   "name": "python3"
  },
  "language_info": {
   "codemirror_mode": {
    "name": "ipython",
    "version": 3
   },
   "file_extension": ".py",
   "mimetype": "text/x-python",
   "name": "python",
   "nbconvert_exporter": "python",
   "pygments_lexer": "ipython3",
   "version": "3.7.3"
  }
 },
 "nbformat": 4,
 "nbformat_minor": 4
}
