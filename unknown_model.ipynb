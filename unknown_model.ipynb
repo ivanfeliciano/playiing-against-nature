{
 "cells": [
  {
   "cell_type": "code",
   "execution_count": 1,
   "metadata": {},
   "outputs": [],
   "source": [
    "import itertools\n",
    "from copy import deepcopy\n",
    "\n",
    "import numpy as np\n",
    "import networkx as nx\n",
    "from pgmpy.models import BayesianModel\n",
    "from pgmpy.factors.discrete import TabularCPD\n",
    "from pgmpy.inference import VariableElimination\n",
    "from scipy.stats import beta, dirichlet\n",
    "import matplotlib.pyplot as plt\n",
    "import pandas as pd\n",
    "\n",
    "\n",
    "from model import BaseModel\n",
    "from true_causal_model import TrueCausalModel\n",
    "from agents.causal_agents import HalfBlindAgent\n",
    "\n",
    "%matplotlib inline\n",
    "np.random.seed(0)"
   ]
  },
  {
   "cell_type": "markdown",
   "metadata": {},
   "source": [
    "## Entrada: Orden parcial y aristas inválidas"
   ]
  },
  {
   "cell_type": "code",
   "execution_count": 2,
   "metadata": {},
   "outputs": [
    {
     "name": "stdout",
     "output_type": "stream",
     "text": [
      "['Enfermedad', 'Tratamiento', 'Reaccion', 'Final']\n"
     ]
    }
   ],
   "source": [
    "DG = nx.DiGraph([(\"Reaccion\", \"Final\"), (\"Tratamiento\", \"Reaccion\"), (\"Tratamiento\", \"Final\"), (\"Enfermedad\", \"Final\")])\n",
    "causal_order = list(nx.topological_sort(DG))\n",
    "invalid_edges = sorted([(\"Enfermedad\", \"Tratamiento\")])\n",
    "print(causal_order)"
   ]
  },
  {
   "cell_type": "markdown",
   "metadata": {},
   "source": [
    "## Genero creencias p<sub>ij</sub> iniciales"
   ]
  },
  {
   "cell_type": "code",
   "execution_count": 3,
   "metadata": {},
   "outputs": [],
   "source": [
    "def is_a_valid_edge(x, y, causal_order, invalid_edges):\n",
    "    if tuple(sorted((x, y))) in invalid_edges or causal_order.index(y) < causal_order.index(x):\n",
    "        return False\n",
    "    return True"
   ]
  },
  {
   "cell_type": "code",
   "execution_count": 4,
   "metadata": {},
   "outputs": [],
   "source": [
    "def create_pij(variables, causal_order, invalid_edges):\n",
    "    connection_tables = dict()\n",
    "    for pair in itertools.combinations((variables), 2):\n",
    "        proba = np.random.rand()\n",
    "        if is_a_valid_edge(pair[0], pair[1], causal_order, invalid_edges):\n",
    "            connection_tables[\"{}->{}\".format(pair[0], pair[1])] = proba\n",
    "        elif is_a_valid_edge(pair[1], pair[0], causal_order, invalid_edges):\n",
    "            connection_tables[\"{}->{}\".format(pair[1], pair[0])] = proba\n",
    "    return connection_tables\n",
    "def create_ebunch_from_beliefs(variables, connection_tables):\n",
    "    ebunch = []\n",
    "    for pair in connection_tables:\n",
    "        r = np.random.rand()\n",
    "        if r <= connection_tables[pair]:\n",
    "            ebunch.append((pair.split('->')[0], pair.split('->')[1]))\n",
    "    nodes = []\n",
    "    for v in variables:\n",
    "        flag = False\n",
    "        for edge in ebunch:\n",
    "            if v in edge:\n",
    "                flag = True\n",
    "                break\n",
    "        if not flag:\n",
    "            nodes.append(v)\n",
    "    return ebunch, nodes\n"
   ]
  },
  {
   "cell_type": "code",
   "execution_count": 5,
   "metadata": {},
   "outputs": [
    {
     "name": "stdout",
     "output_type": "stream",
     "text": [
      "Enfermedad->Final 0.5488135039273248\n",
      "Enfermedad->Reaccion 0.7151893663724195\n",
      "Reaccion->Final 0.5448831829968969\n",
      "Tratamiento->Final 0.4236547993389047\n",
      "Tratamiento->Reaccion 0.6458941130666561\n",
      "[('Enfermedad', 'Final'), ('Tratamiento', 'Final')]\n",
      "['Reaccion']\n"
     ]
    }
   ],
   "source": [
    "variables = sorted([\"Tratamiento\", \"Reaccion\", \"Enfermedad\", \"Final\"])\n",
    "connection_tables = create_pij(variables, causal_order, invalid_edges)\n",
    "for k in connection_tables:\n",
    "    print(k, connection_tables[k])\n",
    "ebunch, nodes = create_ebunch_from_beliefs(variables, connection_tables)\n",
    "\n",
    "print(ebunch)\n",
    "print(nodes)"
   ]
  },
  {
   "cell_type": "markdown",
   "metadata": {},
   "source": [
    "## Genero grafo aleatorio e inicializo PGM"
   ]
  },
  {
   "cell_type": "code",
   "execution_count": 6,
   "metadata": {},
   "outputs": [
    {
     "name": "stderr",
     "output_type": "stream",
     "text": [
      "/home/ivan/Documentos/playing-against-nature/venv/lib/python3.7/site-packages/pgmpy/factors/discrete/CPD.py:504: UserWarning: Same ordering provided as current\n",
      "  warn(\"Same ordering provided as current\")\n"
     ]
    },
    {
     "data": {
      "image/png": "[encoded data removed]",
      "text/plain": [
       "<Figure size 432x288 with 1 Axes>"
      ]
     },
     "metadata": {},
     "output_type": "display_data"
    },
    {
     "data": {
      "text/plain": [
       "<Figure size 432x288 with 0 Axes>"
      ]
     },
     "metadata": {},
     "output_type": "display_data"
    }
   ],
   "source": [
    "complete_model = BaseModel('configs/model_parameters.json')\n",
    "nature = TrueCausalModel(complete_model)\n",
    "unknown_model = deepcopy(complete_model)\n",
    "unknown_model.init_graph(ebunch, plot=False)\n",
    "for node in nodes:\n",
    "    unknown_model.digraph.add_node(node)\n",
    "unknown_model.save_digraph_as_img(\"Nothing\")\n",
    "unknown_model.ebunch = ebunch\n",
    "unknown_model.pgmodel = BayesianModel(ebunch)\n",
    "unknown_model.pgmodel.add_nodes_from(nodes)"
   ]
  },
  {
   "cell_type": "markdown",
   "metadata": {},
   "source": [
    "## Estructura real"
   ]
  },
  {
   "cell_type": "code",
   "execution_count": 7,
   "metadata": {},
   "outputs": [
    {
     "data": {
      "image/png": "[encoded data removed]",
      "text/plain": [
       "<Figure size 432x288 with 1 Axes>"
      ]
     },
     "metadata": {},
     "output_type": "display_data"
    },
    {
     "data": {
      "text/plain": [
       "<Figure size 432x288 with 0 Axes>"
      ]
     },
     "metadata": {},
     "output_type": "display_data"
    }
   ],
   "source": [
    "complete_model.save_digraph_as_img(\"figures/gt_graph\")"
   ]
  },
  {
   "cell_type": "markdown",
   "metadata": {},
   "source": [
    "## Aprendizaje"
   ]
  },
  {
   "cell_type": "code",
   "execution_count": 23,
   "metadata": {},
   "outputs": [],
   "source": [
    "agent = HalfBlindAgent(nature, unknown_model)\n",
    "intervention_vars = agent.model.get_intervention_variables()\n",
    "target_value = 1\n",
    "target = {\n",
    "    \"variable\": agent.model.get_target_variable(),\n",
    "    \"value\" : target_value\n",
    "}\n",
    "rounds = 10"
   ]
  },
  {
   "cell_type": "code",
   "execution_count": 24,
   "metadata": {},
   "outputs": [],
   "source": [
    "def update_connection_beliefs(variable, connection_tables, agent):\n",
    "    for pair in connection_tables:\n",
    "        var_one = pair.split(\"->\")[0]\n",
    "        var_two = pair.split(\"->\")[1]\n",
    "        nodes_to_remove = set(variables) - set([\"Final\", \"Tratamiento\", var_one, var_two])\n",
    "        aux_model = deepcopy(agent.model)\n",
    "        aux_model.pgmodel.remove_nodes_from(list(nodes_to_remove))\n",
    "        aux_model.infer_system = VariableElimination(aux_model.pgmodel)\n",
    "        p_sub = aux_model.get_joint_prob_observation(nature_response)\n",
    "        connection_tables[pair] *= p_sub\n",
    "    return connection_tables"
   ]
  },
  {
   "cell_type": "markdown",
   "metadata": {},
   "source": [
    "### Entrenamiento"
   ]
  },
  {
   "cell_type": "code",
   "execution_count": 25,
   "metadata": {},
   "outputs": [
    {
     "name": "stderr",
     "output_type": "stream",
     "text": [
      "Finding Elimination Order: : : 0it [00:00, ?it/s]\n",
      "0it [00:00, ?it/s]\n",
      "Finding Elimination Order: : : 0it [00:00, ?it/s]\n",
      "0it [00:00, ?it/s]\n",
      "Finding Elimination Order: : : 0it [00:00, ?it/s]\n",
      "0it [00:00, ?it/s]\n",
      "Finding Elimination Order: : : 0it [00:00, ?it/s]\n",
      "0it [00:00, ?it/s]\n",
      "Finding Elimination Order: : : 0it [00:00, ?it/s]\n",
      "0it [00:00, ?it/s]"
     ]
    },
    {
     "name": "stdout",
     "output_type": "stream",
     "text": [
      "+---------------------------------+\n",
      "Enfermedad->Final 10.970275554648858\n",
      "Enfermedad->Reaccion 5.952813012182298\n",
      "Reaccion->Final 12.96564036674271\n",
      "Tratamiento->Final 23.884110638700616\n",
      "Tratamiento->Reaccion 12.96564036674271\n",
      "+---------------------------------+\n",
      "Enfermedad = 0\n",
      "Tratamiento = 0\n",
      "Reaccion = 0\n",
      "Final = 0\n"
     ]
    },
    {
     "name": "stderr",
     "output_type": "stream",
     "text": [
      "\n"
     ]
    },
    {
     "data": {
      "image/png": "[encoded data removed]",
      "text/plain": [
       "<Figure size 432x288 with 1 Axes>"
      ]
     },
     "metadata": {},
     "output_type": "display_data"
    },
    {
     "name": "stderr",
     "output_type": "stream",
     "text": [
      "Finding Elimination Order: : : 0it [00:00, ?it/s]\n",
      "0it [00:00, ?it/s]\n",
      "Finding Elimination Order: : : 0it [00:00, ?it/s]\n",
      "0it [00:00, ?it/s]\n",
      "Finding Elimination Order: : : 0it [00:00, ?it/s]\n",
      "0it [00:00, ?it/s]\n",
      "Finding Elimination Order: : : 0it [00:00, ?it/s]\n",
      "0it [00:00, ?it/s]\n",
      "Finding Elimination Order: : : 0it [00:00, ?it/s]\n",
      "0it [00:00, ?it/s]"
     ]
    },
    {
     "name": "stdout",
     "output_type": "stream",
     "text": [
      "+---------------------------------+\n",
      "Enfermedad->Final 0.39510208787555323\n",
      "Enfermedad->Reaccion 0.20993216817738872\n",
      "Reaccion->Final 0.26001467505625175\n",
      "Tratamiento->Final 1.0647167452236255\n",
      "Tratamiento->Reaccion 0.26001467505625175\n",
      "+---------------------------------+\n",
      "Enfermedad = 1\n",
      "Tratamiento = 1\n",
      "Reaccion = 1\n",
      "Final = 1\n"
     ]
    },
    {
     "name": "stderr",
     "output_type": "stream",
     "text": [
      "\n"
     ]
    },
    {
     "data": {
      "image/png": "[encoded data removed]",
      "text/plain": [
       "<Figure size 432x288 with 1 Axes>"
      ]
     },
     "metadata": {},
     "output_type": "display_data"
    },
    {
     "name": "stderr",
     "output_type": "stream",
     "text": [
      "Finding Elimination Order: : : 0it [00:00, ?it/s]\n",
      "0it [00:00, ?it/s]\n",
      "Finding Elimination Order: : : 0it [00:00, ?it/s]\n",
      "0it [00:00, ?it/s]\n",
      "Finding Elimination Order: : : 0it [00:00, ?it/s]\n",
      "0it [00:00, ?it/s]\n",
      "Finding Elimination Order: : : 0it [00:00, ?it/s]\n",
      "0it [00:00, ?it/s]\n",
      "Finding Elimination Order: : : 0it [00:00, ?it/s]\n",
      "0it [00:00, ?it/s]"
     ]
    },
    {
     "name": "stdout",
     "output_type": "stream",
     "text": [
      "+---------------------------------+\n",
      "Enfermedad->Final 0.0053486293960022194\n",
      "Enfermedad->Reaccion 5.84262276612803e-05\n",
      "Reaccion->Final 0.001509559709778123\n",
      "Tratamiento->Final 0.29555731228246673\n",
      "Tratamiento->Reaccion 0.001509559709778123\n",
      "+---------------------------------+\n",
      "Enfermedad = 1\n",
      "Tratamiento = 0\n",
      "Reaccion = 0\n",
      "Final = 1\n"
     ]
    },
    {
     "name": "stderr",
     "output_type": "stream",
     "text": [
      "\n"
     ]
    },
    {
     "data": {
      "image/png": "[encoded data removed]",
      "text/plain": [
       "<Figure size 432x288 with 1 Axes>"
      ]
     },
     "metadata": {},
     "output_type": "display_data"
    },
    {
     "name": "stderr",
     "output_type": "stream",
     "text": [
      "Finding Elimination Order: : : 0it [00:00, ?it/s]\n",
      "0it [00:00, ?it/s]\n",
      "Finding Elimination Order: : : 0it [00:00, ?it/s]\n",
      "0it [00:00, ?it/s]\n",
      "Finding Elimination Order: : : 0it [00:00, ?it/s]\n",
      "0it [00:00, ?it/s]\n",
      "Finding Elimination Order: : : 0it [00:00, ?it/s]\n",
      "0it [00:00, ?it/s]\n",
      "Finding Elimination Order: : : 0it [00:00, ?it/s]\n",
      "0it [00:00, ?it/s]"
     ]
    },
    {
     "name": "stdout",
     "output_type": "stream",
     "text": [
      "+---------------------------------+\n",
      "Enfermedad->Final 0.00018320733967098024\n",
      "Enfermedad->Reaccion 4.294916168133446e-07\n",
      "Reaccion->Final 1.2427790025668435e-05\n",
      "Tratamiento->Final 0.011338062232948823\n",
      "Tratamiento->Reaccion 1.2427790025668435e-05\n",
      "+---------------------------------+\n",
      "Enfermedad = 0\n",
      "Tratamiento = 0\n",
      "Reaccion = 0\n",
      "Final = 0\n"
     ]
    },
    {
     "name": "stderr",
     "output_type": "stream",
     "text": [
      "\n"
     ]
    },
    {
     "data": {
      "image/png": "[encoded data removed]",
      "text/plain": [
       "<Figure size 432x288 with 1 Axes>"
      ]
     },
     "metadata": {},
     "output_type": "display_data"
    },
    {
     "name": "stderr",
     "output_type": "stream",
     "text": [
      "Finding Elimination Order: : : 0it [00:00, ?it/s]\n",
      "0it [00:00, ?it/s]\n",
      "Finding Elimination Order: : : 0it [00:00, ?it/s]\n",
      "0it [00:00, ?it/s]\n",
      "Finding Elimination Order: : : 0it [00:00, ?it/s]\n",
      "0it [00:00, ?it/s]\n",
      "Finding Elimination Order: : : 0it [00:00, ?it/s]\n",
      "0it [00:00, ?it/s]\n",
      "Finding Elimination Order: : : 0it [00:00, ?it/s]\n",
      "0it [00:00, ?it/s]"
     ]
    },
    {
     "name": "stdout",
     "output_type": "stream",
     "text": [
      "+---------------------------------+\n",
      "Enfermedad->Final 2.594580245289936e-06\n",
      "Enfermedad->Reaccion 3.0915049249896258e-09\n",
      "Reaccion->Final 6.121866693881753e-07\n",
      "Tratamiento->Final 0.0010988484126968653\n",
      "Tratamiento->Reaccion 6.121866693881753e-07\n",
      "+---------------------------------+\n",
      "Enfermedad = 0\n",
      "Tratamiento = 0\n",
      "Reaccion = 0\n",
      "Final = 0\n"
     ]
    },
    {
     "name": "stderr",
     "output_type": "stream",
     "text": [
      "\n"
     ]
    },
    {
     "data": {
      "image/png": "[encoded data removed]",
      "text/plain": [
       "<Figure size 432x288 with 1 Axes>"
      ]
     },
     "metadata": {},
     "output_type": "display_data"
    },
    {
     "name": "stderr",
     "output_type": "stream",
     "text": [
      "Finding Elimination Order: : : 0it [00:00, ?it/s]\n",
      "0it [00:00, ?it/s]\n",
      "Finding Elimination Order: : : 0it [00:00, ?it/s]\n",
      "0it [00:00, ?it/s]\n",
      "Finding Elimination Order: : : 0it [00:00, ?it/s]\n",
      "0it [00:00, ?it/s]\n",
      "Finding Elimination Order: : : 0it [00:00, ?it/s]\n",
      "0it [00:00, ?it/s]\n",
      "Finding Elimination Order: : : 0it [00:00, ?it/s]\n",
      "0it [00:00, ?it/s]\n"
     ]
    },
    {
     "name": "stdout",
     "output_type": "stream",
     "text": [
      "+---------------------------------+\n",
      "Enfermedad->Final 7.714025161058667e-07\n",
      "Enfermedad->Reaccion 1.1628811239835023e-10\n",
      "Reaccion->Final 2.4316868476198114e-08\n",
      "Tratamiento->Final 0.00034499287682441214\n",
      "Tratamiento->Reaccion 2.4316868476198114e-08\n",
      "+---------------------------------+\n",
      "Enfermedad = 1\n",
      "Tratamiento = 0\n",
      "Reaccion = 0\n",
      "Final = 1\n"
     ]
    },
    {
     "data": {
      "image/png": "[encoded data removed]",
      "text/plain": [
       "<Figure size 432x288 with 1 Axes>"
      ]
     },
     "metadata": {},
     "output_type": "display_data"
    },
    {
     "name": "stderr",
     "output_type": "stream",
     "text": [
      "Finding Elimination Order: : : 0it [00:00, ?it/s]\n",
      "0it [00:00, ?it/s]\n",
      "Finding Elimination Order: : : 0it [00:00, ?it/s]\n",
      "0it [00:00, ?it/s]\n",
      "Finding Elimination Order: : : 0it [00:00, ?it/s]\n",
      "0it [00:00, ?it/s]\n",
      "Finding Elimination Order: : : 0it [00:00, ?it/s]\n",
      "0it [00:00, ?it/s]\n",
      "Finding Elimination Order: : : 0it [00:00, ?it/s]\n",
      "0it [00:00, ?it/s]"
     ]
    },
    {
     "name": "stdout",
     "output_type": "stream",
     "text": [
      "+---------------------------------+\n",
      "Enfermedad->Final 3.650075484800181e-07\n",
      "Enfermedad->Reaccion 7.081568482789572e-16\n",
      "Reaccion->Final 1.7870653866029337e-13\n",
      "Tratamiento->Final 0.00019700152223025492\n",
      "Tratamiento->Reaccion 1.7870653866029337e-13\n",
      "+---------------------------------+\n",
      "Enfermedad = 0\n",
      "Tratamiento = 0\n",
      "Reaccion = 0\n",
      "Final = 0\n"
     ]
    },
    {
     "name": "stderr",
     "output_type": "stream",
     "text": [
      "\n"
     ]
    },
    {
     "data": {
      "image/png": "[encoded data removed]",
      "text/plain": [
       "<Figure size 432x288 with 1 Axes>"
      ]
     },
     "metadata": {},
     "output_type": "display_data"
    },
    {
     "name": "stderr",
     "output_type": "stream",
     "text": [
      "Finding Elimination Order: : : 0it [00:00, ?it/s]\n",
      "0it [00:00, ?it/s]\n",
      "Finding Elimination Order: : : 0it [00:00, ?it/s]\n",
      "0it [00:00, ?it/s]\n",
      "Finding Elimination Order: : : 0it [00:00, ?it/s]\n",
      "0it [00:00, ?it/s]\n",
      "Finding Elimination Order: : : 0it [00:00, ?it/s]\n",
      "0it [00:00, ?it/s]\n",
      "Finding Elimination Order: : : 0it [00:00, ?it/s]\n",
      "0it [00:00, ?it/s]"
     ]
    },
    {
     "name": "stdout",
     "output_type": "stream",
     "text": [
      "+---------------------------------+\n",
      "Enfermedad->Final 2.883367460295225e-07\n",
      "Enfermedad->Reaccion 5.471686117655849e-16\n",
      "Reaccion->Final 1.6943419705670803e-13\n",
      "Tratamiento->Final 0.0001909574638247341\n",
      "Tratamiento->Reaccion 1.6943419705670803e-13\n",
      "+---------------------------------+\n",
      "Enfermedad = 0\n",
      "Tratamiento = 0\n",
      "Reaccion = 0\n",
      "Final = 0\n"
     ]
    },
    {
     "name": "stderr",
     "output_type": "stream",
     "text": [
      "\n"
     ]
    },
    {
     "data": {
      "image/png": "[encoded data removed]",
      "text/plain": [
       "<Figure size 432x288 with 1 Axes>"
      ]
     },
     "metadata": {},
     "output_type": "display_data"
    },
    {
     "name": "stderr",
     "output_type": "stream",
     "text": [
      "Finding Elimination Order: : : 0it [00:00, ?it/s]\n",
      "0it [00:00, ?it/s]\n",
      "Finding Elimination Order: : : 0it [00:00, ?it/s]\n",
      "0it [00:00, ?it/s]\n",
      "Finding Elimination Order: : : 0it [00:00, ?it/s]\n",
      "0it [00:00, ?it/s]\n",
      "Finding Elimination Order: : : 0it [00:00, ?it/s]\n",
      "0it [00:00, ?it/s]\n",
      "Finding Elimination Order: : : 0it [00:00, ?it/s]\n",
      "0it [00:00, ?it/s]"
     ]
    },
    {
     "name": "stdout",
     "output_type": "stream",
     "text": [
      "+---------------------------------+\n",
      "Enfermedad->Final 3.309906850680053e-08\n",
      "Enfermedad->Reaccion 1.433170512314942e-18\n",
      "Reaccion->Final 5.396320314026802e-16\n",
      "Tratamiento->Final 2.6654612962442853e-05\n",
      "Tratamiento->Reaccion 5.396320314026802e-16\n",
      "+---------------------------------+\n",
      "Enfermedad = 1\n",
      "Tratamiento = 0\n",
      "Reaccion = 0\n",
      "Final = 1\n"
     ]
    },
    {
     "name": "stderr",
     "output_type": "stream",
     "text": [
      "\n"
     ]
    },
    {
     "data": {
      "image/png": "[encoded data removed]",
      "text/plain": [
       "<Figure size 432x288 with 1 Axes>"
      ]
     },
     "metadata": {},
     "output_type": "display_data"
    },
    {
     "name": "stderr",
     "output_type": "stream",
     "text": [
      "Finding Elimination Order: : : 0it [00:00, ?it/s]\n",
      "0it [00:00, ?it/s]\n",
      "Finding Elimination Order: : : 0it [00:00, ?it/s]\n",
      "0it [00:00, ?it/s]\n",
      "Finding Elimination Order: : : 0it [00:00, ?it/s]\n",
      "0it [00:00, ?it/s]\n",
      "Finding Elimination Order: : : 0it [00:00, ?it/s]\n",
      "0it [00:00, ?it/s]\n",
      "Finding Elimination Order: : : 0it [00:00, ?it/s]\n",
      "0it [00:00, ?it/s]"
     ]
    },
    {
     "name": "stdout",
     "output_type": "stream",
     "text": [
      "+---------------------------------+\n",
      "Enfermedad->Final 2.889905051744922e-09\n",
      "Enfermedad->Reaccion 7.307093249945538e-20\n",
      "Reaccion->Final 2.978494308168345e-17\n",
      "Tratamiento->Final 2.5193728876069313e-06\n",
      "Tratamiento->Reaccion 2.978494308168345e-17\n",
      "+---------------------------------+\n",
      "Enfermedad = 0\n",
      "Tratamiento = 0\n",
      "Reaccion = 0\n",
      "Final = 0\n"
     ]
    },
    {
     "name": "stderr",
     "output_type": "stream",
     "text": [
      "\n"
     ]
    },
    {
     "data": {
      "image/png": "[encoded data removed]",
      "text/plain": [
       "<Figure size 432x288 with 1 Axes>"
      ]
     },
     "metadata": {},
     "output_type": "display_data"
    },
    {
     "data": {
      "text/plain": [
       "<Figure size 432x288 with 0 Axes>"
      ]
     },
     "metadata": {},
     "output_type": "display_data"
    }
   ],
   "source": [
    "for rnd in range(rounds):\n",
    "    print(\"+---------------------------------+\")\n",
    "    for pair in connection_tables:\n",
    "        print(pair, connection_tables[pair])\n",
    "    print(\"+---------------------------------+\")\n",
    "    best_actions = agent.make_decision(target, intervention_vars)\n",
    "    nature_response = agent.nature.action_simulator(intervention_vars, best_actions)\n",
    "    agent.rewards_per_round.append(nature_response[target[\"variable\"]])\n",
    "    for var in nature_response:\n",
    "        print(\"{} = {}\".format(var, nature_response[var]))\n",
    "    connection_tables = update_connection_beliefs(variables, connection_tables, agent)\n",
    "    ebunch, nodes = create_ebunch_from_beliefs(variables, connection_tables)\n",
    "    unknown_model.init_graph(ebunch, plot=False)\n",
    "    for node in nodes:\n",
    "        unknown_model.digraph.add_node(node)\n",
    "    unknown_model.save_digraph_as_img(\"Nothing\")\n",
    "    unknown_model.ebunch = ebunch\n",
    "    unknown_model.pgmodel = BayesianModel(ebunch)\n",
    "    unknown_model.pgmodel.add_nodes_from(nodes)\n",
    "    agent = HalfBlindAgent(nature, unknown_model)"
   ]
  }
 ],
 "metadata": {
  "kernelspec": {
   "display_name": "Python 3",
   "language": "python",
   "name": "python3"
  },
  "language_info": {
   "codemirror_mode": {
    "name": "ipython",
    "version": 3
   },
   "file_extension": ".py",
   "mimetype": "text/x-python",
   "name": "python",
   "nbconvert_exporter": "python",
   "pygments_lexer": "ipython3",
   "version": "3.7.3"
  }
 },
 "nbformat": 4,
 "nbformat_minor": 4
}
