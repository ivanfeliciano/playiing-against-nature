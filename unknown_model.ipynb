{
 "cells": [
  {
   "cell_type": "code",
   "execution_count": 1,
   "metadata": {},
   "outputs": [],
   "source": [
    "import itertools\n",
    "from copy import deepcopy\n",
    "\n",
    "import numpy as np\n",
    "import networkx as nx\n",
    "from pgmpy.models import BayesianModel\n",
    "from pgmpy.factors.discrete import TabularCPD\n",
    "from pgmpy.inference import VariableElimination\n",
    "from scipy.stats import beta, dirichlet\n",
    "import matplotlib.pyplot as plt\n",
    "import pandas as pd\n",
    "\n",
    "\n",
    "from model import BaseModel\n",
    "from true_causal_model import TrueCausalModel\n",
    "from agents.causal_agents import HalfBlindAgent\n",
    "\n",
    "%matplotlib inline\n",
    "np.random.seed(0)"
   ]
  },
  {
   "cell_type": "markdown",
   "metadata": {},
   "source": [
    "## Entrada: Orden parcial y aristas inválidas"
   ]
  },
  {
   "cell_type": "code",
   "execution_count": 15,
   "metadata": {},
   "outputs": [
    {
     "name": "stdout",
     "output_type": "stream",
     "text": [
      "['Enfermedad', 'Tratamiento', 'Reaccion', 'Final']\n"
     ]
    }
   ],
   "source": [
    "DG = nx.DiGraph([(\"Reaccion\", \"Final\"), (\"Tratamiento\", \"Reaccion\"), (\"Tratamiento\", \"Final\"), (\"Enfermedad\", \"Final\")])\n",
    "causal_order = list(nx.topological_sort(DG))\n",
    "invalid_edges = sorted([(\"Enfermedad\", \"Tratamiento\")])\n",
    "print(causal_order)"
   ]
  },
  {
   "cell_type": "markdown",
   "metadata": {},
   "source": [
    "## Genero creencias p<sub>ij</sub> iniciales"
   ]
  },
  {
   "cell_type": "code",
   "execution_count": 16,
   "metadata": {},
   "outputs": [],
   "source": [
    "def is_a_valid_edge(x, y, causal_order, invalid_edges):\n",
    "    if tuple(sorted((x, y))) in invalid_edges or causal_order.index(y) < causal_order.index(x):\n",
    "        return False\n",
    "    return True"
   ]
  },
  {
   "cell_type": "code",
   "execution_count": 17,
   "metadata": {},
   "outputs": [],
   "source": [
    "def create_pij(variables, causal_order, invalid_edges):\n",
    "    connection_tables = dict()\n",
    "    for pair in itertools.combinations((variables), 2):\n",
    "        proba = np.random.rand()\n",
    "        if is_a_valid_edge(pair[0], pair[1], causal_order, invalid_edges):\n",
    "            connection_tables[\"{}->{}\".format(pair[0], pair[1])] = proba\n",
    "        elif is_a_valid_edge(pair[1], pair[0], causal_order, invalid_edges):\n",
    "            connection_tables[\"{}->{}\".format(pair[1], pair[0])] = proba\n",
    "    return connection_tables\n",
    "def create_ebunch_from_beliefs(variables, connection_tables):\n",
    "    ebunch = []\n",
    "    for pair in connection_tables:\n",
    "        r = np.random.rand()\n",
    "        if r <= connection_tables[pair]:\n",
    "            ebunch.append((pair.split('->')[0], pair.split('->')[1]))\n",
    "    nodes = []\n",
    "    for v in variables:\n",
    "        flag = False\n",
    "        for edge in ebunch:\n",
    "            if v in edge:\n",
    "                flag = True\n",
    "                break\n",
    "        if not flag:\n",
    "            nodes.append(v)\n",
    "    return ebunch, nodes\n"
   ]
  },
  {
   "cell_type": "code",
   "execution_count": 32,
   "metadata": {},
   "outputs": [
    {
     "name": "stdout",
     "output_type": "stream",
     "text": [
      "Enfermedad->Final 0.7832344383138131\n",
      "Enfermedad->Reaccion 0.2883984973314939\n",
      "Reaccion->Final 0.662504571532676\n",
      "Tratamiento->Final 0.24606318499096447\n",
      "Tratamiento->Reaccion 0.6658591175591877\n",
      "[('Enfermedad', 'Final'), ('Reaccion', 'Final')]\n",
      "['Tratamiento']\n"
     ]
    }
   ],
   "source": [
    "variables = sorted([\"Tratamiento\", \"Reaccion\", \"Enfermedad\", \"Final\"])\n",
    "connection_tables = create_pij(variables, causal_order, invalid_edges)\n",
    "connection_probas = dict()\n",
    "for k in connection_tables:\n",
    "    print(k, connection_tables[k])\n",
    "    connection_probas[k] = [connection_tables[k]]\n",
    "ebunch, nodes = create_ebunch_from_beliefs(variables, connection_tables)\n",
    "\n",
    "print(ebunch)\n",
    "print(nodes)"
   ]
  },
  {
   "cell_type": "markdown",
   "metadata": {},
   "source": [
    "## Genero grafo aleatorio e inicializo PGM"
   ]
  },
  {
   "cell_type": "code",
   "execution_count": 33,
   "metadata": {},
   "outputs": [
    {
     "name": "stderr",
     "output_type": "stream",
     "text": [
      "/home/ivan/Documentos/playing-against-nature/venv/lib/python3.7/site-packages/pgmpy/factors/discrete/CPD.py:504: UserWarning: Same ordering provided as current\n",
      "  warn(\"Same ordering provided as current\")\n"
     ]
    },
    {
     "data": {
      "image/png": "[encoded data removed]",
      "text/plain": [
       "<Figure size 432x288 with 1 Axes>"
      ]
     },
     "metadata": {},
     "output_type": "display_data"
    },
    {
     "data": {
      "text/plain": [
       "<Figure size 432x288 with 0 Axes>"
      ]
     },
     "metadata": {},
     "output_type": "display_data"
    }
   ],
   "source": [
    "complete_model = BaseModel('configs/model_parameters.json')\n",
    "nature = TrueCausalModel(complete_model)\n",
    "unknown_model = deepcopy(complete_model)\n",
    "unknown_model.init_graph(ebunch, plot=False)\n",
    "for node in nodes:\n",
    "    unknown_model.digraph.add_node(node)\n",
    "unknown_model.save_digraph_as_img(\"Nothing\")\n",
    "unknown_model.ebunch = ebunch\n",
    "unknown_model.pgmodel = BayesianModel(ebunch)\n",
    "unknown_model.pgmodel.add_nodes_from(nodes)"
   ]
  },
  {
   "cell_type": "markdown",
   "metadata": {},
   "source": [
    "## Estructura real"
   ]
  },
  {
   "cell_type": "code",
   "execution_count": 34,
   "metadata": {},
   "outputs": [
    {
     "data": {
      "image/png": "[encoded data removed]",
      "text/plain": [
       "<Figure size 432x288 with 1 Axes>"
      ]
     },
     "metadata": {},
     "output_type": "display_data"
    },
    {
     "data": {
      "text/plain": [
       "<Figure size 432x288 with 0 Axes>"
      ]
     },
     "metadata": {},
     "output_type": "display_data"
    }
   ],
   "source": [
    "complete_model.save_digraph_as_img(\"figures/gt_graph\")"
   ]
  },
  {
   "cell_type": "markdown",
   "metadata": {},
   "source": [
    "## Aprendizaje"
   ]
  },
  {
   "cell_type": "code",
   "execution_count": 35,
   "metadata": {},
   "outputs": [],
   "source": [
    "agent = HalfBlindAgent(nature, unknown_model)\n",
    "intervention_vars = agent.model.get_intervention_variables()\n",
    "target_value = 1\n",
    "target = {\n",
    "    \"variable\": agent.model.get_target_variable(),\n",
    "    \"value\" : target_value\n",
    "}\n",
    "rounds = 10"
   ]
  },
  {
   "cell_type": "code",
   "execution_count": 36,
   "metadata": {},
   "outputs": [],
   "source": [
    "def update_connection_beliefs(variable, connection_tables, agent):\n",
    "    for pair in connection_tables:\n",
    "        var_one = pair.split(\"->\")[0]\n",
    "        var_two = pair.split(\"->\")[1]\n",
    "        nodes_to_remove = set(variables) - set([\"Final\", \"Tratamiento\", var_one, var_two])\n",
    "        aux_model = deepcopy(agent.model)\n",
    "        aux_model.pgmodel.remove_nodes_from(list(nodes_to_remove))\n",
    "        aux_model.infer_system = VariableElimination(aux_model.pgmodel)\n",
    "        p_sub = aux_model.get_joint_prob_observation(nature_response)\n",
    "        connection_tables[pair] *= p_sub\n",
    "    return connection_tables"
   ]
  },
  {
   "cell_type": "code",
   "execution_count": 37,
   "metadata": {},
   "outputs": [],
   "source": [
    "def plot_probabilities(connection_probas):\n",
    "    i = 4\n",
    "    for pair in connection_probas:\n",
    "        plt.plot(connection_probas[pair], marker=i, label=pair)\n",
    "        i += 1\n",
    "    plt.legend()\n",
    "    plt.show()"
   ]
  },
  {
   "cell_type": "markdown",
   "metadata": {},
   "source": [
    "### Entrenamiento"
   ]
  },
  {
   "cell_type": "code",
   "execution_count": 38,
   "metadata": {},
   "outputs": [
    {
     "name": "stderr",
     "output_type": "stream",
     "text": [
      "Finding Elimination Order: : : 0it [00:00, ?it/s]\n",
      "0it [00:00, ?it/s]\n",
      "Finding Elimination Order: : : 0it [00:00, ?it/s]\n",
      "0it [00:00, ?it/s]\n",
      "Finding Elimination Order: : : 0it [00:00, ?it/s]\n",
      "0it [00:00, ?it/s]\n",
      "Finding Elimination Order: : : 0it [00:00, ?it/s]\n",
      "0it [00:00, ?it/s]\n",
      "Finding Elimination Order: : : 0it [00:00, ?it/s]\n",
      "0it [00:00, ?it/s]"
     ]
    },
    {
     "name": "stdout",
     "output_type": "stream",
     "text": [
      "+---------------------------------+\n",
      "Enfermedad->Final 0.7832344383138131\n",
      "Enfermedad->Reaccion 0.2883984973314939\n",
      "Reaccion->Final 0.662504571532676\n",
      "Tratamiento->Final 0.24606318499096447\n",
      "Tratamiento->Reaccion 0.6658591175591877\n",
      "+---------------------------------+\n",
      "Enfermedad = 0\n",
      "Tratamiento = 0\n",
      "Reaccion = 0\n",
      "Final = 0\n"
     ]
    },
    {
     "name": "stderr",
     "output_type": "stream",
     "text": [
      "\n"
     ]
    },
    {
     "data": {
      "image/png": "[encoded data removed]",
      "text/plain": [
       "<Figure size 432x288 with 1 Axes>"
      ]
     },
     "metadata": {},
     "output_type": "display_data"
    },
    {
     "name": "stderr",
     "output_type": "stream",
     "text": [
      "Finding Elimination Order: : : 0it [00:00, ?it/s]\n",
      "0it [00:00, ?it/s]\n",
      "Finding Elimination Order: : : 0it [00:00, ?it/s]\n",
      "0it [00:00, ?it/s]\n",
      "Finding Elimination Order: : : 0it [00:00, ?it/s]\n",
      "0it [00:00, ?it/s]\n",
      "Finding Elimination Order: : : 0it [00:00, ?it/s]\n",
      "0it [00:00, ?it/s]\n",
      "Finding Elimination Order: : : 0it [00:00, ?it/s]\n",
      "0it [00:00, ?it/s]"
     ]
    },
    {
     "name": "stdout",
     "output_type": "stream",
     "text": [
      "+---------------------------------+\n",
      "Enfermedad->Final 0.0011916037350507382\n",
      "Enfermedad->Reaccion 0.00027425674808930997\n",
      "Reaccion->Final 0.01792423470842941\n",
      "Tratamiento->Final 0.04640970066307414\n",
      "Tratamiento->Reaccion 0.01801499282981161\n",
      "+---------------------------------+\n",
      "Enfermedad = 0\n",
      "Tratamiento = 0\n",
      "Reaccion = 0\n",
      "Final = 0\n"
     ]
    },
    {
     "name": "stderr",
     "output_type": "stream",
     "text": [
      "\n"
     ]
    },
    {
     "data": {
      "image/png": "[encoded data removed]",
      "text/plain": [
       "<Figure size 432x288 with 1 Axes>"
      ]
     },
     "metadata": {},
     "output_type": "display_data"
    },
    {
     "name": "stderr",
     "output_type": "stream",
     "text": [
      "Finding Elimination Order: : : 0it [00:00, ?it/s]\n",
      "0it [00:00, ?it/s]\n",
      "Finding Elimination Order: : : 0it [00:00, ?it/s]\n",
      "0it [00:00, ?it/s]\n",
      "Finding Elimination Order: : : 0it [00:00, ?it/s]\n",
      "0it [00:00, ?it/s]\n",
      "Finding Elimination Order: : : 0it [00:00, ?it/s]\n",
      "0it [00:00, ?it/s]\n",
      "Finding Elimination Order: : : 0it [00:00, ?it/s]\n",
      "0it [00:00, ?it/s]"
     ]
    },
    {
     "name": "stdout",
     "output_type": "stream",
     "text": [
      "+---------------------------------+\n",
      "Enfermedad->Final 2.156824402383764e-05\n",
      "Enfermedad->Reaccion 2.302705388487872e-06\n",
      "Reaccion->Final 0.0007764089719878421\n",
      "Tratamiento->Final 0.004333717204238769\n",
      "Tratamiento->Reaccion 0.0007803402650593819\n",
      "+---------------------------------+\n",
      "Enfermedad = 0\n",
      "Tratamiento = 0\n",
      "Reaccion = 0\n",
      "Final = 0\n"
     ]
    },
    {
     "name": "stderr",
     "output_type": "stream",
     "text": [
      "\n"
     ]
    },
    {
     "data": {
      "image/png": "[encoded data removed]",
      "text/plain": [
       "<Figure size 432x288 with 1 Axes>"
      ]
     },
     "metadata": {},
     "output_type": "display_data"
    },
    {
     "name": "stderr",
     "output_type": "stream",
     "text": [
      "Finding Elimination Order: : : 0it [00:00, ?it/s]\n",
      "0it [00:00, ?it/s]\n",
      "Finding Elimination Order: : : 0it [00:00, ?it/s]\n",
      "0it [00:00, ?it/s]\n",
      "Finding Elimination Order: : : 0it [00:00, ?it/s]\n",
      "0it [00:00, ?it/s]\n",
      "Finding Elimination Order: : : 0it [00:00, ?it/s]\n",
      "0it [00:00, ?it/s]\n",
      "Finding Elimination Order: : : 0it [00:00, ?it/s]\n",
      "0it [00:00, ?it/s]"
     ]
    },
    {
     "name": "stdout",
     "output_type": "stream",
     "text": [
      "+---------------------------------+\n",
      "Enfermedad->Final 4.206010314109088e-146\n",
      "Enfermedad->Reaccion 4.477010447211969e-147\n",
      "Reaccion->Final 2.3981411846762375e-91\n",
      "Tratamiento->Final 1.3426121856936198e-90\n",
      "Tratamiento->Reaccion 2.4102840065188985e-91\n",
      "+---------------------------------+\n",
      "Enfermedad = 0\n",
      "Tratamiento = 0\n",
      "Reaccion = 0\n",
      "Final = 0\n"
     ]
    },
    {
     "name": "stderr",
     "output_type": "stream",
     "text": [
      "\n"
     ]
    },
    {
     "data": {
      "image/png": "[encoded data removed]",
      "text/plain": [
       "<Figure size 432x288 with 1 Axes>"
      ]
     },
     "metadata": {},
     "output_type": "display_data"
    },
    {
     "name": "stderr",
     "output_type": "stream",
     "text": [
      "Finding Elimination Order: : : 0it [00:00, ?it/s]\n",
      "0it [00:00, ?it/s]\n",
      "Finding Elimination Order: : : 0it [00:00, ?it/s]\n",
      "0it [00:00, ?it/s]\n",
      "Finding Elimination Order: : : 0it [00:00, ?it/s]\n",
      "0it [00:00, ?it/s]\n",
      "Finding Elimination Order: : : 0it [00:00, ?it/s]\n",
      "0it [00:00, ?it/s]\n",
      "Finding Elimination Order: : : 0it [00:00, ?it/s]\n",
      "0it [00:00, ?it/s]"
     ]
    },
    {
     "name": "stdout",
     "output_type": "stream",
     "text": [
      "+---------------------------------+\n",
      "Enfermedad->Final 2.448057882734053e-146\n",
      "Enfermedad->Reaccion 7.785560347984152e-148\n",
      "Reaccion->Final 5.031726330991689e-92\n",
      "Tratamiento->Final 9.42849620722599e-91\n",
      "Tratamiento->Reaccion 5.0572041288747635e-92\n",
      "+---------------------------------+\n",
      "Enfermedad = 0\n",
      "Tratamiento = 0\n",
      "Reaccion = 0\n",
      "Final = 0\n"
     ]
    },
    {
     "name": "stderr",
     "output_type": "stream",
     "text": [
      "\n"
     ]
    },
    {
     "data": {
      "image/png": "[encoded data removed]",
      "text/plain": [
       "<Figure size 432x288 with 1 Axes>"
      ]
     },
     "metadata": {},
     "output_type": "display_data"
    },
    {
     "name": "stderr",
     "output_type": "stream",
     "text": [
      "Finding Elimination Order: : : 0it [00:00, ?it/s]\n",
      "0it [00:00, ?it/s]\n",
      "Finding Elimination Order: : : 0it [00:00, ?it/s]\n",
      "0it [00:00, ?it/s]\n",
      "Finding Elimination Order: : : 0it [00:00, ?it/s]\n",
      "0it [00:00, ?it/s]\n",
      "Finding Elimination Order: : : 0it [00:00, ?it/s]\n",
      "0it [00:00, ?it/s]\n",
      "Finding Elimination Order: : : 0it [00:00, ?it/s]\n",
      "0it [00:00, ?it/s]"
     ]
    },
    {
     "name": "stdout",
     "output_type": "stream",
     "text": [
      "+---------------------------------+\n",
      "Enfermedad->Final 6.075400771272634e-152\n",
      "Enfermedad->Reaccion 1.5914944018763788e-153\n",
      "Reaccion->Final 3.255725585746675e-92\n",
      "Tratamiento->Final 7.406469192406483e-91\n",
      "Tratamiento->Reaccion 3.2722107268254945e-92\n",
      "+---------------------------------+\n",
      "Enfermedad = 1\n",
      "Tratamiento = 0\n",
      "Reaccion = 0\n",
      "Final = 1\n"
     ]
    },
    {
     "name": "stderr",
     "output_type": "stream",
     "text": [
      "\n"
     ]
    },
    {
     "data": {
      "image/png": "[encoded data removed]",
      "text/plain": [
       "<Figure size 432x288 with 1 Axes>"
      ]
     },
     "metadata": {},
     "output_type": "display_data"
    },
    {
     "name": "stderr",
     "output_type": "stream",
     "text": [
      "Finding Elimination Order: : : 0it [00:00, ?it/s]\n",
      "0it [00:00, ?it/s]\n",
      "Finding Elimination Order: : : 0it [00:00, ?it/s]\n",
      "0it [00:00, ?it/s]\n",
      "Finding Elimination Order: : : 0it [00:00, ?it/s]\n",
      "0it [00:00, ?it/s]\n",
      "Finding Elimination Order: : : 0it [00:00, ?it/s]\n",
      "0it [00:00, ?it/s]\n",
      "Finding Elimination Order: : : 0it [00:00, ?it/s]\n",
      "0it [00:00, ?it/s]"
     ]
    },
    {
     "name": "stdout",
     "output_type": "stream",
     "text": [
      "+---------------------------------+\n",
      "Enfermedad->Final 2.7436319656296955e-154\n",
      "Enfermedad->Reaccion 1.6817950303003113e-156\n",
      "Reaccion->Final 9.233296490758012e-94\n",
      "Tratamiento->Final 8.976420362719271e-92\n",
      "Tratamiento->Reaccion 9.280048648230708e-94\n",
      "+---------------------------------+\n",
      "Enfermedad = 1\n",
      "Tratamiento = 0\n",
      "Reaccion = 0\n",
      "Final = 1\n"
     ]
    },
    {
     "name": "stderr",
     "output_type": "stream",
     "text": [
      "\n"
     ]
    },
    {
     "data": {
      "image/png": "[encoded data removed]",
      "text/plain": [
       "<Figure size 432x288 with 1 Axes>"
      ]
     },
     "metadata": {},
     "output_type": "display_data"
    },
    {
     "name": "stderr",
     "output_type": "stream",
     "text": [
      "Finding Elimination Order: : : 0it [00:00, ?it/s]\n",
      "0it [00:00, ?it/s]\n",
      "Finding Elimination Order: : : 0it [00:00, ?it/s]\n",
      "0it [00:00, ?it/s]\n",
      "Finding Elimination Order: : : 0it [00:00, ?it/s]\n",
      "0it [00:00, ?it/s]\n",
      "Finding Elimination Order: : : 0it [00:00, ?it/s]\n",
      "0it [00:00, ?it/s]\n",
      "Finding Elimination Order: : : 0it [00:00, ?it/s]\n",
      "0it [00:00, ?it/s]"
     ]
    },
    {
     "name": "stdout",
     "output_type": "stream",
     "text": [
      "+---------------------------------+\n",
      "Enfermedad->Final 2.809605617942025e-161\n",
      "Enfermedad->Reaccion 2.1637723360342005e-164\n",
      "Reaccion->Final 5.2534018878022524e-96\n",
      "Tratamiento->Final 4.065070069672949e-93\n",
      "Tratamiento->Reaccion 5.280002124518546e-96\n",
      "+---------------------------------+\n",
      "Enfermedad = 1\n",
      "Tratamiento = 0\n",
      "Reaccion = 0\n",
      "Final = 1\n"
     ]
    },
    {
     "name": "stderr",
     "output_type": "stream",
     "text": [
      "\n"
     ]
    },
    {
     "data": {
      "image/png": "[encoded data removed]",
      "text/plain": [
       "<Figure size 432x288 with 1 Axes>"
      ]
     },
     "metadata": {},
     "output_type": "display_data"
    },
    {
     "name": "stderr",
     "output_type": "stream",
     "text": [
      "Finding Elimination Order: : : 0it [00:00, ?it/s]\n",
      "0it [00:00, ?it/s]\n",
      "Finding Elimination Order: : : 0it [00:00, ?it/s]\n",
      "0it [00:00, ?it/s]\n",
      "Finding Elimination Order: : : 0it [00:00, ?it/s]\n",
      "0it [00:00, ?it/s]\n",
      "Finding Elimination Order: : : 0it [00:00, ?it/s]\n",
      "0it [00:00, ?it/s]\n",
      "Finding Elimination Order: : : 0it [00:00, ?it/s]\n",
      "0it [00:00, ?it/s]"
     ]
    },
    {
     "name": "stdout",
     "output_type": "stream",
     "text": [
      "+---------------------------------+\n",
      "Enfermedad->Final 5.58599847201402e-166\n",
      "Enfermedad->Reaccion 2.847727872257799e-169\n",
      "Reaccion->Final 2.501235228818376e-99\n",
      "Tratamiento->Final 2.9238189398925177e-96\n",
      "Tratamiento->Reaccion 2.513900060215377e-99\n",
      "+---------------------------------+\n",
      "Enfermedad = 1\n",
      "Tratamiento = 0\n",
      "Reaccion = 0\n",
      "Final = 1\n"
     ]
    },
    {
     "name": "stderr",
     "output_type": "stream",
     "text": [
      "\n"
     ]
    },
    {
     "data": {
      "image/png": "[encoded data removed]",
      "text/plain": [
       "<Figure size 432x288 with 1 Axes>"
      ]
     },
     "metadata": {},
     "output_type": "display_data"
    },
    {
     "name": "stderr",
     "output_type": "stream",
     "text": [
      "Finding Elimination Order: : : 0it [00:00, ?it/s]\n",
      "0it [00:00, ?it/s]\n",
      "Finding Elimination Order: : : 0it [00:00, ?it/s]\n",
      "0it [00:00, ?it/s]\n",
      "Finding Elimination Order: : : 0it [00:00, ?it/s]\n",
      "0it [00:00, ?it/s]\n",
      "Finding Elimination Order: : : 0it [00:00, ?it/s]\n",
      "0it [00:00, ?it/s]\n",
      "Finding Elimination Order: : : 0it [00:00, ?it/s]\n",
      "0it [00:00, ?it/s]"
     ]
    },
    {
     "name": "stdout",
     "output_type": "stream",
     "text": [
      "+---------------------------------+\n",
      "Enfermedad->Final 1.0600519943339401e-166\n",
      "Enfermedad->Reaccion 9.353530959398005e-171\n",
      "Reaccion->Final 1.263898465155964e-100\n",
      "Tratamiento->Final 8.536058393252642e-97\n",
      "Tratamiento->Reaccion 1.2702981275226624e-100\n",
      "+---------------------------------+\n",
      "Enfermedad = 0\n",
      "Tratamiento = 0\n",
      "Reaccion = 0\n",
      "Final = 0\n"
     ]
    },
    {
     "name": "stderr",
     "output_type": "stream",
     "text": [
      "\n"
     ]
    },
    {
     "data": {
      "image/png": "[encoded data removed]",
      "text/plain": [
       "<Figure size 432x288 with 1 Axes>"
      ]
     },
     "metadata": {},
     "output_type": "display_data"
    },
    {
     "data": {
      "text/plain": [
       "<Figure size 432x288 with 0 Axes>"
      ]
     },
     "metadata": {},
     "output_type": "display_data"
    }
   ],
   "source": [
    "for rnd in range(rounds):\n",
    "    print(\"+---------------------------------+\")\n",
    "    for pair in connection_tables:\n",
    "        print(pair, connection_tables[pair])\n",
    "    print(\"+---------------------------------+\")\n",
    "    best_actions = agent.make_decision(target, intervention_vars)\n",
    "    nature_response = agent.nature.action_simulator(intervention_vars, best_actions)\n",
    "    agent.rewards_per_round.append(nature_response[target[\"variable\"]])\n",
    "    for var in nature_response:\n",
    "        print(\"{} = {}\".format(var, nature_response[var]))\n",
    "    connection_tables = update_connection_beliefs(variables, connection_tables, agent)\n",
    "    for k in connection_tables:\n",
    "        connection_probas[k] += [connection_tables[k]]\n",
    "    ebunch, nodes = create_ebunch_from_beliefs(variables, connection_tables)\n",
    "    unknown_model.init_graph(ebunch, plot=False)\n",
    "    for node in nodes:\n",
    "        unknown_model.digraph.add_node(node)\n",
    "    unknown_model.save_digraph_as_img(\"Nothing\")\n",
    "    unknown_model.ebunch = ebunch\n",
    "    unknown_model.pgmodel = BayesianModel(ebunch)\n",
    "    unknown_model.pgmodel.add_nodes_from(nodes)\n",
    "    agent = HalfBlindAgent(nature, unknown_model)"
   ]
  },
  {
   "cell_type": "code",
   "execution_count": 39,
   "metadata": {},
   "outputs": [
    {
     "data": {
      "image/png": "[encoded data removed]",
      "text/plain": [
       "<Figure size 432x288 with 1 Axes>"
      ]
     },
     "metadata": {
      "needs_background": "light"
     },
     "output_type": "display_data"
    }
   ],
   "source": [
    "plot_probabilities(connection_probas)"
   ]
  },
  {
   "cell_type": "code",
   "execution_count": null,
   "metadata": {},
   "outputs": [],
   "source": []
  }
 ],
 "metadata": {
  "kernelspec": {
   "display_name": "Python 3",
   "language": "python",
   "name": "python3"
  },
  "language_info": {
   "codemirror_mode": {
    "name": "ipython",
    "version": 3
   },
   "file_extension": ".py",
   "mimetype": "text/x-python",
   "name": "python",
   "nbconvert_exporter": "python",
   "pygments_lexer": "ipython3",
   "version": "3.7.3"
  }
 },
 "nbformat": 4,
 "nbformat_minor": 4
}
