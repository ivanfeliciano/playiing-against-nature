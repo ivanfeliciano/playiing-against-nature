{
  "nbformat": 4,
  "nbformat_minor": 0,
  "metadata": {
    "kernelspec": {
      "display_name": "Python 3",
      "language": "python",
      "name": "python3"
    },
    "language_info": {
      "codemirror_mode": {
        "name": "ipython",
        "version": 3
      },
      "file_extension": ".py",
      "mimetype": "text/x-python",
      "name": "python",
      "nbconvert_exporter": "python",
      "pygments_lexer": "ipython3",
      "version": "3.6.4"
    },
    "colab": {
      "name": "base_code.ipynb",
      "provenance": [],
      "collapsed_sections": [],
      "include_colab_link": true
    }
  },
  "cells": [
    {
      "cell_type": "markdown",
      "metadata": {
        "id": "view-in-github",
        "colab_type": "text"
      },
      "source": [
        "<a href=\"https://colab.research.google.com/github/ivanfeliciano/playing-against-nature/blob/master/plot_base_code.ipynb\" target=\"_parent\"><img src=\"https://colab.research.google.com/assets/colab-badge.svg\" alt=\"Open In Colab\"/></a>"
      ]
    },
    {
      "cell_type": "code",
      "metadata": {
        "id": "Lr7qMzUa3V5M",
        "colab_type": "code",
        "outputId": "f40b881b-3e83-4348-b569-357ee92384eb",
        "colab": {
          "base_uri": "https://localhost:8080/",
          "height": 284
        }
      },
      "source": [
        "! pip install pgmpy"
      ],
      "execution_count": 67,
      "outputs": [
        {
          "output_type": "stream",
          "text": [
            "Requirement already satisfied: pgmpy in /usr/local/lib/python3.6/dist-packages (0.1.10)\n",
            "Requirement already satisfied: pyparsing in /usr/local/lib/python3.6/dist-packages (from pgmpy) (2.4.7)\n",
            "Requirement already satisfied: networkx in /usr/local/lib/python3.6/dist-packages (from pgmpy) (2.4)\n",
            "Requirement already satisfied: statsmodels in /usr/local/lib/python3.6/dist-packages (from pgmpy) (0.10.2)\n",
            "Requirement already satisfied: joblib in /usr/local/lib/python3.6/dist-packages (from pgmpy) (0.14.1)\n",
            "Requirement already satisfied: pandas in /usr/local/lib/python3.6/dist-packages (from pgmpy) (1.0.3)\n",
            "Requirement already satisfied: scipy in /usr/local/lib/python3.6/dist-packages (from pgmpy) (1.4.1)\n",
            "Requirement already satisfied: torch in /usr/local/lib/python3.6/dist-packages (from pgmpy) (1.4.0)\n",
            "Requirement already satisfied: numpy in /usr/local/lib/python3.6/dist-packages (from pgmpy) (1.18.2)\n",
            "Requirement already satisfied: tqdm in /usr/local/lib/python3.6/dist-packages (from pgmpy) (4.38.0)\n",
            "Requirement already satisfied: decorator>=4.3.0 in /usr/local/lib/python3.6/dist-packages (from networkx->pgmpy) (4.4.2)\n",
            "Requirement already satisfied: patsy>=0.4.0 in /usr/local/lib/python3.6/dist-packages (from statsmodels->pgmpy) (0.5.1)\n",
            "Requirement already satisfied: pytz>=2017.2 in /usr/local/lib/python3.6/dist-packages (from pandas->pgmpy) (2018.9)\n",
            "Requirement already satisfied: python-dateutil>=2.6.1 in /usr/local/lib/python3.6/dist-packages (from pandas->pgmpy) (2.8.1)\n",
            "Requirement already satisfied: six in /usr/local/lib/python3.6/dist-packages (from patsy>=0.4.0->statsmodels->pgmpy) (1.12.0)\n"
          ],
          "name": "stdout"
        }
      ]
    },
    {
      "cell_type": "code",
      "metadata": {
        "id": "thx6N3gF3Q9U",
        "colab_type": "code",
        "colab": {}
      },
      "source": [
        "import numpy as np\n",
        "import networkx as nx\n",
        "from pgmpy.models import BayesianModel\n",
        "from pgmpy.factors.discrete import TabularCPD\n",
        "from pgmpy.inference import VariableElimination\n",
        "from pgmpy.sampling import BayesianModelSampling\n",
        "from scipy.stats import beta, dirichlet\n",
        "from operator import add\n",
        "import matplotlib.pyplot as plt\n",
        "plt.rcParams['figure.figsize'] = [10, 5]"
      ],
      "execution_count": 0,
      "outputs": []
    },
    {
      "cell_type": "code",
      "metadata": {
        "id": "KneEJQgL3Q9u",
        "colab_type": "code",
        "colab": {}
      },
      "source": [
        "class true_causal_model:\n",
        "    def __init__(self,N,infer,model):\n",
        "        self.num_variables=N\n",
        "        self.infer=infer\n",
        "        self.true_model=model\n",
        "\n",
        "    def action_simulator(self,chosen_action):\n",
        "        response=dict()\n",
        "        elements = [0,1]\n",
        "        probabilities = [0.7,0.3]\n",
        "        res=np.random.choice(elements, 1, p=probabilities)\n",
        "        response['Enfermedad']=res[0]\n",
        "        response['Tratamiento']=chosen_action\n",
        "        response['Reaccion']=self.infer.map_query(['Reaccion'],evidence={'Tratamiento': response['Tratamiento'],'Enfermedad': response['Enfermedad']}, show_progress=False)['Reaccion']\n",
        "        response['Final']=self.infer.map_query(['Final'],evidence={'Tratamiento': response['Tratamiento'],'Enfermedad': response['Enfermedad'],'Reaccion':response['Reaccion']}, show_progress=False)['Final']\n",
        "        return(response)"
      ],
      "execution_count": 0,
      "outputs": []
    },
    {
      "cell_type": "code",
      "metadata": {
        "id": "hskQPJOQ3Q92",
        "colab_type": "code",
        "colab": {}
      },
      "source": [
        "class fully_informed_agent:\n",
        "    def __init__(self,model_simulator):\n",
        "        self.beliefs=dict()\n",
        "        self.beliefs['Enfermedad']=[0.7, #0\n",
        "                                    0.3] #1\n",
        "        \n",
        "        self.beliefs['Tratamiento']=[0.5, #0\n",
        "                                     0.5] #1\n",
        "        \n",
        "        self.beliefs['Reaccion|Tratamiento']=[[.7,.4], #0 \n",
        "                                              [.3,.6]] #1\n",
        "        \n",
        "        self.beliefs['Final|Enfermedad, Tratamiento, Reaccion']=[[.6,0,.8,0,.4,0,.9,0], #0\n",
        "                                                                 [.4,1,.2,1,.6,1,.1,1]] #1\n",
        "        self.recompensa=[0]\n",
        "        self.simulator=model_simulator.action_simulator\n",
        "        \n",
        "    def do_calculus(self,final,treatment): \n",
        "        #La distribución P(Final|do(Tratamiento))=P(Final|Enfermedad, Tratamiento, Reaccion)P(Reaccion|Tratamiento)P(Enfermedad)\n",
        "        #Treatment = 1 ó 0\n",
        "        #Quiero que me de la probabilidad de vivir=0 ó =1 dado treatment=0 ó =1\n",
        "        if (treatment==0):\n",
        "            res=self.beliefs['Final|Enfermedad, Tratamiento, Reaccion'][final][0]*self.beliefs['Reaccion|Tratamiento'][0][0]*self.beliefs['Enfermedad'][0] \\\n",
        "            +self.beliefs['Final|Enfermedad, Tratamiento, Reaccion'][final][1]*self.beliefs['Reaccion|Tratamiento'][1][0]*self.beliefs['Enfermedad'][0] \\\n",
        "            +self.beliefs['Final|Enfermedad, Tratamiento, Reaccion'][final][4]*self.beliefs['Reaccion|Tratamiento'][0][0]*self.beliefs['Enfermedad'][1] \\\n",
        "            +self.beliefs['Final|Enfermedad, Tratamiento, Reaccion'][final][5]*self.beliefs['Reaccion|Tratamiento'][1][0]*self.beliefs['Enfermedad'][1]\n",
        "        else:\n",
        "            res=self.beliefs['Final|Enfermedad, Tratamiento, Reaccion'][final][2]*self.beliefs['Reaccion|Tratamiento'][0][1]*self.beliefs['Enfermedad'][0] \\\n",
        "                +self.beliefs['Final|Enfermedad, Tratamiento, Reaccion'][final][3]*self.beliefs['Reaccion|Tratamiento'][1][1]*self.beliefs['Enfermedad'][0] \\\n",
        "                +self.beliefs['Final|Enfermedad, Tratamiento, Reaccion'][final][6]*self.beliefs['Reaccion|Tratamiento'][0][1]*self.beliefs['Enfermedad'][1] \\\n",
        "                +self.beliefs['Final|Enfermedad, Tratamiento, Reaccion'][final][7]*self.beliefs['Reaccion|Tratamiento'][1][1]*self.beliefs['Enfermedad'][1]\n",
        "        return(res)\n",
        "    \n",
        "    def make_decision(self,final=1):\n",
        "        f_0= self.do_calculus(final,0)\n",
        "        f_1=self.do_calculus(final,1)\n",
        "        if (f_0 > f_1):\n",
        "            return(0)\n",
        "        else:\n",
        "            return(1)\n",
        "        \n",
        "    def training(self):\n",
        "        chosen_action=self.make_decision()\n",
        "        datos=self.simulator(chosen_action)\n",
        "        self.recompensa.append(datos['Final'])\n",
        "        return(datos)\n",
        "\n",
        "    def get_reward(self):\n",
        "        return(self.recompensa)"
      ],
      "execution_count": 0,
      "outputs": []
    },
    {
      "cell_type": "code",
      "metadata": {
        "id": "kfquLYG43Q9_",
        "colab_type": "code",
        "colab": {}
      },
      "source": [
        "class causal_agent:\n",
        "    def __init__(self, true_model,model_simulator, max_variables, max_valores):\n",
        "        self.max_variables=max_variables\n",
        "        self.local_model=true_model ## Este es el directamente creado con PGMPY, no la clase true_causal_model\n",
        "        self.infer=VariableElimination(self.local_model)\n",
        "        self.beliefs=dict()\n",
        "        self.K=max_valores\n",
        "        self.simulator=model_simulator.action_simulator\n",
        "        \n",
        "        self.alpha_enfermedad=np.random.rand(self.K).tolist()\n",
        "        self.alpha_tratamiento=np.random.rand(self.K).tolist()\n",
        "        self.alpha_reaccion_farmaco=np.random.rand(self.K).tolist()\n",
        "        self.alpha_reaccion_cirugia=np.random.rand(self.K).tolist()\n",
        "        self.alpha_A_f_v=np.random.rand(self.K).tolist()\n",
        "        self.alpha_A_f_m=np.random.rand(self.K).tolist()\n",
        "        self.alpha_A_c_v=np.random.rand(self.K).tolist()\n",
        "        self.alpha_A_c_m=np.random.rand(self.K).tolist()\n",
        "        self.alpha_B_f_v=np.random.rand(self.K).tolist()\n",
        "        self.alpha_B_f_m=np.random.rand(self.K).tolist()\n",
        "        self.alpha_B_c_v=np.random.rand(self.K).tolist()\n",
        "        self.alpha_B_c_m=np.random.rand(self.K).tolist()\n",
        "                \n",
        "        self.conteo_enfermedad_A=0\n",
        "        self.conteo_enfermedad_B=0\n",
        "        self.conteo_tratamiento_f=0\n",
        "        self.conteo_tratamiento_c=0\n",
        "        self.conteo_reaccion_v_f=0\n",
        "        self.conteo_reaccion_m_f=0\n",
        "        self.conteo_reaccion_v_c=0\n",
        "        self.conteo_reaccion_m_c=0\n",
        "        \n",
        "        self.conteo_v_A_f_v=0\n",
        "        self.conteo_v_A_f_m=0\n",
        "        self.conteo_v_A_c_v=0\n",
        "        self.conteo_v_A_c_m=0\n",
        "        self.conteo_v_B_f_v=0\n",
        "        self.conteo_v_B_f_m=0\n",
        "        self.conteo_v_B_c_v=0\n",
        "        self.conteo_v_B_c_m=0\n",
        "        self.conteo_m_A_f_v=0\n",
        "        self.conteo_m_A_f_m=0\n",
        "        self.conteo_m_A_c_v=0\n",
        "        self.conteo_m_A_c_m=0\n",
        "        self.conteo_m_B_f_v=0\n",
        "        self.conteo_m_B_f_m=0\n",
        "        self.conteo_m_B_c_v=0\n",
        "        self.conteo_m_B_c_m=0\n",
        "        \n",
        "        self.recompensa=[0]\n",
        "        self.rounds=0\n",
        "        self.belief_formation()\n",
        "    \n",
        "    def belief_formation(self):\n",
        "        alpha_enfermedad=self.alpha_enfermedad\n",
        "        alpha_tratamiento=self.alpha_tratamiento\n",
        "        \n",
        "        alpha_reaccion_farmaco=self.alpha_reaccion_farmaco\n",
        "        alpha_reaccion_cirugia=self.alpha_reaccion_cirugia\n",
        "        \n",
        "        alpha_A_f_v=self.alpha_A_f_v\n",
        "        alpha_A_f_m=self.alpha_A_f_m\n",
        "        alpha_A_c_v=self.alpha_A_c_v\n",
        "        alpha_A_c_m=self.alpha_A_c_m\n",
        "        alpha_B_f_v=self.alpha_B_f_v\n",
        "        alpha_B_f_m=self.alpha_B_f_m\n",
        "        alpha_B_c_v=self.alpha_B_c_v\n",
        "        alpha_B_c_m=self.alpha_B_c_m\n",
        "        \n",
        "        \n",
        "        lista=dirichlet.rvs(alpha_enfermedad,size=1).tolist()\n",
        "        self.beliefs['Enfermedad']=lista[0]\n",
        "        \n",
        "        lista=dirichlet.rvs(alpha_tratamiento,size=1).tolist()\n",
        "        self.beliefs['Tratamiento']=lista[0]\n",
        "        \n",
        "        lista_1=dirichlet.rvs(alpha_reaccion_farmaco,size=1).tolist()\n",
        "        lista_2=dirichlet.rvs(alpha_reaccion_cirugia,size=1).tolist()\n",
        "        lista_3=np.array([lista_1[0],lista_2[0]]).transpose()\n",
        "        lista_4=lista_3.tolist()\n",
        "        self.beliefs['Reaccion|Tratamiento']=lista_4\n",
        "        \n",
        "        lista_1=dirichlet.rvs(alpha_A_f_v,size=1).tolist()\n",
        "        lista_2=dirichlet.rvs(alpha_A_f_m,size=1).tolist()\n",
        "        lista_3=dirichlet.rvs(alpha_A_c_v,size=1).tolist()\n",
        "        lista_4=dirichlet.rvs(alpha_A_c_m,size=1).tolist()\n",
        "        lista_5=dirichlet.rvs(alpha_B_f_v,size=1).tolist()\n",
        "        lista_6=dirichlet.rvs(alpha_B_f_m,size=1).tolist()\n",
        "        lista_7=dirichlet.rvs(alpha_B_c_v,size=1).tolist()\n",
        "        lista_8=dirichlet.rvs(alpha_B_c_m,size=1).tolist()\n",
        "        lista_9=np.array([lista_1[0],lista_2[0],lista_3[0],lista_4[0],lista_5[0],lista_6[0],lista_7[0],lista_8[0]]).transpose()\n",
        "        lista_10=lista_9.tolist()\n",
        "        self.beliefs['Final|Enfermedad, Tratamiento, Reaccion']=lista_10\n",
        "        print(\"Creencias formadas\")\n",
        "        return(self.beliefs)\n",
        "    \n",
        "    def print_beliefs(self):\n",
        "        return(self.beliefs)\n",
        "    \n",
        "    def fix_causal_model(self):\n",
        "        model1=self.local_model\n",
        "        model=model1.copy()\n",
        "        \n",
        "        cpd_e=TabularCPD(variable='Enfermedad', variable_card=2, values=[self.beliefs['Enfermedad']])\n",
        "        cpd_tr=TabularCPD(variable='Tratamiento', variable_card=2, values=[self.beliefs['Tratamiento']])\n",
        "        cpd_r_tr=cpd_r_tr = TabularCPD(variable='Reaccion', variable_card=2, values=self.beliefs['Reaccion|Tratamiento'], evidence=['Tratamiento'],evidence_card=[2])\n",
        "        cpd_f_e_tr_r= TabularCPD(variable='Final', variable_card=2, values=self.beliefs['Final|Enfermedad, Tratamiento, Reaccion'],evidence=['Enfermedad', 'Tratamiento','Reaccion'],evidence_card=[2, 2,2])\n",
        "        model.add_cpds(cpd_e, cpd_tr, cpd_r_tr, cpd_f_e_tr_r)\n",
        "        \n",
        "        if (model.check_model()):\n",
        "            self.local_model=model\n",
        "            self.infer= VariableElimination(model)\n",
        "            print(\"Modelo Causal local creado\")\n",
        "            return(model, self.infer)\n",
        "        else:\n",
        "            print(\"Error en CPT\")\n",
        "        \n",
        "    def do_calculus(self,final,treatment): \n",
        "        #La distribución P(Final|do(Tratamiento))=P(Final|Enfermedad, Tratamiento, Reaccion)P(Reaccion|Tratamiento)P(Enfermedad)\n",
        "        #Treatment = 1 ó 0\n",
        "        #Quiero que me de la probabilidad de vivir=0 ó =1 dado treatment=0 ó =1\n",
        "        if (treatment==0):\n",
        "            res=self.beliefs['Final|Enfermedad, Tratamiento, Reaccion'][final][0]*self.beliefs['Reaccion|Tratamiento'][0][0]*self.beliefs['Enfermedad'][0] \\\n",
        "            +self.beliefs['Final|Enfermedad, Tratamiento, Reaccion'][final][1]*self.beliefs['Reaccion|Tratamiento'][1][0]*self.beliefs['Enfermedad'][0] \\\n",
        "            +self.beliefs['Final|Enfermedad, Tratamiento, Reaccion'][final][4]*self.beliefs['Reaccion|Tratamiento'][0][0]*self.beliefs['Enfermedad'][1] \\\n",
        "            +self.beliefs['Final|Enfermedad, Tratamiento, Reaccion'][final][5]*self.beliefs['Reaccion|Tratamiento'][1][0]*self.beliefs['Enfermedad'][1]\n",
        "        else:\n",
        "            res=self.beliefs['Final|Enfermedad, Tratamiento, Reaccion'][final][2]*self.beliefs['Reaccion|Tratamiento'][0][1]*self.beliefs['Enfermedad'][0] \\\n",
        "                +self.beliefs['Final|Enfermedad, Tratamiento, Reaccion'][final][3]*self.beliefs['Reaccion|Tratamiento'][1][1]*self.beliefs['Enfermedad'][0] \\\n",
        "                +self.beliefs['Final|Enfermedad, Tratamiento, Reaccion'][final][6]*self.beliefs['Reaccion|Tratamiento'][0][1]*self.beliefs['Enfermedad'][1] \\\n",
        "                +self.beliefs['Final|Enfermedad, Tratamiento, Reaccion'][final][7]*self.beliefs['Reaccion|Tratamiento'][1][1]*self.beliefs['Enfermedad'][1]\n",
        "        return(res)\n",
        "    \n",
        "    def make_decision(self,final=1):\n",
        "        f_0= self.do_calculus(final,0)\n",
        "        f_1=self.do_calculus(final,1)\n",
        "        if (f_0 > f_1):\n",
        "            return(0)\n",
        "        else:\n",
        "            return(1)\n",
        "        \n",
        "    def observing_external(self):\n",
        "        self.rounds=self.rounds+1\n",
        "        chosen_action=self.make_decision()\n",
        "        datos=self.simulator(chosen_action)\n",
        "        self.recompensa.append(datos['Final'])\n",
        "        return(datos)\n",
        "        \n",
        "    #def prob_data_given_beliefs(self,datos):\n",
        "        #Dados los beliefs, que son distribuciones, genero un modelo gráfico causal\n",
        "        #Este modelo gráfico causal da lugar a una distribución intervencional y puedo calcular\n",
        "        #la probabilidad de ver esa observación dadas las dirichlet\n",
        "        #result = [a * 8 for a in self.alpha]\n",
        "        \n",
        "        \n",
        "    def belief_updating(self):\n",
        "        datos=self.observing_external()\n",
        "        lista_datos=list(datos.values())\n",
        "        #self.alpha=list(map(add,self.alpha,self.conteo))\n",
        "        \n",
        "        #Conteo de enfermedad\n",
        "        if(lista_datos[0]==0):\n",
        "            self.conteo_enfermedad_A=self.conteo_enfermedad_A+1\n",
        "            self.alpha_enfermedad[0]=self.alpha_enfermedad[0]+self.conteo_enfermedad_A\n",
        "        else:\n",
        "            self.conteo_enfermedad_B=self.conteo_enfermedad_B+1\n",
        "            self.alpha_enfermedad[1]=self.alpha_enfermedad[0]+self.conteo_enfermedad_B\n",
        "        \n",
        "        #Conteo de tratamiento\n",
        "        if(lista_datos[1]==0):\n",
        "            self.conteo_tratamiento_f=self.conteo_tratamiento_f+1\n",
        "            self.alpha_tratamiento[0]=self.alpha_tratamiento[0]+self.conteo_tratamiento_f\n",
        "        else:\n",
        "            self.conteo_tratamiento_c=self.conteo_tratamiento_c+1\n",
        "            self.alpha_tratamiento[1]=self.alpha_tratamiento[0]+self.conteo_tratamiento_c\n",
        "        \n",
        "        #Conteo de reaccion dado tratamiento\n",
        "        if(lista_datos[1]==0 & lista_datos[2]==0):\n",
        "            self.conteo_reaccion_v_f=self.conteo_reaccion_v_f+1\n",
        "            self.alpha_reaccion_farmaco[0]=self.alpha_reaccion_farmaco[0]+self.conteo_reaccion_v_f\n",
        "        if(lista_datos[1]==0 & lista_datos[2]==1):\n",
        "            self.conteo_reaccion_m_f=self.conteo_reaccion_m_f+1\n",
        "            self.alpha_reaccion_farmaco[1]=self.alpha_reaccion_farmaco[1]+self.conteo_reaccion_m_f\n",
        "        \n",
        "        if(lista_datos[1]==1 & lista_datos[2]==0):\n",
        "            self.conteo_reaccion_v_c=self.conteo_reaccion_v_c+1\n",
        "            self.alpha_reaccion_cirugia[0]+self.conteo_reaccion_v_c\n",
        "        if(lista_datos[1]==0 & lista_datos[2]==1):\n",
        "            self.conteo_reaccion_m_c=self.conteo_reaccion_m_c+1\n",
        "            self.alpha_reaccion_cirugia[1]=self.alpha_reaccion_cirugia[1]+self.conteo_reaccion_m_c\n",
        "        \n",
        "        #Conteo de vivir dado enfermedad, tratamiento y reaccion\n",
        "        #Para vivir\n",
        "        if(lista_datos[0]==0 & lista_datos[1]==0 & lista_datos[2]==0 & lista_datos[3]==0):\n",
        "            self.conteo_v_A_f_v=self.conteo_v_A_f_v+1\n",
        "            self.alpha_A_f_v[0]=self.alpha_A_f_v[0]+self.conteo_v_A_f_v\n",
        "            \n",
        "        if(lista_datos[0]==0 & lista_datos[1]==0 & lista_datos[2]==1 & lista_datos[3]==0):\n",
        "            self.conteo_v_A_f_m=self.conteo_v_A_f_m+1\n",
        "            self.alpha_A_f_m[0]=self.alpha_A_f_m[0]+self.conteo_v_A_f_m\n",
        "            \n",
        "        if(lista_datos[0]==0 & lista_datos[1]==1 & lista_datos[2]==0 & lista_datos[3]==0):\n",
        "            self.conteo_v_A_c_v=self.conteo_v_A_c_v+1\n",
        "            self.alpha_A_c_v[0]=self.alpha_A_c_v[0]+self.conteo_v_A_c_v\n",
        "            \n",
        "        if(lista_datos[0]==0 & lista_datos[1]==1 & lista_datos[2]==1 & lista_datos[3]==0):\n",
        "            self.conteo_v_A_c_m=self.conteo_v_A_c_m+1\n",
        "            self.alpha_A_c_m[0]=self.alpha_A_c_m[0]+self.conteo_v_A_c_m\n",
        "        \n",
        "        if(lista_datos[0]==1 & lista_datos[1]==0 & lista_datos[2]==0 & lista_datos[3]==0):\n",
        "            self.conteo_v_B_f_v=self.conteo_v_B_f_v+1\n",
        "            self.alpha_B_f_v[0]=self.alpha_B_f_v[0]+self.conteo_v_B_f_v\n",
        "        \n",
        "        if(lista_datos[0]==1 & lista_datos[1]==0 & lista_datos[2]==1 & lista_datos[3]==0):\n",
        "            self.conteo_v_B_f_m=self.conteo_v_B_f_m+1\n",
        "            self.alpha_B_f_m[0]=self.alpha_B_f_m[0]+self.conteo_v_B_f_m\n",
        "            \n",
        "        if(lista_datos[0]==1 & lista_datos[1]==1 & lista_datos[2]==0 & lista_datos[3]==0):\n",
        "            self.conteo_v_B_c_v=self.conteo_v_B_c_v+1\n",
        "            self.alpha_B_c_v[0]=self.alpha_B_c_v[0]+self.conteo_v_B_c_v\n",
        "            \n",
        "        if(lista_datos[0]==1 & lista_datos[1]==1 & lista_datos[2]==1 & lista_datos[3]==0):\n",
        "            self.conteo_v_B_c_m=self.conteo_v_B_c_m+1\n",
        "            self.alpha_B_c_m[0]=self.alpha_B_c_m[0]+self.conteo_v_B_c_m\n",
        "        #Para morir\n",
        "        if(lista_datos[0]==0 & lista_datos[1]==0 & lista_datos[2]==0 & lista_datos[3]==1):\n",
        "            self.conteo_m_A_f_v=self.conteo_m_A_f_v+1\n",
        "            self.alpha_A_f_v[1]=self.alpha_A_f_v[1]+self.conteo_m_A_f_v\n",
        "            \n",
        "        if(lista_datos[0]==0 & lista_datos[1]==0 & lista_datos[2]==1 & lista_datos[3]==1):     \n",
        "            self.conteo_m_A_f_m=self.conteo_m_A_f_m+1\n",
        "            self.alpha_A_f_m[1]=self.alpha_A_f_m[1]+self.conteo_m_A_f_m\n",
        "            \n",
        "        if(lista_datos[0]==0 & lista_datos[1]==1 & lista_datos[2]==0 & lista_datos[3]==1):    \n",
        "            self.conteo_m_A_c_v=self.conteo_m_A_c_v+1\n",
        "            self.alpha_A_c_v[1]=self.alpha_A_c_v[1]+self.conteo_m_A_c_v\n",
        "            \n",
        "        if(lista_datos[0]==0 & lista_datos[1]==1 & lista_datos[2]==1 & lista_datos[3]==1):\n",
        "            self.conteo_m_A_c_m=self.conteo_m_A_c_m+1\n",
        "            self.alpha_A_c_m[1]=self.alpha_A_c_m[1]+self.conteo_m_A_c_m\n",
        "            \n",
        "        if(lista_datos[0]==1 & lista_datos[1]==0 & lista_datos[2]==0 & lista_datos[3]==1):\n",
        "            self.conteo_m_B_f_v=self.conteo_m_B_f_v+1\n",
        "            self.alpha_B_f_v[1]=self.alpha_B_f_v[1]+self.conteo_m_B_f_v\n",
        "            \n",
        "        if(lista_datos[0]==1 & lista_datos[1]==0 & lista_datos[2]==1 & lista_datos[3]==1):\n",
        "            self.conteo_m_B_f_m=self.conteo_m_B_f_m+1\n",
        "            self.alpha_B_f_m[1]=self.alpha_B_f_m[1]+self.conteo_m_B_f_m\n",
        "            \n",
        "        if(lista_datos[0]==1 & lista_datos[1]==1 & lista_datos[2]==0 & lista_datos[3]==1):\n",
        "            self.conteo_m_B_c_v=self.conteo_m_B_c_v+1\n",
        "            self.alpha_B_c_v[1]=self.alpha_B_c_v[1]+self.conteo_m_B_c_v\n",
        "            \n",
        "        if(lista_datos[0]==1 & lista_datos[1]==1 & lista_datos[2]==1 & lista_datos[3]==0):\n",
        "            self.conteo_m_B_c_m=self.conteo_m_B_c_m+1\n",
        "            self.alpha_B_c_m[1]=self.alpha_B_c_m[1]+self.conteo_m_B_c_m\n",
        "        \n",
        "        \n",
        "        self.beliefs=self.belief_formation()\n",
        "        \n",
        "    def get_reward(self):\n",
        "        return(self.recompensa)\n",
        "\n",
        "    def training(self):\n",
        "      self.belief_updating()\n",
        "      self.fix_causal_model()\n",
        "    "
      ],
      "execution_count": 0,
      "outputs": []
    },
    {
      "cell_type": "code",
      "metadata": {
        "id": "-Gylt9PP3Q-G",
        "colab_type": "code",
        "colab": {}
      },
      "source": [
        "class random_agent:\n",
        "    def __init__(self,true_model,model_simulator, max_variables, max_valores):\n",
        "        self.recompensa=[0]\n",
        "        self.simulator=model_simulator.action_simulator\n",
        "    \n",
        "    def make_decision(self):\n",
        "        p=list(np.random.random_sample(1))\n",
        "        if (p[0] > 0.5):\n",
        "            return(0)\n",
        "        else:\n",
        "            return(1)\n",
        "        \n",
        "    def training(self):\n",
        "        chosen_action=self.make_decision()\n",
        "        datos=self.simulator(chosen_action)\n",
        "        self.recompensa.append(datos['Final'])\n",
        "        return(datos)\n",
        "    \n",
        "    def get_reward(self):\n",
        "        return(self.recompensa)"
      ],
      "execution_count": 0,
      "outputs": []
    },
    {
      "cell_type": "code",
      "metadata": {
        "id": "xECtK0wh3Q-N",
        "colab_type": "code",
        "colab": {}
      },
      "source": [
        "class Q_learning_agent:\n",
        "    def __init__(self, dummy_model, model_simulator, max_valores,epsilon):\n",
        "        self.epsilon = epsilon\n",
        "        self.simulator=model_simulator.action_simulator\n",
        "        self.K=max_valores\n",
        "        self.k = np.zeros(self.K, dtype=np.int)  # number of times action was chosen\n",
        "        self.Q = np.zeros(self.K, dtype=np.float)  # estimated value\n",
        "        self.reward_history = [0]\n",
        "\n",
        "    # Update Q action-value using:\n",
        "    # Q(a) <- Q(a) + 1/(k+1) * (r(a) - Q(a))\n",
        "    def update_Q(self, action, reward):\n",
        "        self.k[action] += 1  # update action counter k -> k+1\n",
        "        self.Q[action] += (1./self.k[action]) * (reward - self.Q[action])\n",
        "\n",
        "        # Choose action using an epsilon-greedy agent\n",
        "    def choose_action(self, force_explore=False):\n",
        "        rand = np.random.random()  # [0.0,1.0)\n",
        "        if (rand < self.epsilon) or force_explore:\n",
        "            action_explore = np.random.randint(self.K)  # explore random bandit\n",
        "            return action_explore\n",
        "        else:\n",
        "            #action_greedy = np.argmax(self.Q)  # exploit best current bandit\n",
        "            action_greedy = np.random.choice(np.flatnonzero(self.Q == self.Q.max()))\n",
        "            return action_greedy\n",
        "    \n",
        "    def training(self):\n",
        "        chosen_action=self.choose_action()\n",
        "        datos=self.simulator(chosen_action)\n",
        "        reward=datos['Final']\n",
        "        self.update_Q(chosen_action,reward)\n",
        "        self.reward_history.append(reward)\n",
        "        \n",
        "    def get_reward(self):\n",
        "        return(self.reward_history)\n",
        "        "
      ],
      "execution_count": 0,
      "outputs": []
    },
    {
      "cell_type": "markdown",
      "metadata": {
        "id": "uhJBnW5R3Q-R",
        "colab_type": "text"
      },
      "source": [
        "### Experimentos"
      ]
    },
    {
      "cell_type": "markdown",
      "metadata": {
        "id": "M9WWdUntDUls",
        "colab_type": "text"
      },
      "source": [
        "Función para ejecutar experimentos"
      ]
    },
    {
      "cell_type": "code",
      "metadata": {
        "id": "VMm5_zm78Sp5",
        "colab_type": "code",
        "colab": {}
      },
      "source": [
        "def run_experiments(n_experiments, n_iterations, agent_class, pgm_model, \\\n",
        "                    nature_model, class_params=None, plot=True):\n",
        "  \"\"\"\n",
        "  Función para ejecutar n experimentos, cada uno n iteraciones en el agente\n",
        "  \"\"\"\n",
        "  avg_reward_array = []\n",
        "  for experiment in range(n_experiments):\n",
        "    if class_params != None:\n",
        "      agent = agent_class(pgm_model, nature_model, class_params[0], class_params[1])\n",
        "    else: # el caso del fully informed agent\n",
        "      agent = agent_class(nature_model)\n",
        "    for i in range(n_iterations):\n",
        "      agent.training()\n",
        "    acc_reward = np.cumsum(agent.get_reward())\n",
        "    current_avg_reward = acc_reward / n_iterations\n",
        "    avg_reward_array.append(current_avg_reward)\n",
        "  mean = np.mean(avg_reward_array, axis=0)\n",
        "  standard_dev = np.std(avg_reward_array, axis=0)\n",
        "  if plot:\n",
        "    plot_x_axis = [_ for _ in range(len(mean))]\n",
        "    plt.plot(plot_x_axis, mean, color='#CC4F1B')\n",
        "    plt.fill_between(plot_x_axis, mean - standard_dev, mean + standard_dev,\\\n",
        "                     alpha=0.2, edgecolor='#CC4F1B', facecolor='#FF9848')\n",
        "    plt.xlabel(\"# Rounds\")\n",
        "    plt.ylabel(\"Average Reward (#{} experiments)\".format(n_experiments))\n",
        "  return mean, standard_dev\n",
        "\n",
        "\n"
      ],
      "execution_count": 0,
      "outputs": []
    },
    {
      "cell_type": "markdown",
      "metadata": {
        "id": "DHvtrPG54cLZ",
        "colab_type": "text"
      },
      "source": [
        "Inicializa pgm de la biblioteca pgmpy para alimentar a los agente"
      ]
    },
    {
      "cell_type": "code",
      "metadata": {
        "id": "fER-zFV9301y",
        "colab_type": "code",
        "colab": {}
      },
      "source": [
        "PGM_MODEL = BayesianModel([('Enfermedad', 'Final'), ('Tratamiento', 'Final'), ('Tratamiento', 'Reaccion'),\n",
        "                       ('Reaccion', 'Final')])\n",
        "\n",
        "cpd_e = TabularCPD(variable='Enfermedad', variable_card=2, values=[[0.7, 0.3]])\n",
        "cpd_tr = TabularCPD(variable='Tratamiento', variable_card=2, values=[[0.5, 0.5]])\n",
        "\n",
        "cpd_r_tr = TabularCPD(variable='Reaccion', variable_card=2, \n",
        "                   values=[[.7,.4], [.3,.6]], #vivir|farmaco vivir|cirugia #morir|farmaco morir|cirugia\n",
        "                   evidence=['Tratamiento'],\n",
        "                   evidence_card=[2])\n",
        "\n",
        "cpd_f_e_tr_r = TabularCPD(variable='Final', variable_card=2, \n",
        "                   values=[[.6,0,.8,0,.4,0,.9,0],\n",
        "                           [.4,1,.2,1,.6,1,.1,1]], #vivir|vivir,farmaco,a #morir|\n",
        "                  evidence=['Enfermedad', 'Tratamiento','Reaccion'],\n",
        "                  evidence_card=[2, 2,2])\n",
        "\n",
        "PGM_MODEL.add_cpds(cpd_e, cpd_tr, cpd_r_tr, cpd_f_e_tr_r)\n",
        "\n",
        "INFER_MECANISM = VariableElimination(PGM_MODEL)\n",
        "NATURE_CAUSAL_MODEL = true_causal_model(4, INFER_MECANISM, PGM_MODEL)\n",
        "N_EXPERIMENTS = 10\n",
        "N_ITERS = 10"
      ],
      "execution_count": 0,
      "outputs": []
    },
    {
      "cell_type": "code",
      "metadata": {
        "id": "W2Z_oPONH92j",
        "colab_type": "code",
        "outputId": "7e6e71cf-bfea-467c-b62c-4fad9c5f225b",
        "colab": {
          "base_uri": "https://localhost:8080/",
          "height": 334
        }
      },
      "source": [
        "rewards_fully_informed_agent = run_experiments(N_EXPERIMENTS, N_ITERS, fully_informed_agent, \\\n",
        "                                       PGM_MODEL, NATURE_CAUSAL_MODEL)"
      ],
      "execution_count": 95,
      "outputs": [
        {
          "output_type": "display_data",
          "data": {
            "image/png": "[encoded data removed]",
            "text/plain": [
              "<Figure size 720x360 with 1 Axes>"
            ]
          },
          "metadata": {
            "tags": [],
            "needs_background": "light"
          }
        }
      ]
    },
    {
      "cell_type": "markdown",
      "metadata": {
        "id": "NUo4sa_yFqlY",
        "colab_type": "text"
      },
      "source": [
        "#### Q learning"
      ]
    },
    {
      "cell_type": "code",
      "metadata": {
        "id": "kc4yidadGmJm",
        "colab_type": "code",
        "outputId": "893fb22a-d4bc-4665-9957-1ff0d21612b6",
        "colab": {
          "base_uri": "https://localhost:8080/",
          "height": 334
        }
      },
      "source": [
        "rewards_q_learning_agent = run_experiments(N_EXPERIMENTS, N_ITERS, Q_learning_agent, \\\n",
        "                                       PGM_MODEL, NATURE_CAUSAL_MODEL, [2, 0.3])"
      ],
      "execution_count": 96,
      "outputs": [
        {
          "output_type": "display_data",
          "data": {
            "image/png": "[encoded data removed]",
            "text/plain": [
              "<Figure size 720x360 with 1 Axes>"
            ]
          },
          "metadata": {
            "tags": [],
            "needs_background": "light"
          }
        }
      ]
    },
    {
      "cell_type": "markdown",
      "metadata": {
        "id": "C2i-C_A_3Q_i",
        "colab_type": "text"
      },
      "source": [
        "#### Random agent"
      ]
    },
    {
      "cell_type": "code",
      "metadata": {
        "id": "RFwO4X-AGrr-",
        "colab_type": "code",
        "outputId": "4a2feab1-9e6c-456f-9d34-9a3552e46b87",
        "colab": {
          "base_uri": "https://localhost:8080/",
          "height": 334
        }
      },
      "source": [
        "rewards_random_agent = run_experiments(N_EXPERIMENTS, N_ITERS, random_agent, \\\n",
        "                                       PGM_MODEL, NATURE_CAUSAL_MODEL, [4, 2])"
      ],
      "execution_count": 97,
      "outputs": [
        {
          "output_type": "display_data",
          "data": {
            "image/png": "[encoded data removed]",
            "text/plain": [
              "<Figure size 720x360 with 1 Axes>"
            ]
          },
          "metadata": {
            "tags": [],
            "needs_background": "light"
          }
        }
      ]
    },
    {
      "cell_type": "markdown",
      "metadata": {
        "id": "GZhKtl4134rm",
        "colab_type": "text"
      },
      "source": [
        "#### Causal agent"
      ]
    },
    {
      "cell_type": "code",
      "metadata": {
        "id": "NnJKt0SADcqw",
        "colab_type": "code",
        "outputId": "4e3b9245-b582-472b-d891-45abe205d3f8",
        "colab": {
          "base_uri": "https://localhost:8080/",
          "height": 1000
        }
      },
      "source": [
        "rewards_causal_agent = run_experiments(N_EXPERIMENTS, N_ITERS, causal_agent, \\\n",
        "                                       PGM_MODEL, NATURE_CAUSAL_MODEL, [4, 2])"
      ],
      "execution_count": 98,
      "outputs": [
        {
          "output_type": "stream",
          "text": [
            "WARNING:root:Replacing existing CPD for Enfermedad\n",
            "WARNING:root:Replacing existing CPD for Tratamiento\n",
            "WARNING:root:Replacing existing CPD for Reaccion\n",
            "WARNING:root:Replacing existing CPD for Final\n",
            "WARNING:root:Replacing existing CPD for Enfermedad\n",
            "WARNING:root:Replacing existing CPD for Tratamiento\n",
            "WARNING:root:Replacing existing CPD for Reaccion\n",
            "WARNING:root:Replacing existing CPD for Final\n",
            "WARNING:root:Replacing existing CPD for Enfermedad\n",
            "WARNING:root:Replacing existing CPD for Tratamiento\n",
            "WARNING:root:Replacing existing CPD for Reaccion\n",
            "WARNING:root:Replacing existing CPD for Final\n",
            "WARNING:root:Replacing existing CPD for Enfermedad\n",
            "WARNING:root:Replacing existing CPD for Tratamiento\n",
            "WARNING:root:Replacing existing CPD for Reaccion\n",
            "WARNING:root:Replacing existing CPD for Final\n",
            "WARNING:root:Replacing existing CPD for Enfermedad\n",
            "WARNING:root:Replacing existing CPD for Tratamiento\n",
            "WARNING:root:Replacing existing CPD for Reaccion\n",
            "WARNING:root:Replacing existing CPD for Final\n",
            "WARNING:root:Replacing existing CPD for Enfermedad\n",
            "WARNING:root:Replacing existing CPD for Tratamiento\n",
            "WARNING:root:Replacing existing CPD for Reaccion\n",
            "WARNING:root:Replacing existing CPD for Final\n",
            "WARNING:root:Replacing existing CPD for Enfermedad\n",
            "WARNING:root:Replacing existing CPD for Tratamiento\n"
          ],
          "name": "stderr"
        },
        {
          "output_type": "stream",
          "text": [
            "Creencias formadas\n",
            "Creencias formadas\n",
            "Modelo Causal local creado\n",
            "Creencias formadas\n",
            "Modelo Causal local creado\n",
            "Creencias formadas\n",
            "Modelo Causal local creado\n",
            "Creencias formadas\n",
            "Modelo Causal local creado\n",
            "Creencias formadas\n",
            "Modelo Causal local creado\n",
            "Creencias formadas\n",
            "Modelo Causal local creado\n",
            "Creencias formadas\n"
          ],
          "name": "stdout"
        },
        {
          "output_type": "stream",
          "text": [
            "WARNING:root:Replacing existing CPD for Reaccion\n",
            "WARNING:root:Replacing existing CPD for Final\n",
            "WARNING:root:Replacing existing CPD for Enfermedad\n",
            "WARNING:root:Replacing existing CPD for Tratamiento\n",
            "WARNING:root:Replacing existing CPD for Reaccion\n",
            "WARNING:root:Replacing existing CPD for Final\n",
            "WARNING:root:Replacing existing CPD for Enfermedad\n",
            "WARNING:root:Replacing existing CPD for Tratamiento\n",
            "WARNING:root:Replacing existing CPD for Reaccion\n",
            "WARNING:root:Replacing existing CPD for Final\n",
            "WARNING:root:Replacing existing CPD for Enfermedad\n",
            "WARNING:root:Replacing existing CPD for Tratamiento\n",
            "WARNING:root:Replacing existing CPD for Reaccion\n",
            "WARNING:root:Replacing existing CPD for Final\n",
            "WARNING:root:Replacing existing CPD for Enfermedad\n",
            "WARNING:root:Replacing existing CPD for Tratamiento\n",
            "WARNING:root:Replacing existing CPD for Reaccion\n",
            "WARNING:root:Replacing existing CPD for Final\n",
            "WARNING:root:Replacing existing CPD for Enfermedad\n",
            "WARNING:root:Replacing existing CPD for Tratamiento\n",
            "WARNING:root:Replacing existing CPD for Reaccion\n",
            "WARNING:root:Replacing existing CPD for Final\n",
            "WARNING:root:Replacing existing CPD for Enfermedad\n",
            "WARNING:root:Replacing existing CPD for Tratamiento\n",
            "WARNING:root:Replacing existing CPD for Reaccion\n",
            "WARNING:root:Replacing existing CPD for Final\n",
            "WARNING:root:Replacing existing CPD for Enfermedad\n",
            "WARNING:root:Replacing existing CPD for Tratamiento\n",
            "WARNING:root:Replacing existing CPD for Reaccion\n",
            "WARNING:root:Replacing existing CPD for Final\n"
          ],
          "name": "stderr"
        },
        {
          "output_type": "stream",
          "text": [
            "Modelo Causal local creado\n",
            "Creencias formadas\n",
            "Modelo Causal local creado\n",
            "Creencias formadas\n",
            "Modelo Causal local creado\n",
            "Creencias formadas\n",
            "Modelo Causal local creado\n",
            "Creencias formadas\n",
            "Creencias formadas\n",
            "Modelo Causal local creado\n",
            "Creencias formadas\n",
            "Modelo Causal local creado\n",
            "Creencias formadas\n",
            "Modelo Causal local creado\n",
            "Creencias formadas\n",
            "Modelo Causal local creado\n"
          ],
          "name": "stdout"
        },
        {
          "output_type": "stream",
          "text": [
            "WARNING:root:Replacing existing CPD for Enfermedad\n",
            "WARNING:root:Replacing existing CPD for Tratamiento\n",
            "WARNING:root:Replacing existing CPD for Reaccion\n",
            "WARNING:root:Replacing existing CPD for Final\n",
            "WARNING:root:Replacing existing CPD for Enfermedad\n",
            "WARNING:root:Replacing existing CPD for Tratamiento\n",
            "WARNING:root:Replacing existing CPD for Reaccion\n",
            "WARNING:root:Replacing existing CPD for Final\n",
            "WARNING:root:Replacing existing CPD for Enfermedad\n",
            "WARNING:root:Replacing existing CPD for Tratamiento\n",
            "WARNING:root:Replacing existing CPD for Reaccion\n",
            "WARNING:root:Replacing existing CPD for Final\n",
            "WARNING:root:Replacing existing CPD for Enfermedad\n",
            "WARNING:root:Replacing existing CPD for Tratamiento\n",
            "WARNING:root:Replacing existing CPD for Reaccion\n",
            "WARNING:root:Replacing existing CPD for Final\n",
            "WARNING:root:Replacing existing CPD for Enfermedad\n",
            "WARNING:root:Replacing existing CPD for Tratamiento\n",
            "WARNING:root:Replacing existing CPD for Reaccion\n",
            "WARNING:root:Replacing existing CPD for Final\n",
            "WARNING:root:Replacing existing CPD for Enfermedad\n",
            "WARNING:root:Replacing existing CPD for Tratamiento\n",
            "WARNING:root:Replacing existing CPD for Reaccion\n",
            "WARNING:root:Replacing existing CPD for Final\n",
            "WARNING:root:Replacing existing CPD for Enfermedad\n",
            "WARNING:root:Replacing existing CPD for Tratamiento\n",
            "WARNING:root:Replacing existing CPD for Reaccion\n",
            "WARNING:root:Replacing existing CPD for Final\n",
            "WARNING:root:Replacing existing CPD for Enfermedad\n"
          ],
          "name": "stderr"
        },
        {
          "output_type": "stream",
          "text": [
            "Creencias formadas\n",
            "Modelo Causal local creado\n",
            "Creencias formadas\n",
            "Modelo Causal local creado\n",
            "Creencias formadas\n",
            "Modelo Causal local creado\n",
            "Creencias formadas\n",
            "Modelo Causal local creado\n",
            "Creencias formadas\n",
            "Modelo Causal local creado\n",
            "Creencias formadas\n",
            "Modelo Causal local creado\n",
            "Creencias formadas\n",
            "Creencias formadas\n",
            "Modelo Causal local creado\n",
            "Creencias formadas\n"
          ],
          "name": "stdout"
        },
        {
          "output_type": "stream",
          "text": [
            "WARNING:root:Replacing existing CPD for Tratamiento\n",
            "WARNING:root:Replacing existing CPD for Reaccion\n",
            "WARNING:root:Replacing existing CPD for Final\n",
            "WARNING:root:Replacing existing CPD for Enfermedad\n",
            "WARNING:root:Replacing existing CPD for Tratamiento\n",
            "WARNING:root:Replacing existing CPD for Reaccion\n",
            "WARNING:root:Replacing existing CPD for Final\n",
            "WARNING:root:Replacing existing CPD for Enfermedad\n",
            "WARNING:root:Replacing existing CPD for Tratamiento\n",
            "WARNING:root:Replacing existing CPD for Reaccion\n",
            "WARNING:root:Replacing existing CPD for Final\n",
            "WARNING:root:Replacing existing CPD for Enfermedad\n",
            "WARNING:root:Replacing existing CPD for Tratamiento\n",
            "WARNING:root:Replacing existing CPD for Reaccion\n",
            "WARNING:root:Replacing existing CPD for Final\n",
            "WARNING:root:Replacing existing CPD for Enfermedad\n",
            "WARNING:root:Replacing existing CPD for Tratamiento\n",
            "WARNING:root:Replacing existing CPD for Reaccion\n",
            "WARNING:root:Replacing existing CPD for Final\n",
            "WARNING:root:Replacing existing CPD for Enfermedad\n",
            "WARNING:root:Replacing existing CPD for Tratamiento\n",
            "WARNING:root:Replacing existing CPD for Reaccion\n",
            "WARNING:root:Replacing existing CPD for Final\n",
            "WARNING:root:Replacing existing CPD for Enfermedad\n",
            "WARNING:root:Replacing existing CPD for Tratamiento\n",
            "WARNING:root:Replacing existing CPD for Reaccion\n",
            "WARNING:root:Replacing existing CPD for Final\n"
          ],
          "name": "stderr"
        },
        {
          "output_type": "stream",
          "text": [
            "Modelo Causal local creado\n",
            "Creencias formadas\n",
            "Modelo Causal local creado\n",
            "Creencias formadas\n",
            "Modelo Causal local creado\n",
            "Creencias formadas\n",
            "Modelo Causal local creado\n",
            "Creencias formadas\n",
            "Modelo Causal local creado\n",
            "Creencias formadas\n",
            "Modelo Causal local creado\n",
            "Creencias formadas\n",
            "Modelo Causal local creado\n",
            "Creencias formadas\n"
          ],
          "name": "stdout"
        },
        {
          "output_type": "stream",
          "text": [
            "WARNING:root:Replacing existing CPD for Enfermedad\n",
            "WARNING:root:Replacing existing CPD for Tratamiento\n",
            "WARNING:root:Replacing existing CPD for Reaccion\n",
            "WARNING:root:Replacing existing CPD for Final\n",
            "WARNING:root:Replacing existing CPD for Enfermedad\n",
            "WARNING:root:Replacing existing CPD for Tratamiento\n",
            "WARNING:root:Replacing existing CPD for Reaccion\n",
            "WARNING:root:Replacing existing CPD for Final\n",
            "WARNING:root:Replacing existing CPD for Enfermedad\n",
            "WARNING:root:Replacing existing CPD for Tratamiento\n",
            "WARNING:root:Replacing existing CPD for Reaccion\n",
            "WARNING:root:Replacing existing CPD for Final\n",
            "WARNING:root:Replacing existing CPD for Enfermedad\n",
            "WARNING:root:Replacing existing CPD for Tratamiento\n",
            "WARNING:root:Replacing existing CPD for Reaccion\n",
            "WARNING:root:Replacing existing CPD for Final\n",
            "WARNING:root:Replacing existing CPD for Enfermedad\n",
            "WARNING:root:Replacing existing CPD for Tratamiento\n",
            "WARNING:root:Replacing existing CPD for Reaccion\n",
            "WARNING:root:Replacing existing CPD for Final\n",
            "WARNING:root:Replacing existing CPD for Enfermedad\n",
            "WARNING:root:Replacing existing CPD for Tratamiento\n",
            "WARNING:root:Replacing existing CPD for Reaccion\n",
            "WARNING:root:Replacing existing CPD for Final\n",
            "WARNING:root:Replacing existing CPD for Enfermedad\n",
            "WARNING:root:Replacing existing CPD for Tratamiento\n",
            "WARNING:root:Replacing existing CPD for Reaccion\n",
            "WARNING:root:Replacing existing CPD for Final\n",
            "WARNING:root:Replacing existing CPD for Enfermedad\n"
          ],
          "name": "stderr"
        },
        {
          "output_type": "stream",
          "text": [
            "Modelo Causal local creado\n",
            "Creencias formadas\n",
            "Modelo Causal local creado\n",
            "Creencias formadas\n",
            "Creencias formadas\n",
            "Modelo Causal local creado\n",
            "Creencias formadas\n",
            "Modelo Causal local creado\n",
            "Creencias formadas\n",
            "Modelo Causal local creado\n",
            "Creencias formadas\n",
            "Modelo Causal local creado\n",
            "Creencias formadas\n",
            "Modelo Causal local creado\n",
            "Creencias formadas\n"
          ],
          "name": "stdout"
        },
        {
          "output_type": "stream",
          "text": [
            "WARNING:root:Replacing existing CPD for Tratamiento\n",
            "WARNING:root:Replacing existing CPD for Reaccion\n",
            "WARNING:root:Replacing existing CPD for Final\n",
            "WARNING:root:Replacing existing CPD for Enfermedad\n",
            "WARNING:root:Replacing existing CPD for Tratamiento\n",
            "WARNING:root:Replacing existing CPD for Reaccion\n",
            "WARNING:root:Replacing existing CPD for Final\n",
            "WARNING:root:Replacing existing CPD for Enfermedad\n",
            "WARNING:root:Replacing existing CPD for Tratamiento\n",
            "WARNING:root:Replacing existing CPD for Reaccion\n",
            "WARNING:root:Replacing existing CPD for Final\n",
            "WARNING:root:Replacing existing CPD for Enfermedad\n",
            "WARNING:root:Replacing existing CPD for Tratamiento\n",
            "WARNING:root:Replacing existing CPD for Reaccion\n",
            "WARNING:root:Replacing existing CPD for Final\n",
            "WARNING:root:Replacing existing CPD for Enfermedad\n",
            "WARNING:root:Replacing existing CPD for Tratamiento\n",
            "WARNING:root:Replacing existing CPD for Reaccion\n",
            "WARNING:root:Replacing existing CPD for Final\n",
            "WARNING:root:Replacing existing CPD for Enfermedad\n",
            "WARNING:root:Replacing existing CPD for Tratamiento\n",
            "WARNING:root:Replacing existing CPD for Reaccion\n",
            "WARNING:root:Replacing existing CPD for Final\n",
            "WARNING:root:Replacing existing CPD for Enfermedad\n",
            "WARNING:root:Replacing existing CPD for Tratamiento\n",
            "WARNING:root:Replacing existing CPD for Reaccion\n",
            "WARNING:root:Replacing existing CPD for Final\n",
            "WARNING:root:Replacing existing CPD for Enfermedad\n"
          ],
          "name": "stderr"
        },
        {
          "output_type": "stream",
          "text": [
            "Modelo Causal local creado\n",
            "Creencias formadas\n",
            "Modelo Causal local creado\n",
            "Creencias formadas\n",
            "Modelo Causal local creado\n",
            "Creencias formadas\n",
            "Modelo Causal local creado\n",
            "Creencias formadas\n",
            "Modelo Causal local creado\n",
            "Creencias formadas\n",
            "Creencias formadas\n",
            "Modelo Causal local creado\n",
            "Creencias formadas\n",
            "Modelo Causal local creado\n",
            "Creencias formadas\n"
          ],
          "name": "stdout"
        },
        {
          "output_type": "stream",
          "text": [
            "WARNING:root:Replacing existing CPD for Tratamiento\n",
            "WARNING:root:Replacing existing CPD for Reaccion\n",
            "WARNING:root:Replacing existing CPD for Final\n",
            "WARNING:root:Replacing existing CPD for Enfermedad\n",
            "WARNING:root:Replacing existing CPD for Tratamiento\n",
            "WARNING:root:Replacing existing CPD for Reaccion\n",
            "WARNING:root:Replacing existing CPD for Final\n",
            "WARNING:root:Replacing existing CPD for Enfermedad\n",
            "WARNING:root:Replacing existing CPD for Tratamiento\n",
            "WARNING:root:Replacing existing CPD for Reaccion\n",
            "WARNING:root:Replacing existing CPD for Final\n",
            "WARNING:root:Replacing existing CPD for Enfermedad\n",
            "WARNING:root:Replacing existing CPD for Tratamiento\n",
            "WARNING:root:Replacing existing CPD for Reaccion\n",
            "WARNING:root:Replacing existing CPD for Final\n",
            "WARNING:root:Replacing existing CPD for Enfermedad\n",
            "WARNING:root:Replacing existing CPD for Tratamiento\n",
            "WARNING:root:Replacing existing CPD for Reaccion\n",
            "WARNING:root:Replacing existing CPD for Final\n",
            "WARNING:root:Replacing existing CPD for Enfermedad\n",
            "WARNING:root:Replacing existing CPD for Tratamiento\n",
            "WARNING:root:Replacing existing CPD for Reaccion\n",
            "WARNING:root:Replacing existing CPD for Final\n",
            "WARNING:root:Replacing existing CPD for Enfermedad\n",
            "WARNING:root:Replacing existing CPD for Tratamiento\n",
            "WARNING:root:Replacing existing CPD for Reaccion\n",
            "WARNING:root:Replacing existing CPD for Final\n",
            "WARNING:root:Replacing existing CPD for Enfermedad\n",
            "WARNING:root:Replacing existing CPD for Tratamiento\n",
            "WARNING:root:Replacing existing CPD for Reaccion\n",
            "WARNING:root:Replacing existing CPD for Final\n"
          ],
          "name": "stderr"
        },
        {
          "output_type": "stream",
          "text": [
            "Modelo Causal local creado\n",
            "Creencias formadas\n",
            "Modelo Causal local creado\n",
            "Creencias formadas\n",
            "Modelo Causal local creado\n",
            "Creencias formadas\n",
            "Modelo Causal local creado\n",
            "Creencias formadas\n",
            "Modelo Causal local creado\n",
            "Creencias formadas\n",
            "Modelo Causal local creado\n",
            "Creencias formadas\n",
            "Modelo Causal local creado\n",
            "Creencias formadas\n",
            "Modelo Causal local creado\n",
            "Creencias formadas\n"
          ],
          "name": "stdout"
        },
        {
          "output_type": "stream",
          "text": [
            "WARNING:root:Replacing existing CPD for Enfermedad\n",
            "WARNING:root:Replacing existing CPD for Tratamiento\n",
            "WARNING:root:Replacing existing CPD for Reaccion\n",
            "WARNING:root:Replacing existing CPD for Final\n",
            "WARNING:root:Replacing existing CPD for Enfermedad\n",
            "WARNING:root:Replacing existing CPD for Tratamiento\n",
            "WARNING:root:Replacing existing CPD for Reaccion\n",
            "WARNING:root:Replacing existing CPD for Final\n",
            "WARNING:root:Replacing existing CPD for Enfermedad\n",
            "WARNING:root:Replacing existing CPD for Tratamiento\n",
            "WARNING:root:Replacing existing CPD for Reaccion\n",
            "WARNING:root:Replacing existing CPD for Final\n",
            "WARNING:root:Replacing existing CPD for Enfermedad\n",
            "WARNING:root:Replacing existing CPD for Tratamiento\n",
            "WARNING:root:Replacing existing CPD for Reaccion\n",
            "WARNING:root:Replacing existing CPD for Final\n",
            "WARNING:root:Replacing existing CPD for Enfermedad\n",
            "WARNING:root:Replacing existing CPD for Tratamiento\n",
            "WARNING:root:Replacing existing CPD for Reaccion\n",
            "WARNING:root:Replacing existing CPD for Final\n",
            "WARNING:root:Replacing existing CPD for Enfermedad\n",
            "WARNING:root:Replacing existing CPD for Tratamiento\n",
            "WARNING:root:Replacing existing CPD for Reaccion\n",
            "WARNING:root:Replacing existing CPD for Final\n"
          ],
          "name": "stderr"
        },
        {
          "output_type": "stream",
          "text": [
            "Creencias formadas\n",
            "Modelo Causal local creado\n",
            "Creencias formadas\n",
            "Modelo Causal local creado\n",
            "Creencias formadas\n",
            "Modelo Causal local creado\n",
            "Creencias formadas\n",
            "Modelo Causal local creado\n",
            "Creencias formadas\n",
            "Modelo Causal local creado\n",
            "Creencias formadas\n",
            "Modelo Causal local creado\n"
          ],
          "name": "stdout"
        },
        {
          "output_type": "stream",
          "text": [
            "WARNING:root:Replacing existing CPD for Enfermedad\n",
            "WARNING:root:Replacing existing CPD for Tratamiento\n",
            "WARNING:root:Replacing existing CPD for Reaccion\n",
            "WARNING:root:Replacing existing CPD for Final\n",
            "WARNING:root:Replacing existing CPD for Enfermedad\n",
            "WARNING:root:Replacing existing CPD for Tratamiento\n",
            "WARNING:root:Replacing existing CPD for Reaccion\n",
            "WARNING:root:Replacing existing CPD for Final\n",
            "WARNING:root:Replacing existing CPD for Enfermedad\n",
            "WARNING:root:Replacing existing CPD for Tratamiento\n",
            "WARNING:root:Replacing existing CPD for Reaccion\n",
            "WARNING:root:Replacing existing CPD for Final\n",
            "WARNING:root:Replacing existing CPD for Enfermedad\n",
            "WARNING:root:Replacing existing CPD for Tratamiento\n",
            "WARNING:root:Replacing existing CPD for Reaccion\n",
            "WARNING:root:Replacing existing CPD for Final\n",
            "WARNING:root:Replacing existing CPD for Enfermedad\n",
            "WARNING:root:Replacing existing CPD for Tratamiento\n",
            "WARNING:root:Replacing existing CPD for Reaccion\n",
            "WARNING:root:Replacing existing CPD for Final\n",
            "WARNING:root:Replacing existing CPD for Enfermedad\n",
            "WARNING:root:Replacing existing CPD for Tratamiento\n",
            "WARNING:root:Replacing existing CPD for Reaccion\n",
            "WARNING:root:Replacing existing CPD for Final\n",
            "WARNING:root:Replacing existing CPD for Enfermedad\n",
            "WARNING:root:Replacing existing CPD for Tratamiento\n",
            "WARNING:root:Replacing existing CPD for Reaccion\n",
            "WARNING:root:Replacing existing CPD for Final\n",
            "WARNING:root:Replacing existing CPD for Enfermedad\n"
          ],
          "name": "stderr"
        },
        {
          "output_type": "stream",
          "text": [
            "Creencias formadas\n",
            "Modelo Causal local creado\n",
            "Creencias formadas\n",
            "Modelo Causal local creado\n",
            "Creencias formadas\n",
            "Modelo Causal local creado\n",
            "Creencias formadas\n",
            "Modelo Causal local creado\n",
            "Creencias formadas\n",
            "Creencias formadas\n",
            "Modelo Causal local creado\n",
            "Creencias formadas\n",
            "Modelo Causal local creado\n",
            "Creencias formadas\n",
            "Modelo Causal local creado\n",
            "Creencias formadas\n"
          ],
          "name": "stdout"
        },
        {
          "output_type": "stream",
          "text": [
            "WARNING:root:Replacing existing CPD for Tratamiento\n",
            "WARNING:root:Replacing existing CPD for Reaccion\n",
            "WARNING:root:Replacing existing CPD for Final\n",
            "WARNING:root:Replacing existing CPD for Enfermedad\n",
            "WARNING:root:Replacing existing CPD for Tratamiento\n",
            "WARNING:root:Replacing existing CPD for Reaccion\n",
            "WARNING:root:Replacing existing CPD for Final\n",
            "WARNING:root:Replacing existing CPD for Enfermedad\n",
            "WARNING:root:Replacing existing CPD for Tratamiento\n",
            "WARNING:root:Replacing existing CPD for Reaccion\n",
            "WARNING:root:Replacing existing CPD for Final\n",
            "WARNING:root:Replacing existing CPD for Enfermedad\n",
            "WARNING:root:Replacing existing CPD for Tratamiento\n",
            "WARNING:root:Replacing existing CPD for Reaccion\n",
            "WARNING:root:Replacing existing CPD for Final\n",
            "WARNING:root:Replacing existing CPD for Enfermedad\n",
            "WARNING:root:Replacing existing CPD for Tratamiento\n",
            "WARNING:root:Replacing existing CPD for Reaccion\n",
            "WARNING:root:Replacing existing CPD for Final\n",
            "WARNING:root:Replacing existing CPD for Enfermedad\n",
            "WARNING:root:Replacing existing CPD for Tratamiento\n",
            "WARNING:root:Replacing existing CPD for Reaccion\n",
            "WARNING:root:Replacing existing CPD for Final\n",
            "WARNING:root:Replacing existing CPD for Enfermedad\n",
            "WARNING:root:Replacing existing CPD for Tratamiento\n",
            "WARNING:root:Replacing existing CPD for Reaccion\n",
            "WARNING:root:Replacing existing CPD for Final\n",
            "WARNING:root:Replacing existing CPD for Enfermedad\n",
            "WARNING:root:Replacing existing CPD for Tratamiento\n",
            "WARNING:root:Replacing existing CPD for Reaccion\n",
            "WARNING:root:Replacing existing CPD for Final\n"
          ],
          "name": "stderr"
        },
        {
          "output_type": "stream",
          "text": [
            "Modelo Causal local creado\n",
            "Creencias formadas\n",
            "Modelo Causal local creado\n",
            "Creencias formadas\n",
            "Modelo Causal local creado\n",
            "Creencias formadas\n",
            "Modelo Causal local creado\n",
            "Creencias formadas\n",
            "Modelo Causal local creado\n",
            "Creencias formadas\n",
            "Modelo Causal local creado\n",
            "Creencias formadas\n",
            "Modelo Causal local creado\n",
            "Creencias formadas\n",
            "Creencias formadas\n"
          ],
          "name": "stdout"
        },
        {
          "output_type": "stream",
          "text": [
            "WARNING:root:Replacing existing CPD for Enfermedad\n",
            "WARNING:root:Replacing existing CPD for Tratamiento\n",
            "WARNING:root:Replacing existing CPD for Reaccion\n",
            "WARNING:root:Replacing existing CPD for Final\n",
            "WARNING:root:Replacing existing CPD for Enfermedad\n",
            "WARNING:root:Replacing existing CPD for Tratamiento\n",
            "WARNING:root:Replacing existing CPD for Reaccion\n",
            "WARNING:root:Replacing existing CPD for Final\n",
            "WARNING:root:Replacing existing CPD for Enfermedad\n",
            "WARNING:root:Replacing existing CPD for Tratamiento\n",
            "WARNING:root:Replacing existing CPD for Reaccion\n",
            "WARNING:root:Replacing existing CPD for Final\n",
            "WARNING:root:Replacing existing CPD for Enfermedad\n",
            "WARNING:root:Replacing existing CPD for Tratamiento\n",
            "WARNING:root:Replacing existing CPD for Reaccion\n",
            "WARNING:root:Replacing existing CPD for Final\n",
            "WARNING:root:Replacing existing CPD for Enfermedad\n",
            "WARNING:root:Replacing existing CPD for Tratamiento\n",
            "WARNING:root:Replacing existing CPD for Reaccion\n",
            "WARNING:root:Replacing existing CPD for Final\n",
            "WARNING:root:Replacing existing CPD for Enfermedad\n",
            "WARNING:root:Replacing existing CPD for Tratamiento\n",
            "WARNING:root:Replacing existing CPD for Reaccion\n",
            "WARNING:root:Replacing existing CPD for Final\n"
          ],
          "name": "stderr"
        },
        {
          "output_type": "stream",
          "text": [
            "Modelo Causal local creado\n",
            "Creencias formadas\n",
            "Modelo Causal local creado\n",
            "Creencias formadas\n",
            "Modelo Causal local creado\n",
            "Creencias formadas\n",
            "Modelo Causal local creado\n",
            "Creencias formadas\n",
            "Modelo Causal local creado\n",
            "Creencias formadas\n",
            "Modelo Causal local creado\n",
            "Creencias formadas\n",
            "Modelo Causal local creado\n"
          ],
          "name": "stdout"
        },
        {
          "output_type": "stream",
          "text": [
            "WARNING:root:Replacing existing CPD for Enfermedad\n",
            "WARNING:root:Replacing existing CPD for Tratamiento\n",
            "WARNING:root:Replacing existing CPD for Reaccion\n",
            "WARNING:root:Replacing existing CPD for Final\n",
            "WARNING:root:Replacing existing CPD for Enfermedad\n",
            "WARNING:root:Replacing existing CPD for Tratamiento\n",
            "WARNING:root:Replacing existing CPD for Reaccion\n",
            "WARNING:root:Replacing existing CPD for Final\n",
            "WARNING:root:Replacing existing CPD for Enfermedad\n",
            "WARNING:root:Replacing existing CPD for Tratamiento\n",
            "WARNING:root:Replacing existing CPD for Reaccion\n",
            "WARNING:root:Replacing existing CPD for Final\n",
            "WARNING:root:Replacing existing CPD for Enfermedad\n",
            "WARNING:root:Replacing existing CPD for Tratamiento\n",
            "WARNING:root:Replacing existing CPD for Reaccion\n",
            "WARNING:root:Replacing existing CPD for Final\n",
            "WARNING:root:Replacing existing CPD for Enfermedad\n",
            "WARNING:root:Replacing existing CPD for Tratamiento\n",
            "WARNING:root:Replacing existing CPD for Reaccion\n",
            "WARNING:root:Replacing existing CPD for Final\n",
            "WARNING:root:Replacing existing CPD for Enfermedad\n",
            "WARNING:root:Replacing existing CPD for Tratamiento\n",
            "WARNING:root:Replacing existing CPD for Reaccion\n",
            "WARNING:root:Replacing existing CPD for Final\n",
            "WARNING:root:Replacing existing CPD for Enfermedad\n",
            "WARNING:root:Replacing existing CPD for Tratamiento\n",
            "WARNING:root:Replacing existing CPD for Reaccion\n",
            "WARNING:root:Replacing existing CPD for Final\n",
            "WARNING:root:Replacing existing CPD for Enfermedad\n"
          ],
          "name": "stderr"
        },
        {
          "output_type": "stream",
          "text": [
            "Creencias formadas\n",
            "Modelo Causal local creado\n",
            "Creencias formadas\n",
            "Modelo Causal local creado\n",
            "Creencias formadas\n",
            "Modelo Causal local creado\n",
            "Creencias formadas\n",
            "Creencias formadas\n",
            "Modelo Causal local creado\n",
            "Creencias formadas\n",
            "Modelo Causal local creado\n",
            "Creencias formadas\n",
            "Modelo Causal local creado\n",
            "Creencias formadas\n",
            "Modelo Causal local creado\n",
            "Creencias formadas\n"
          ],
          "name": "stdout"
        },
        {
          "output_type": "stream",
          "text": [
            "WARNING:root:Replacing existing CPD for Tratamiento\n",
            "WARNING:root:Replacing existing CPD for Reaccion\n",
            "WARNING:root:Replacing existing CPD for Final\n",
            "WARNING:root:Replacing existing CPD for Enfermedad\n",
            "WARNING:root:Replacing existing CPD for Tratamiento\n",
            "WARNING:root:Replacing existing CPD for Reaccion\n",
            "WARNING:root:Replacing existing CPD for Final\n",
            "WARNING:root:Replacing existing CPD for Enfermedad\n",
            "WARNING:root:Replacing existing CPD for Tratamiento\n",
            "WARNING:root:Replacing existing CPD for Reaccion\n",
            "WARNING:root:Replacing existing CPD for Final\n",
            "WARNING:root:Replacing existing CPD for Enfermedad\n",
            "WARNING:root:Replacing existing CPD for Tratamiento\n",
            "WARNING:root:Replacing existing CPD for Reaccion\n",
            "WARNING:root:Replacing existing CPD for Final\n",
            "WARNING:root:Replacing existing CPD for Enfermedad\n",
            "WARNING:root:Replacing existing CPD for Tratamiento\n",
            "WARNING:root:Replacing existing CPD for Reaccion\n",
            "WARNING:root:Replacing existing CPD for Final\n",
            "WARNING:root:Replacing existing CPD for Enfermedad\n",
            "WARNING:root:Replacing existing CPD for Tratamiento\n",
            "WARNING:root:Replacing existing CPD for Reaccion\n",
            "WARNING:root:Replacing existing CPD for Final\n",
            "WARNING:root:Replacing existing CPD for Enfermedad\n",
            "WARNING:root:Replacing existing CPD for Tratamiento\n",
            "WARNING:root:Replacing existing CPD for Reaccion\n",
            "WARNING:root:Replacing existing CPD for Final\n"
          ],
          "name": "stderr"
        },
        {
          "output_type": "stream",
          "text": [
            "Modelo Causal local creado\n",
            "Creencias formadas\n",
            "Modelo Causal local creado\n",
            "Creencias formadas\n",
            "Modelo Causal local creado\n",
            "Creencias formadas\n",
            "Modelo Causal local creado\n",
            "Creencias formadas\n",
            "Modelo Causal local creado\n",
            "Creencias formadas\n",
            "Modelo Causal local creado\n",
            "Creencias formadas\n",
            "Creencias formadas\n",
            "Modelo Causal local creado\n"
          ],
          "name": "stdout"
        },
        {
          "output_type": "stream",
          "text": [
            "WARNING:root:Replacing existing CPD for Enfermedad\n",
            "WARNING:root:Replacing existing CPD for Tratamiento\n",
            "WARNING:root:Replacing existing CPD for Reaccion\n",
            "WARNING:root:Replacing existing CPD for Final\n",
            "WARNING:root:Replacing existing CPD for Enfermedad\n",
            "WARNING:root:Replacing existing CPD for Tratamiento\n",
            "WARNING:root:Replacing existing CPD for Reaccion\n",
            "WARNING:root:Replacing existing CPD for Final\n",
            "WARNING:root:Replacing existing CPD for Enfermedad\n",
            "WARNING:root:Replacing existing CPD for Tratamiento\n",
            "WARNING:root:Replacing existing CPD for Reaccion\n",
            "WARNING:root:Replacing existing CPD for Final\n",
            "WARNING:root:Replacing existing CPD for Enfermedad\n",
            "WARNING:root:Replacing existing CPD for Tratamiento\n",
            "WARNING:root:Replacing existing CPD for Reaccion\n",
            "WARNING:root:Replacing existing CPD for Final\n",
            "WARNING:root:Replacing existing CPD for Enfermedad\n",
            "WARNING:root:Replacing existing CPD for Tratamiento\n",
            "WARNING:root:Replacing existing CPD for Reaccion\n",
            "WARNING:root:Replacing existing CPD for Final\n",
            "WARNING:root:Replacing existing CPD for Enfermedad\n",
            "WARNING:root:Replacing existing CPD for Tratamiento\n",
            "WARNING:root:Replacing existing CPD for Reaccion\n",
            "WARNING:root:Replacing existing CPD for Final\n",
            "WARNING:root:Replacing existing CPD for Enfermedad\n",
            "WARNING:root:Replacing existing CPD for Tratamiento\n",
            "WARNING:root:Replacing existing CPD for Reaccion\n",
            "WARNING:root:Replacing existing CPD for Final\n",
            "WARNING:root:Replacing existing CPD for Enfermedad\n"
          ],
          "name": "stderr"
        },
        {
          "output_type": "stream",
          "text": [
            "Creencias formadas\n",
            "Modelo Causal local creado\n",
            "Creencias formadas\n",
            "Modelo Causal local creado\n",
            "Creencias formadas\n",
            "Modelo Causal local creado\n",
            "Creencias formadas\n",
            "Modelo Causal local creado\n",
            "Creencias formadas\n",
            "Modelo Causal local creado\n",
            "Creencias formadas\n",
            "Modelo Causal local creado\n",
            "Creencias formadas\n",
            "Modelo Causal local creado\n",
            "Creencias formadas\n"
          ],
          "name": "stdout"
        },
        {
          "output_type": "stream",
          "text": [
            "WARNING:root:Replacing existing CPD for Tratamiento\n",
            "WARNING:root:Replacing existing CPD for Reaccion\n",
            "WARNING:root:Replacing existing CPD for Final\n",
            "WARNING:root:Replacing existing CPD for Enfermedad\n",
            "WARNING:root:Replacing existing CPD for Tratamiento\n",
            "WARNING:root:Replacing existing CPD for Reaccion\n",
            "WARNING:root:Replacing existing CPD for Final\n"
          ],
          "name": "stderr"
        },
        {
          "output_type": "stream",
          "text": [
            "Modelo Causal local creado\n",
            "Creencias formadas\n",
            "Modelo Causal local creado\n"
          ],
          "name": "stdout"
        },
        {
          "output_type": "display_data",
          "data": {
            "image/png": "[encoded data removed]",
            "text/plain": [
              "<Figure size 720x360 with 1 Axes>"
            ]
          },
          "metadata": {
            "tags": [],
            "needs_background": "light"
          }
        }
      ]
    },
    {
      "cell_type": "markdown",
      "metadata": {
        "id": "wAGgbSp2QnkL",
        "colab_type": "text"
      },
      "source": [
        "### Grafica todos los experimentos"
      ]
    },
    {
      "cell_type": "code",
      "metadata": {
        "id": "r6xI5Z_HQuyn",
        "colab_type": "code",
        "outputId": "8998cf8b-1809-4d39-f20c-59b7e030cdbd",
        "colab": {
          "base_uri": "https://localhost:8080/",
          "height": 352
        }
      },
      "source": [
        "plot_x_axis = [_ for _ in range(N_ITERS + 1)]\n",
        "results = [\\\n",
        "           rewards_causal_agent,\n",
        "           rewards_fully_informed_agent,\n",
        "           rewards_q_learning_agent,\n",
        "           rewards_random_agent\n",
        "           ]\n",
        "labels = [\"Causal agent\", \"Fully informed\", \"Q-learning\", \"Random\"]\n",
        "edge_color_codes = [\"#c0392b\", \"#2980b9\", \"#138d75\", \"#f39c12\"]\n",
        "face_color_codes = [\"#c0392b\", \"#3498db\", \"#27ae60\", \"#f1c40f\"]\n",
        "\n",
        "i = 0\n",
        "\n",
        "for measures in results:\n",
        "  mean = measures[0]\n",
        "  std_dev = measures[1]\n",
        "  plt.plot(plot_x_axis, mean, label=labels[i], color=edge_color_codes[i])\n",
        "  plt.fill_between(plot_x_axis, mean - std_dev, mean + std_dev,\\\n",
        "                 alpha=0.2, edgecolor=edge_color_codes[i], facecolor=\\\n",
        "                 face_color_codes[i])\n",
        "  i += 1\n",
        "plt.xlabel(\"# Rounds\")\n",
        "plt.ylabel(\"Average Reward (#{} experiments)\".format(N_EXPERIMENTS))\n",
        "plt.legend(loc='best')"
      ],
      "execution_count": 99,
      "outputs": [
        {
          "output_type": "execute_result",
          "data": {
            "text/plain": [
              "<matplotlib.legend.Legend at 0x7fa6eaf12c18>"
            ]
          },
          "metadata": {
            "tags": []
          },
          "execution_count": 99
        },
        {
          "output_type": "display_data",
          "data": {
            "image/png": "[encoded data removed]",
            "text/plain": [
              "<Figure size 720x360 with 1 Axes>"
            ]
          },
          "metadata": {
            "tags": [],
            "needs_background": "light"
          }
        }
      ]
    },
    {
      "cell_type": "code",
      "metadata": {
        "id": "7g9jD8PYUFE8",
        "colab_type": "code",
        "colab": {}
      },
      "source": [
        ""
      ],
      "execution_count": 0,
      "outputs": []
    }
  ]
}